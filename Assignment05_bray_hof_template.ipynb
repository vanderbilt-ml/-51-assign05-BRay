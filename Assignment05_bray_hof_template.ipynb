{
  "nbformat": 4,
  "nbformat_minor": 0,
  "metadata": {
    "colab": {
      "name": "Assignment05-bray_hof_template.ipynb",
      "provenance": [],
      "collapsed_sections": [],
      "mount_file_id": "1D7lL00bM3LFe-ceDHkYUdxxXNzBWY_gE",
      "authorship_tag": "ABX9TyPxoMQY5UXoi66og0II7ZnI",
      "include_colab_link": true
    },
    "kernelspec": {
      "name": "python3",
      "display_name": "Python 3"
    },
    "language_info": {
      "name": "python"
    }
  },
  "cells": [
    {
      "cell_type": "markdown",
      "metadata": {
        "id": "view-in-github",
        "colab_type": "text"
      },
      "source": [
        "<a href=\"https://colab.research.google.com/github/vanderbilt-ml/51-assign05-BRay/blob/main/Assignment05_bray_hof_template.ipynb\" target=\"_parent\"><img src=\"https://colab.research.google.com/assets/colab-badge.svg\" alt=\"Open In Colab\"/></a>"
      ]
    },
    {
      "cell_type": "markdown",
      "source": [
        "# Basketball Hall of Fame"
      ],
      "metadata": {
        "id": "N4u5TRr2Gaiy"
      }
    },
    {
      "cell_type": "markdown",
      "source": [
        "Imports"
      ],
      "metadata": {
        "id": "5f0pPxBsGgnV"
      }
    },
    {
      "cell_type": "code",
      "source": [
        "from google.colab import drive\n",
        "drive.mount('/content/drive')"
      ],
      "metadata": {
        "colab": {
          "base_uri": "https://localhost:8080/"
        },
        "id": "RFNwi10gLfKC",
        "outputId": "4a9741d7-4960-4a57-969f-45cb8eb059e6"
      },
      "execution_count": 214,
      "outputs": [
        {
          "output_type": "stream",
          "name": "stdout",
          "text": [
            "Drive already mounted at /content/drive; to attempt to forcibly remount, call drive.mount(\"/content/drive\", force_remount=True).\n"
          ]
        }
      ]
    },
    {
      "cell_type": "code",
      "execution_count": 231,
      "metadata": {
        "id": "Kmy9fFK5GGIB"
      },
      "outputs": [],
      "source": [
        "#tables and visualizations\n",
        "import pandas as pd\n",
        "import numpy as np\n",
        "import seaborn as sns\n",
        "import matplotlib.pyplot as plt\n",
        "\n",
        "#machine learning\n",
        "from sklearn.ensemble import GradientBoostingClassifier, RandomTreesEmbedding #Gradient Model\n",
        "from sklearn.model_selection import train_test_split, GridSearchCV\n",
        "from sklearn.linear_model import LogisticRegression\n",
        "from sklearn.ensemble import RandomForestClassifier\n",
        "from sklearn.pipeline import Pipeline \n",
        "from sklearn.compose import ColumnTransformer, make_column_selector\n",
        "from sklearn.impute import SimpleImputer\n",
        "from sklearn.preprocessing import OneHotEncoder, LabelBinarizer, StandardScaler\n",
        "from sklearn import config_context\n",
        "from sklearn.metrics import classification_report, confusion_matrix, ConfusionMatrixDisplay"
      ]
    },
    {
      "cell_type": "markdown",
      "source": [
        "employee_df = pd.read_csv('seasons.csv')\n",
        "display(employee_df.head())\n",
        "employee_df.info()"
      ],
      "metadata": {
        "id": "i2GeZvy7GZcP"
      }
    },
    {
      "cell_type": "code",
      "source": [
        "#employee_df = pd.read_csv('./MyDrive/csv/seasons.csv')\n",
        "#display(employee_df.head())\n",
        "#employee_df.info()\n",
        "\n",
        "\n",
        "path=\"/content/drive/MyDrive/csv/seasons_stats.csv\";\n",
        "hof_df=pd.read_csv(path)\n",
        "\n",
        "display(hof_df.head())\n",
        "hof_df.info()"
      ],
      "metadata": {
        "colab": {
          "base_uri": "https://localhost:8080/",
          "height": 1000
        },
        "id": "vspm3nDjLC3b",
        "outputId": "116e16dc-9f1d-4d1c-bf39-7bb81b15fd4e"
      },
      "execution_count": 246,
      "outputs": [
        {
          "output_type": "display_data",
          "data": {
            "text/plain": [
              "     Year HOF      Player Pos   Age   Tm     G    GS      MP   PER  ...  \\\n",
              "0  1986.0  No  A.C. Green  PF  22.0  LAL  82.0   1.0  1542.0  11.8  ...   \n",
              "1  1987.0  No  A.C. Green  PF  23.0  LAL  79.0  72.0  2240.0  15.7  ...   \n",
              "2  1988.0  No  A.C. Green  PF  24.0  LAL  82.0  64.0  2636.0  14.5  ...   \n",
              "3  1989.0  No  A.C. Green  PF  25.0  LAL  82.0  82.0  2510.0  17.8  ...   \n",
              "4  1990.0  No  A.C. Green  PF  26.0  LAL  82.0  82.0  2709.0  14.7  ...   \n",
              "\n",
              "     FT%    ORB    DRB    TRB    AST   STL   BLK    TOV     PF     PTS  \n",
              "0  0.611  160.0  221.0  381.0   54.0  49.0  49.0   99.0  229.0   521.0  \n",
              "1  0.780  210.0  405.0  615.0   84.0  70.0  80.0  102.0  171.0   852.0  \n",
              "2  0.773  245.0  465.0  710.0   93.0  87.0  45.0  120.0  204.0   937.0  \n",
              "3  0.786  258.0  481.0  739.0  103.0  94.0  55.0  119.0  172.0  1088.0  \n",
              "4  0.751  262.0  450.0  712.0   90.0  66.0  50.0  116.0  207.0  1061.0  \n",
              "\n",
              "[5 rows x 51 columns]"
            ],
            "text/html": [
              "\n",
              "  <div id=\"df-9666b3e0-bd08-4422-87fa-8d2881615adc\">\n",
              "    <div class=\"colab-df-container\">\n",
              "      <div>\n",
              "<style scoped>\n",
              "    .dataframe tbody tr th:only-of-type {\n",
              "        vertical-align: middle;\n",
              "    }\n",
              "\n",
              "    .dataframe tbody tr th {\n",
              "        vertical-align: top;\n",
              "    }\n",
              "\n",
              "    .dataframe thead th {\n",
              "        text-align: right;\n",
              "    }\n",
              "</style>\n",
              "<table border=\"1\" class=\"dataframe\">\n",
              "  <thead>\n",
              "    <tr style=\"text-align: right;\">\n",
              "      <th></th>\n",
              "      <th>Year</th>\n",
              "      <th>HOF</th>\n",
              "      <th>Player</th>\n",
              "      <th>Pos</th>\n",
              "      <th>Age</th>\n",
              "      <th>Tm</th>\n",
              "      <th>G</th>\n",
              "      <th>GS</th>\n",
              "      <th>MP</th>\n",
              "      <th>PER</th>\n",
              "      <th>...</th>\n",
              "      <th>FT%</th>\n",
              "      <th>ORB</th>\n",
              "      <th>DRB</th>\n",
              "      <th>TRB</th>\n",
              "      <th>AST</th>\n",
              "      <th>STL</th>\n",
              "      <th>BLK</th>\n",
              "      <th>TOV</th>\n",
              "      <th>PF</th>\n",
              "      <th>PTS</th>\n",
              "    </tr>\n",
              "  </thead>\n",
              "  <tbody>\n",
              "    <tr>\n",
              "      <th>0</th>\n",
              "      <td>1986.0</td>\n",
              "      <td>No</td>\n",
              "      <td>A.C. Green</td>\n",
              "      <td>PF</td>\n",
              "      <td>22.0</td>\n",
              "      <td>LAL</td>\n",
              "      <td>82.0</td>\n",
              "      <td>1.0</td>\n",
              "      <td>1542.0</td>\n",
              "      <td>11.8</td>\n",
              "      <td>...</td>\n",
              "      <td>0.611</td>\n",
              "      <td>160.0</td>\n",
              "      <td>221.0</td>\n",
              "      <td>381.0</td>\n",
              "      <td>54.0</td>\n",
              "      <td>49.0</td>\n",
              "      <td>49.0</td>\n",
              "      <td>99.0</td>\n",
              "      <td>229.0</td>\n",
              "      <td>521.0</td>\n",
              "    </tr>\n",
              "    <tr>\n",
              "      <th>1</th>\n",
              "      <td>1987.0</td>\n",
              "      <td>No</td>\n",
              "      <td>A.C. Green</td>\n",
              "      <td>PF</td>\n",
              "      <td>23.0</td>\n",
              "      <td>LAL</td>\n",
              "      <td>79.0</td>\n",
              "      <td>72.0</td>\n",
              "      <td>2240.0</td>\n",
              "      <td>15.7</td>\n",
              "      <td>...</td>\n",
              "      <td>0.780</td>\n",
              "      <td>210.0</td>\n",
              "      <td>405.0</td>\n",
              "      <td>615.0</td>\n",
              "      <td>84.0</td>\n",
              "      <td>70.0</td>\n",
              "      <td>80.0</td>\n",
              "      <td>102.0</td>\n",
              "      <td>171.0</td>\n",
              "      <td>852.0</td>\n",
              "    </tr>\n",
              "    <tr>\n",
              "      <th>2</th>\n",
              "      <td>1988.0</td>\n",
              "      <td>No</td>\n",
              "      <td>A.C. Green</td>\n",
              "      <td>PF</td>\n",
              "      <td>24.0</td>\n",
              "      <td>LAL</td>\n",
              "      <td>82.0</td>\n",
              "      <td>64.0</td>\n",
              "      <td>2636.0</td>\n",
              "      <td>14.5</td>\n",
              "      <td>...</td>\n",
              "      <td>0.773</td>\n",
              "      <td>245.0</td>\n",
              "      <td>465.0</td>\n",
              "      <td>710.0</td>\n",
              "      <td>93.0</td>\n",
              "      <td>87.0</td>\n",
              "      <td>45.0</td>\n",
              "      <td>120.0</td>\n",
              "      <td>204.0</td>\n",
              "      <td>937.0</td>\n",
              "    </tr>\n",
              "    <tr>\n",
              "      <th>3</th>\n",
              "      <td>1989.0</td>\n",
              "      <td>No</td>\n",
              "      <td>A.C. Green</td>\n",
              "      <td>PF</td>\n",
              "      <td>25.0</td>\n",
              "      <td>LAL</td>\n",
              "      <td>82.0</td>\n",
              "      <td>82.0</td>\n",
              "      <td>2510.0</td>\n",
              "      <td>17.8</td>\n",
              "      <td>...</td>\n",
              "      <td>0.786</td>\n",
              "      <td>258.0</td>\n",
              "      <td>481.0</td>\n",
              "      <td>739.0</td>\n",
              "      <td>103.0</td>\n",
              "      <td>94.0</td>\n",
              "      <td>55.0</td>\n",
              "      <td>119.0</td>\n",
              "      <td>172.0</td>\n",
              "      <td>1088.0</td>\n",
              "    </tr>\n",
              "    <tr>\n",
              "      <th>4</th>\n",
              "      <td>1990.0</td>\n",
              "      <td>No</td>\n",
              "      <td>A.C. Green</td>\n",
              "      <td>PF</td>\n",
              "      <td>26.0</td>\n",
              "      <td>LAL</td>\n",
              "      <td>82.0</td>\n",
              "      <td>82.0</td>\n",
              "      <td>2709.0</td>\n",
              "      <td>14.7</td>\n",
              "      <td>...</td>\n",
              "      <td>0.751</td>\n",
              "      <td>262.0</td>\n",
              "      <td>450.0</td>\n",
              "      <td>712.0</td>\n",
              "      <td>90.0</td>\n",
              "      <td>66.0</td>\n",
              "      <td>50.0</td>\n",
              "      <td>116.0</td>\n",
              "      <td>207.0</td>\n",
              "      <td>1061.0</td>\n",
              "    </tr>\n",
              "  </tbody>\n",
              "</table>\n",
              "<p>5 rows × 51 columns</p>\n",
              "</div>\n",
              "      <button class=\"colab-df-convert\" onclick=\"convertToInteractive('df-9666b3e0-bd08-4422-87fa-8d2881615adc')\"\n",
              "              title=\"Convert this dataframe to an interactive table.\"\n",
              "              style=\"display:none;\">\n",
              "        \n",
              "  <svg xmlns=\"http://www.w3.org/2000/svg\" height=\"24px\"viewBox=\"0 0 24 24\"\n",
              "       width=\"24px\">\n",
              "    <path d=\"M0 0h24v24H0V0z\" fill=\"none\"/>\n",
              "    <path d=\"M18.56 5.44l.94 2.06.94-2.06 2.06-.94-2.06-.94-.94-2.06-.94 2.06-2.06.94zm-11 1L8.5 8.5l.94-2.06 2.06-.94-2.06-.94L8.5 2.5l-.94 2.06-2.06.94zm10 10l.94 2.06.94-2.06 2.06-.94-2.06-.94-.94-2.06-.94 2.06-2.06.94z\"/><path d=\"M17.41 7.96l-1.37-1.37c-.4-.4-.92-.59-1.43-.59-.52 0-1.04.2-1.43.59L10.3 9.45l-7.72 7.72c-.78.78-.78 2.05 0 2.83L4 21.41c.39.39.9.59 1.41.59.51 0 1.02-.2 1.41-.59l7.78-7.78 2.81-2.81c.8-.78.8-2.07 0-2.86zM5.41 20L4 18.59l7.72-7.72 1.47 1.35L5.41 20z\"/>\n",
              "  </svg>\n",
              "      </button>\n",
              "      \n",
              "  <style>\n",
              "    .colab-df-container {\n",
              "      display:flex;\n",
              "      flex-wrap:wrap;\n",
              "      gap: 12px;\n",
              "    }\n",
              "\n",
              "    .colab-df-convert {\n",
              "      background-color: #E8F0FE;\n",
              "      border: none;\n",
              "      border-radius: 50%;\n",
              "      cursor: pointer;\n",
              "      display: none;\n",
              "      fill: #1967D2;\n",
              "      height: 32px;\n",
              "      padding: 0 0 0 0;\n",
              "      width: 32px;\n",
              "    }\n",
              "\n",
              "    .colab-df-convert:hover {\n",
              "      background-color: #E2EBFA;\n",
              "      box-shadow: 0px 1px 2px rgba(60, 64, 67, 0.3), 0px 1px 3px 1px rgba(60, 64, 67, 0.15);\n",
              "      fill: #174EA6;\n",
              "    }\n",
              "\n",
              "    [theme=dark] .colab-df-convert {\n",
              "      background-color: #3B4455;\n",
              "      fill: #D2E3FC;\n",
              "    }\n",
              "\n",
              "    [theme=dark] .colab-df-convert:hover {\n",
              "      background-color: #434B5C;\n",
              "      box-shadow: 0px 1px 3px 1px rgba(0, 0, 0, 0.15);\n",
              "      filter: drop-shadow(0px 1px 2px rgba(0, 0, 0, 0.3));\n",
              "      fill: #FFFFFF;\n",
              "    }\n",
              "  </style>\n",
              "\n",
              "      <script>\n",
              "        const buttonEl =\n",
              "          document.querySelector('#df-9666b3e0-bd08-4422-87fa-8d2881615adc button.colab-df-convert');\n",
              "        buttonEl.style.display =\n",
              "          google.colab.kernel.accessAllowed ? 'block' : 'none';\n",
              "\n",
              "        async function convertToInteractive(key) {\n",
              "          const element = document.querySelector('#df-9666b3e0-bd08-4422-87fa-8d2881615adc');\n",
              "          const dataTable =\n",
              "            await google.colab.kernel.invokeFunction('convertToInteractive',\n",
              "                                                     [key], {});\n",
              "          if (!dataTable) return;\n",
              "\n",
              "          const docLinkHtml = 'Like what you see? Visit the ' +\n",
              "            '<a target=\"_blank\" href=https://colab.research.google.com/notebooks/data_table.ipynb>data table notebook</a>'\n",
              "            + ' to learn more about interactive tables.';\n",
              "          element.innerHTML = '';\n",
              "          dataTable['output_type'] = 'display_data';\n",
              "          await google.colab.output.renderOutput(dataTable, element);\n",
              "          const docLink = document.createElement('div');\n",
              "          docLink.innerHTML = docLinkHtml;\n",
              "          element.appendChild(docLink);\n",
              "        }\n",
              "      </script>\n",
              "    </div>\n",
              "  </div>\n",
              "  "
            ]
          },
          "metadata": {}
        },
        {
          "output_type": "stream",
          "name": "stdout",
          "text": [
            "<class 'pandas.core.frame.DataFrame'>\n",
            "RangeIndex: 24691 entries, 0 to 24690\n",
            "Data columns (total 51 columns):\n",
            " #   Column  Non-Null Count  Dtype  \n",
            "---  ------  --------------  -----  \n",
            " 0   Year    24624 non-null  float64\n",
            " 1   HOF     24679 non-null  object \n",
            " 2   Player  24624 non-null  object \n",
            " 3   Pos     24624 non-null  object \n",
            " 4   Age     24616 non-null  float64\n",
            " 5   Tm      24624 non-null  object \n",
            " 6   G       24624 non-null  float64\n",
            " 7   GS      18234 non-null  float64\n",
            " 8   MP      24138 non-null  float64\n",
            " 9   PER     24101 non-null  float64\n",
            " 10  TS%     24538 non-null  float64\n",
            " 11  3PAr    18840 non-null  float64\n",
            " 12  FTr     24525 non-null  float64\n",
            " 13  ORB%    20792 non-null  float64\n",
            " 14  DRB%    20792 non-null  float64\n",
            " 15  TRB%    21571 non-null  float64\n",
            " 16  AST%    22555 non-null  float64\n",
            " 17  STL%    20792 non-null  float64\n",
            " 18  BLK%    20792 non-null  float64\n",
            " 19  TOV%    19583 non-null  float64\n",
            " 20  USG%    19641 non-null  float64\n",
            " 21  OWS     24585 non-null  float64\n",
            " 22  DWS     24585 non-null  float64\n",
            " 23  WS      24585 non-null  float64\n",
            " 24  WS/48   24101 non-null  float64\n",
            " 25  OBPM    20797 non-null  float64\n",
            " 26  DBPM    20797 non-null  float64\n",
            " 27  BPM     20797 non-null  float64\n",
            " 28  VORP    20797 non-null  float64\n",
            " 29  FG      24624 non-null  float64\n",
            " 30  FGA     24624 non-null  float64\n",
            " 31  FG%     24525 non-null  float64\n",
            " 32  3P      18928 non-null  float64\n",
            " 33  3PA     18928 non-null  float64\n",
            " 34  3P%     15417 non-null  float64\n",
            " 35  2P      24624 non-null  float64\n",
            " 36  2PA     24624 non-null  float64\n",
            " 37  2P%     24496 non-null  float64\n",
            " 38  eFG%    24525 non-null  float64\n",
            " 39  FT      24624 non-null  float64\n",
            " 40  FTA     24624 non-null  float64\n",
            " 41  FT%     23766 non-null  float64\n",
            " 42  ORB     20797 non-null  float64\n",
            " 43  DRB     20797 non-null  float64\n",
            " 44  TRB     24312 non-null  float64\n",
            " 45  AST     24624 non-null  float64\n",
            " 46  STL     20797 non-null  float64\n",
            " 47  BLK     20797 non-null  float64\n",
            " 48  TOV     19646 non-null  float64\n",
            " 49  PF      24624 non-null  float64\n",
            " 50  PTS     24624 non-null  float64\n",
            "dtypes: float64(47), object(4)\n",
            "memory usage: 9.6+ MB\n"
          ]
        }
      ]
    },
    {
      "cell_type": "code",
      "source": [
        "hof_df.isna().sum()"
      ],
      "metadata": {
        "colab": {
          "base_uri": "https://localhost:8080/"
        },
        "id": "-qBqmPbT0wqd",
        "outputId": "66437a6c-d72a-4639-a771-43d90110f51b"
      },
      "execution_count": 247,
      "outputs": [
        {
          "output_type": "execute_result",
          "data": {
            "text/plain": [
              "Year        67\n",
              "HOF         12\n",
              "Player      67\n",
              "Pos         67\n",
              "Age         75\n",
              "Tm          67\n",
              "G           67\n",
              "GS        6457\n",
              "MP         553\n",
              "PER        590\n",
              "TS%        153\n",
              "3PAr      5851\n",
              "FTr        166\n",
              "ORB%      3899\n",
              "DRB%      3899\n",
              "TRB%      3120\n",
              "AST%      2136\n",
              "STL%      3899\n",
              "BLK%      3899\n",
              "TOV%      5108\n",
              "USG%      5050\n",
              "OWS        106\n",
              "DWS        106\n",
              "WS         106\n",
              "WS/48      590\n",
              "OBPM      3894\n",
              "DBPM      3894\n",
              "BPM       3894\n",
              "VORP      3894\n",
              "FG          67\n",
              "FGA         67\n",
              "FG%        166\n",
              "3P        5763\n",
              "3PA       5763\n",
              "3P%       9274\n",
              "2P          67\n",
              "2PA         67\n",
              "2P%        195\n",
              "eFG%       166\n",
              "FT          67\n",
              "FTA         67\n",
              "FT%        925\n",
              "ORB       3894\n",
              "DRB       3894\n",
              "TRB        379\n",
              "AST         67\n",
              "STL       3894\n",
              "BLK       3894\n",
              "TOV       5045\n",
              "PF          67\n",
              "PTS         67\n",
              "dtype: int64"
            ]
          },
          "metadata": {},
          "execution_count": 247
        }
      ]
    },
    {
      "cell_type": "markdown",
      "source": [
        "# Data cleaning and EDA"
      ],
      "metadata": {
        "id": "r_D4_dip0_uZ"
      }
    },
    {
      "cell_type": "code",
      "source": [
        "hof_df = hof_df.dropna(subset=['HOF'])\n",
        "hof_df.shape"
      ],
      "metadata": {
        "colab": {
          "base_uri": "https://localhost:8080/"
        },
        "id": "soQlvgPi1Ggw",
        "outputId": "8f048d34-366d-43d4-da2a-d447f74aafcf"
      },
      "execution_count": 248,
      "outputs": [
        {
          "output_type": "execute_result",
          "data": {
            "text/plain": [
              "(24679, 51)"
            ]
          },
          "metadata": {},
          "execution_count": 248
        }
      ]
    },
    {
      "cell_type": "code",
      "source": [
        "class_column = 'HOF'\n",
        "random_seed = 1000\n",
        "\n",
        "X_train, X_test, y_train, y_test = train_test_split(hof_df.drop(columns=class_column), hof_df[class_column],\n",
        "                                                   test_size=0.25, random_state=random_seed, stratify=hof_df[class_column])"
      ],
      "metadata": {
        "id": "hbgNjLYM1Vx1"
      },
      "execution_count": 249,
      "outputs": []
    },
    {
      "cell_type": "markdown",
      "source": [
        "Sanity Check"
      ],
      "metadata": {
        "id": "7n1xF2Ko1ogP"
      }
    },
    {
      "cell_type": "code",
      "source": [
        "# X Train\n",
        "print('On X train: ')\n",
        "print('X train dimensions: ', X_train.shape)\n",
        "display(X_train.head())\n",
        "\n",
        "# X test\n",
        "print('\\nOn X test: ')\n",
        "print('X test dimensions: ', X_test.shape)\n",
        "display(X_test.head())"
      ],
      "metadata": {
        "colab": {
          "base_uri": "https://localhost:8080/",
          "height": 481
        },
        "id": "YJa145-s1pz1",
        "outputId": "01f9bc6e-abfc-48e2-af79-3097bc4bcf38"
      },
      "execution_count": 250,
      "outputs": [
        {
          "output_type": "stream",
          "name": "stdout",
          "text": [
            "On X train: \n",
            "X train dimensions:  (18509, 50)\n"
          ]
        },
        {
          "output_type": "display_data",
          "data": {
            "text/plain": [
              "         Year           Player Pos   Age   Tm     G    GS      MP   PER  \\\n",
              "3634   1998.0  Cedric Ceballos  SF  28.0  TOT  47.0  25.0   990.0  19.3   \n",
              "23873  1969.0       Wali Jones  PG  26.0  PHI  81.0   NaN  2340.0  12.5   \n",
              "20621  2008.0       Ryan Gomes  PF  25.0  MIN  82.0  74.0  2434.0  15.7   \n",
              "8021   1977.0       Eric Money  PG  21.0  DET  73.0   NaN  1586.0  15.8   \n",
              "15361  1977.0     Louie Nelson  SG  25.0  SAS   4.0   NaN    57.0   8.4   \n",
              "\n",
              "         TS%  ...    FT%    ORB    DRB    TRB    AST   STL   BLK   TOV     PF  \\\n",
              "3634   0.560  ...  0.738   75.0  146.0  221.0   60.0  33.0  16.0  72.0   88.0   \n",
              "23873  0.479  ...  0.809    NaN    NaN  251.0  292.0   NaN   NaN   NaN  280.0   \n",
              "20621  0.539  ...  0.830  133.0  342.0  475.0  145.0  65.0  10.0  96.0  154.0   \n",
              "8021   0.549  ...  0.789   43.0   81.0  124.0  243.0  91.0  14.0   NaN  199.0   \n",
              "15361  0.527  ...  0.571    2.0    5.0    7.0    3.0   2.0   0.0   NaN    9.0   \n",
              "\n",
              "          PTS  \n",
              "3634    536.0  \n",
              "23873  1071.0  \n",
              "20621  1033.0  \n",
              "8021    748.0  \n",
              "15361    18.0  \n",
              "\n",
              "[5 rows x 50 columns]"
            ],
            "text/html": [
              "\n",
              "  <div id=\"df-cacc37ca-37c4-43f8-86c9-bd340f5c1912\">\n",
              "    <div class=\"colab-df-container\">\n",
              "      <div>\n",
              "<style scoped>\n",
              "    .dataframe tbody tr th:only-of-type {\n",
              "        vertical-align: middle;\n",
              "    }\n",
              "\n",
              "    .dataframe tbody tr th {\n",
              "        vertical-align: top;\n",
              "    }\n",
              "\n",
              "    .dataframe thead th {\n",
              "        text-align: right;\n",
              "    }\n",
              "</style>\n",
              "<table border=\"1\" class=\"dataframe\">\n",
              "  <thead>\n",
              "    <tr style=\"text-align: right;\">\n",
              "      <th></th>\n",
              "      <th>Year</th>\n",
              "      <th>Player</th>\n",
              "      <th>Pos</th>\n",
              "      <th>Age</th>\n",
              "      <th>Tm</th>\n",
              "      <th>G</th>\n",
              "      <th>GS</th>\n",
              "      <th>MP</th>\n",
              "      <th>PER</th>\n",
              "      <th>TS%</th>\n",
              "      <th>...</th>\n",
              "      <th>FT%</th>\n",
              "      <th>ORB</th>\n",
              "      <th>DRB</th>\n",
              "      <th>TRB</th>\n",
              "      <th>AST</th>\n",
              "      <th>STL</th>\n",
              "      <th>BLK</th>\n",
              "      <th>TOV</th>\n",
              "      <th>PF</th>\n",
              "      <th>PTS</th>\n",
              "    </tr>\n",
              "  </thead>\n",
              "  <tbody>\n",
              "    <tr>\n",
              "      <th>3634</th>\n",
              "      <td>1998.0</td>\n",
              "      <td>Cedric Ceballos</td>\n",
              "      <td>SF</td>\n",
              "      <td>28.0</td>\n",
              "      <td>TOT</td>\n",
              "      <td>47.0</td>\n",
              "      <td>25.0</td>\n",
              "      <td>990.0</td>\n",
              "      <td>19.3</td>\n",
              "      <td>0.560</td>\n",
              "      <td>...</td>\n",
              "      <td>0.738</td>\n",
              "      <td>75.0</td>\n",
              "      <td>146.0</td>\n",
              "      <td>221.0</td>\n",
              "      <td>60.0</td>\n",
              "      <td>33.0</td>\n",
              "      <td>16.0</td>\n",
              "      <td>72.0</td>\n",
              "      <td>88.0</td>\n",
              "      <td>536.0</td>\n",
              "    </tr>\n",
              "    <tr>\n",
              "      <th>23873</th>\n",
              "      <td>1969.0</td>\n",
              "      <td>Wali Jones</td>\n",
              "      <td>PG</td>\n",
              "      <td>26.0</td>\n",
              "      <td>PHI</td>\n",
              "      <td>81.0</td>\n",
              "      <td>NaN</td>\n",
              "      <td>2340.0</td>\n",
              "      <td>12.5</td>\n",
              "      <td>0.479</td>\n",
              "      <td>...</td>\n",
              "      <td>0.809</td>\n",
              "      <td>NaN</td>\n",
              "      <td>NaN</td>\n",
              "      <td>251.0</td>\n",
              "      <td>292.0</td>\n",
              "      <td>NaN</td>\n",
              "      <td>NaN</td>\n",
              "      <td>NaN</td>\n",
              "      <td>280.0</td>\n",
              "      <td>1071.0</td>\n",
              "    </tr>\n",
              "    <tr>\n",
              "      <th>20621</th>\n",
              "      <td>2008.0</td>\n",
              "      <td>Ryan Gomes</td>\n",
              "      <td>PF</td>\n",
              "      <td>25.0</td>\n",
              "      <td>MIN</td>\n",
              "      <td>82.0</td>\n",
              "      <td>74.0</td>\n",
              "      <td>2434.0</td>\n",
              "      <td>15.7</td>\n",
              "      <td>0.539</td>\n",
              "      <td>...</td>\n",
              "      <td>0.830</td>\n",
              "      <td>133.0</td>\n",
              "      <td>342.0</td>\n",
              "      <td>475.0</td>\n",
              "      <td>145.0</td>\n",
              "      <td>65.0</td>\n",
              "      <td>10.0</td>\n",
              "      <td>96.0</td>\n",
              "      <td>154.0</td>\n",
              "      <td>1033.0</td>\n",
              "    </tr>\n",
              "    <tr>\n",
              "      <th>8021</th>\n",
              "      <td>1977.0</td>\n",
              "      <td>Eric Money</td>\n",
              "      <td>PG</td>\n",
              "      <td>21.0</td>\n",
              "      <td>DET</td>\n",
              "      <td>73.0</td>\n",
              "      <td>NaN</td>\n",
              "      <td>1586.0</td>\n",
              "      <td>15.8</td>\n",
              "      <td>0.549</td>\n",
              "      <td>...</td>\n",
              "      <td>0.789</td>\n",
              "      <td>43.0</td>\n",
              "      <td>81.0</td>\n",
              "      <td>124.0</td>\n",
              "      <td>243.0</td>\n",
              "      <td>91.0</td>\n",
              "      <td>14.0</td>\n",
              "      <td>NaN</td>\n",
              "      <td>199.0</td>\n",
              "      <td>748.0</td>\n",
              "    </tr>\n",
              "    <tr>\n",
              "      <th>15361</th>\n",
              "      <td>1977.0</td>\n",
              "      <td>Louie Nelson</td>\n",
              "      <td>SG</td>\n",
              "      <td>25.0</td>\n",
              "      <td>SAS</td>\n",
              "      <td>4.0</td>\n",
              "      <td>NaN</td>\n",
              "      <td>57.0</td>\n",
              "      <td>8.4</td>\n",
              "      <td>0.527</td>\n",
              "      <td>...</td>\n",
              "      <td>0.571</td>\n",
              "      <td>2.0</td>\n",
              "      <td>5.0</td>\n",
              "      <td>7.0</td>\n",
              "      <td>3.0</td>\n",
              "      <td>2.0</td>\n",
              "      <td>0.0</td>\n",
              "      <td>NaN</td>\n",
              "      <td>9.0</td>\n",
              "      <td>18.0</td>\n",
              "    </tr>\n",
              "  </tbody>\n",
              "</table>\n",
              "<p>5 rows × 50 columns</p>\n",
              "</div>\n",
              "      <button class=\"colab-df-convert\" onclick=\"convertToInteractive('df-cacc37ca-37c4-43f8-86c9-bd340f5c1912')\"\n",
              "              title=\"Convert this dataframe to an interactive table.\"\n",
              "              style=\"display:none;\">\n",
              "        \n",
              "  <svg xmlns=\"http://www.w3.org/2000/svg\" height=\"24px\"viewBox=\"0 0 24 24\"\n",
              "       width=\"24px\">\n",
              "    <path d=\"M0 0h24v24H0V0z\" fill=\"none\"/>\n",
              "    <path d=\"M18.56 5.44l.94 2.06.94-2.06 2.06-.94-2.06-.94-.94-2.06-.94 2.06-2.06.94zm-11 1L8.5 8.5l.94-2.06 2.06-.94-2.06-.94L8.5 2.5l-.94 2.06-2.06.94zm10 10l.94 2.06.94-2.06 2.06-.94-2.06-.94-.94-2.06-.94 2.06-2.06.94z\"/><path d=\"M17.41 7.96l-1.37-1.37c-.4-.4-.92-.59-1.43-.59-.52 0-1.04.2-1.43.59L10.3 9.45l-7.72 7.72c-.78.78-.78 2.05 0 2.83L4 21.41c.39.39.9.59 1.41.59.51 0 1.02-.2 1.41-.59l7.78-7.78 2.81-2.81c.8-.78.8-2.07 0-2.86zM5.41 20L4 18.59l7.72-7.72 1.47 1.35L5.41 20z\"/>\n",
              "  </svg>\n",
              "      </button>\n",
              "      \n",
              "  <style>\n",
              "    .colab-df-container {\n",
              "      display:flex;\n",
              "      flex-wrap:wrap;\n",
              "      gap: 12px;\n",
              "    }\n",
              "\n",
              "    .colab-df-convert {\n",
              "      background-color: #E8F0FE;\n",
              "      border: none;\n",
              "      border-radius: 50%;\n",
              "      cursor: pointer;\n",
              "      display: none;\n",
              "      fill: #1967D2;\n",
              "      height: 32px;\n",
              "      padding: 0 0 0 0;\n",
              "      width: 32px;\n",
              "    }\n",
              "\n",
              "    .colab-df-convert:hover {\n",
              "      background-color: #E2EBFA;\n",
              "      box-shadow: 0px 1px 2px rgba(60, 64, 67, 0.3), 0px 1px 3px 1px rgba(60, 64, 67, 0.15);\n",
              "      fill: #174EA6;\n",
              "    }\n",
              "\n",
              "    [theme=dark] .colab-df-convert {\n",
              "      background-color: #3B4455;\n",
              "      fill: #D2E3FC;\n",
              "    }\n",
              "\n",
              "    [theme=dark] .colab-df-convert:hover {\n",
              "      background-color: #434B5C;\n",
              "      box-shadow: 0px 1px 3px 1px rgba(0, 0, 0, 0.15);\n",
              "      filter: drop-shadow(0px 1px 2px rgba(0, 0, 0, 0.3));\n",
              "      fill: #FFFFFF;\n",
              "    }\n",
              "  </style>\n",
              "\n",
              "      <script>\n",
              "        const buttonEl =\n",
              "          document.querySelector('#df-cacc37ca-37c4-43f8-86c9-bd340f5c1912 button.colab-df-convert');\n",
              "        buttonEl.style.display =\n",
              "          google.colab.kernel.accessAllowed ? 'block' : 'none';\n",
              "\n",
              "        async function convertToInteractive(key) {\n",
              "          const element = document.querySelector('#df-cacc37ca-37c4-43f8-86c9-bd340f5c1912');\n",
              "          const dataTable =\n",
              "            await google.colab.kernel.invokeFunction('convertToInteractive',\n",
              "                                                     [key], {});\n",
              "          if (!dataTable) return;\n",
              "\n",
              "          const docLinkHtml = 'Like what you see? Visit the ' +\n",
              "            '<a target=\"_blank\" href=https://colab.research.google.com/notebooks/data_table.ipynb>data table notebook</a>'\n",
              "            + ' to learn more about interactive tables.';\n",
              "          element.innerHTML = '';\n",
              "          dataTable['output_type'] = 'display_data';\n",
              "          await google.colab.output.renderOutput(dataTable, element);\n",
              "          const docLink = document.createElement('div');\n",
              "          docLink.innerHTML = docLinkHtml;\n",
              "          element.appendChild(docLink);\n",
              "        }\n",
              "      </script>\n",
              "    </div>\n",
              "  </div>\n",
              "  "
            ]
          },
          "metadata": {}
        },
        {
          "output_type": "stream",
          "name": "stdout",
          "text": [
            "\n",
            "On X test: \n",
            "X test dimensions:  (6170, 50)\n"
          ]
        },
        {
          "output_type": "display_data",
          "data": {
            "text/plain": [
              "         Year            Player Pos   Age   Tm     G    GS      MP   PER  \\\n",
              "8064   2003.0   Eric Piatkowski  SG  32.0  LAC  62.0  26.0  1360.0  16.0   \n",
              "9307   1997.0      Greg Anthony  PG  29.0  VAN  65.0  44.0  1863.0  16.6   \n",
              "5065   1994.0        Dale Davis  PF  24.0  IND  66.0  64.0  2292.0  15.9   \n",
              "15148  2011.0      Linas Kleiza  SF  26.0  TOR  39.0  23.0  1032.0  10.1   \n",
              "5294   2011.0  Danilo Gallinari  SF  22.0  DEN  14.0  12.0   433.0  15.9   \n",
              "\n",
              "         TS%  ...    FT%    ORB    DRB    TRB    AST    STL    BLK    TOV  \\\n",
              "8064   0.601  ...  0.828   44.0  112.0  156.0   70.0   33.0    9.0   56.0   \n",
              "9307   0.526  ...  0.730   25.0  159.0  184.0  407.0  129.0    4.0  129.0   \n",
              "5065   0.542  ...  0.527  280.0  438.0  718.0  100.0   48.0  106.0  102.0   \n",
              "15148  0.502  ...  0.631   37.0  140.0  177.0   40.0   19.0    7.0   65.0   \n",
              "5294   0.587  ...  0.772   11.0   65.0   76.0   22.0   13.0    9.0   25.0   \n",
              "\n",
              "          PF    PTS  \n",
              "8064    92.0  601.0  \n",
              "9307   122.0  616.0  \n",
              "5065   214.0  771.0  \n",
              "15148   99.0  436.0  \n",
              "5294    27.0  206.0  \n",
              "\n",
              "[5 rows x 50 columns]"
            ],
            "text/html": [
              "\n",
              "  <div id=\"df-360e9f61-53cb-4d83-b407-bb3d4fe85022\">\n",
              "    <div class=\"colab-df-container\">\n",
              "      <div>\n",
              "<style scoped>\n",
              "    .dataframe tbody tr th:only-of-type {\n",
              "        vertical-align: middle;\n",
              "    }\n",
              "\n",
              "    .dataframe tbody tr th {\n",
              "        vertical-align: top;\n",
              "    }\n",
              "\n",
              "    .dataframe thead th {\n",
              "        text-align: right;\n",
              "    }\n",
              "</style>\n",
              "<table border=\"1\" class=\"dataframe\">\n",
              "  <thead>\n",
              "    <tr style=\"text-align: right;\">\n",
              "      <th></th>\n",
              "      <th>Year</th>\n",
              "      <th>Player</th>\n",
              "      <th>Pos</th>\n",
              "      <th>Age</th>\n",
              "      <th>Tm</th>\n",
              "      <th>G</th>\n",
              "      <th>GS</th>\n",
              "      <th>MP</th>\n",
              "      <th>PER</th>\n",
              "      <th>TS%</th>\n",
              "      <th>...</th>\n",
              "      <th>FT%</th>\n",
              "      <th>ORB</th>\n",
              "      <th>DRB</th>\n",
              "      <th>TRB</th>\n",
              "      <th>AST</th>\n",
              "      <th>STL</th>\n",
              "      <th>BLK</th>\n",
              "      <th>TOV</th>\n",
              "      <th>PF</th>\n",
              "      <th>PTS</th>\n",
              "    </tr>\n",
              "  </thead>\n",
              "  <tbody>\n",
              "    <tr>\n",
              "      <th>8064</th>\n",
              "      <td>2003.0</td>\n",
              "      <td>Eric Piatkowski</td>\n",
              "      <td>SG</td>\n",
              "      <td>32.0</td>\n",
              "      <td>LAC</td>\n",
              "      <td>62.0</td>\n",
              "      <td>26.0</td>\n",
              "      <td>1360.0</td>\n",
              "      <td>16.0</td>\n",
              "      <td>0.601</td>\n",
              "      <td>...</td>\n",
              "      <td>0.828</td>\n",
              "      <td>44.0</td>\n",
              "      <td>112.0</td>\n",
              "      <td>156.0</td>\n",
              "      <td>70.0</td>\n",
              "      <td>33.0</td>\n",
              "      <td>9.0</td>\n",
              "      <td>56.0</td>\n",
              "      <td>92.0</td>\n",
              "      <td>601.0</td>\n",
              "    </tr>\n",
              "    <tr>\n",
              "      <th>9307</th>\n",
              "      <td>1997.0</td>\n",
              "      <td>Greg Anthony</td>\n",
              "      <td>PG</td>\n",
              "      <td>29.0</td>\n",
              "      <td>VAN</td>\n",
              "      <td>65.0</td>\n",
              "      <td>44.0</td>\n",
              "      <td>1863.0</td>\n",
              "      <td>16.6</td>\n",
              "      <td>0.526</td>\n",
              "      <td>...</td>\n",
              "      <td>0.730</td>\n",
              "      <td>25.0</td>\n",
              "      <td>159.0</td>\n",
              "      <td>184.0</td>\n",
              "      <td>407.0</td>\n",
              "      <td>129.0</td>\n",
              "      <td>4.0</td>\n",
              "      <td>129.0</td>\n",
              "      <td>122.0</td>\n",
              "      <td>616.0</td>\n",
              "    </tr>\n",
              "    <tr>\n",
              "      <th>5065</th>\n",
              "      <td>1994.0</td>\n",
              "      <td>Dale Davis</td>\n",
              "      <td>PF</td>\n",
              "      <td>24.0</td>\n",
              "      <td>IND</td>\n",
              "      <td>66.0</td>\n",
              "      <td>64.0</td>\n",
              "      <td>2292.0</td>\n",
              "      <td>15.9</td>\n",
              "      <td>0.542</td>\n",
              "      <td>...</td>\n",
              "      <td>0.527</td>\n",
              "      <td>280.0</td>\n",
              "      <td>438.0</td>\n",
              "      <td>718.0</td>\n",
              "      <td>100.0</td>\n",
              "      <td>48.0</td>\n",
              "      <td>106.0</td>\n",
              "      <td>102.0</td>\n",
              "      <td>214.0</td>\n",
              "      <td>771.0</td>\n",
              "    </tr>\n",
              "    <tr>\n",
              "      <th>15148</th>\n",
              "      <td>2011.0</td>\n",
              "      <td>Linas Kleiza</td>\n",
              "      <td>SF</td>\n",
              "      <td>26.0</td>\n",
              "      <td>TOR</td>\n",
              "      <td>39.0</td>\n",
              "      <td>23.0</td>\n",
              "      <td>1032.0</td>\n",
              "      <td>10.1</td>\n",
              "      <td>0.502</td>\n",
              "      <td>...</td>\n",
              "      <td>0.631</td>\n",
              "      <td>37.0</td>\n",
              "      <td>140.0</td>\n",
              "      <td>177.0</td>\n",
              "      <td>40.0</td>\n",
              "      <td>19.0</td>\n",
              "      <td>7.0</td>\n",
              "      <td>65.0</td>\n",
              "      <td>99.0</td>\n",
              "      <td>436.0</td>\n",
              "    </tr>\n",
              "    <tr>\n",
              "      <th>5294</th>\n",
              "      <td>2011.0</td>\n",
              "      <td>Danilo Gallinari</td>\n",
              "      <td>SF</td>\n",
              "      <td>22.0</td>\n",
              "      <td>DEN</td>\n",
              "      <td>14.0</td>\n",
              "      <td>12.0</td>\n",
              "      <td>433.0</td>\n",
              "      <td>15.9</td>\n",
              "      <td>0.587</td>\n",
              "      <td>...</td>\n",
              "      <td>0.772</td>\n",
              "      <td>11.0</td>\n",
              "      <td>65.0</td>\n",
              "      <td>76.0</td>\n",
              "      <td>22.0</td>\n",
              "      <td>13.0</td>\n",
              "      <td>9.0</td>\n",
              "      <td>25.0</td>\n",
              "      <td>27.0</td>\n",
              "      <td>206.0</td>\n",
              "    </tr>\n",
              "  </tbody>\n",
              "</table>\n",
              "<p>5 rows × 50 columns</p>\n",
              "</div>\n",
              "      <button class=\"colab-df-convert\" onclick=\"convertToInteractive('df-360e9f61-53cb-4d83-b407-bb3d4fe85022')\"\n",
              "              title=\"Convert this dataframe to an interactive table.\"\n",
              "              style=\"display:none;\">\n",
              "        \n",
              "  <svg xmlns=\"http://www.w3.org/2000/svg\" height=\"24px\"viewBox=\"0 0 24 24\"\n",
              "       width=\"24px\">\n",
              "    <path d=\"M0 0h24v24H0V0z\" fill=\"none\"/>\n",
              "    <path d=\"M18.56 5.44l.94 2.06.94-2.06 2.06-.94-2.06-.94-.94-2.06-.94 2.06-2.06.94zm-11 1L8.5 8.5l.94-2.06 2.06-.94-2.06-.94L8.5 2.5l-.94 2.06-2.06.94zm10 10l.94 2.06.94-2.06 2.06-.94-2.06-.94-.94-2.06-.94 2.06-2.06.94z\"/><path d=\"M17.41 7.96l-1.37-1.37c-.4-.4-.92-.59-1.43-.59-.52 0-1.04.2-1.43.59L10.3 9.45l-7.72 7.72c-.78.78-.78 2.05 0 2.83L4 21.41c.39.39.9.59 1.41.59.51 0 1.02-.2 1.41-.59l7.78-7.78 2.81-2.81c.8-.78.8-2.07 0-2.86zM5.41 20L4 18.59l7.72-7.72 1.47 1.35L5.41 20z\"/>\n",
              "  </svg>\n",
              "      </button>\n",
              "      \n",
              "  <style>\n",
              "    .colab-df-container {\n",
              "      display:flex;\n",
              "      flex-wrap:wrap;\n",
              "      gap: 12px;\n",
              "    }\n",
              "\n",
              "    .colab-df-convert {\n",
              "      background-color: #E8F0FE;\n",
              "      border: none;\n",
              "      border-radius: 50%;\n",
              "      cursor: pointer;\n",
              "      display: none;\n",
              "      fill: #1967D2;\n",
              "      height: 32px;\n",
              "      padding: 0 0 0 0;\n",
              "      width: 32px;\n",
              "    }\n",
              "\n",
              "    .colab-df-convert:hover {\n",
              "      background-color: #E2EBFA;\n",
              "      box-shadow: 0px 1px 2px rgba(60, 64, 67, 0.3), 0px 1px 3px 1px rgba(60, 64, 67, 0.15);\n",
              "      fill: #174EA6;\n",
              "    }\n",
              "\n",
              "    [theme=dark] .colab-df-convert {\n",
              "      background-color: #3B4455;\n",
              "      fill: #D2E3FC;\n",
              "    }\n",
              "\n",
              "    [theme=dark] .colab-df-convert:hover {\n",
              "      background-color: #434B5C;\n",
              "      box-shadow: 0px 1px 3px 1px rgba(0, 0, 0, 0.15);\n",
              "      filter: drop-shadow(0px 1px 2px rgba(0, 0, 0, 0.3));\n",
              "      fill: #FFFFFF;\n",
              "    }\n",
              "  </style>\n",
              "\n",
              "      <script>\n",
              "        const buttonEl =\n",
              "          document.querySelector('#df-360e9f61-53cb-4d83-b407-bb3d4fe85022 button.colab-df-convert');\n",
              "        buttonEl.style.display =\n",
              "          google.colab.kernel.accessAllowed ? 'block' : 'none';\n",
              "\n",
              "        async function convertToInteractive(key) {\n",
              "          const element = document.querySelector('#df-360e9f61-53cb-4d83-b407-bb3d4fe85022');\n",
              "          const dataTable =\n",
              "            await google.colab.kernel.invokeFunction('convertToInteractive',\n",
              "                                                     [key], {});\n",
              "          if (!dataTable) return;\n",
              "\n",
              "          const docLinkHtml = 'Like what you see? Visit the ' +\n",
              "            '<a target=\"_blank\" href=https://colab.research.google.com/notebooks/data_table.ipynb>data table notebook</a>'\n",
              "            + ' to learn more about interactive tables.';\n",
              "          element.innerHTML = '';\n",
              "          dataTable['output_type'] = 'display_data';\n",
              "          await google.colab.output.renderOutput(dataTable, element);\n",
              "          const docLink = document.createElement('div');\n",
              "          docLink.innerHTML = docLinkHtml;\n",
              "          element.appendChild(docLink);\n",
              "        }\n",
              "      </script>\n",
              "    </div>\n",
              "  </div>\n",
              "  "
            ]
          },
          "metadata": {}
        },
        {
          "output_type": "stream",
          "name": "stdout",
          "text": [
            "Error: Runtime no longer has a reference to this dataframe, please re-run this cell and try again.\n"
          ]
        }
      ]
    },
    {
      "cell_type": "code",
      "source": [
        "# X Train\n",
        "print('On y train: ')\n",
        "print('y train dimensions: ', y_train.shape)\n",
        "display(y_train.head())\n",
        "\n",
        "# X test\n",
        "print('\\nOn y test: ')\n",
        "print('y test dimensions: ', y_test.shape)\n",
        "display(y_test.head())"
      ],
      "metadata": {
        "colab": {
          "base_uri": "https://localhost:8080/",
          "height": 312
        },
        "id": "9K_Ana6c1u68",
        "outputId": "b009b1ed-d06e-4c98-83c9-f138d14b01a7"
      },
      "execution_count": 251,
      "outputs": [
        {
          "output_type": "stream",
          "name": "stdout",
          "text": [
            "On y train: \n",
            "y train dimensions:  (18509,)\n"
          ]
        },
        {
          "output_type": "display_data",
          "data": {
            "text/plain": [
              "3634     No\n",
              "23873    No\n",
              "20621    No\n",
              "8021     No\n",
              "15361    No\n",
              "Name: HOF, dtype: object"
            ]
          },
          "metadata": {}
        },
        {
          "output_type": "stream",
          "name": "stdout",
          "text": [
            "\n",
            "On y test: \n",
            "y test dimensions:  (6170,)\n"
          ]
        },
        {
          "output_type": "display_data",
          "data": {
            "text/plain": [
              "8064     No\n",
              "9307     No\n",
              "5065     No\n",
              "15148    No\n",
              "5294     No\n",
              "Name: HOF, dtype: object"
            ]
          },
          "metadata": {}
        }
      ]
    },
    {
      "cell_type": "markdown",
      "source": [
        "# Establish the training pipeline"
      ],
      "metadata": {
        "id": "kjOaq43a2HpO"
      }
    },
    {
      "cell_type": "code",
      "source": [
        "# TODO: establish your own pipelines for the different data types\n",
        "cat_pipeline = Pipeline(steps=[('cat_impute', SimpleImputer(strategy='most_frequent')),\n",
        "                               ('onehot_cat', OneHotEncoder(handle_unknown='ignore'))])\n",
        "num_pipeline = Pipeline(steps=[('impute_num', SimpleImputer(strategy='mean')),\n",
        "                               ('scale_num', StandardScaler())])\n"
      ],
      "metadata": {
        "id": "w0OxyIxP2In_"
      },
      "execution_count": 257,
      "outputs": []
    },
    {
      "cell_type": "code",
      "source": [
        "# TODO: establish your preprocessing pipeline by your feature set\n",
        "preprocess = ColumnTransformer([('cat_pipe', cat_pipeline, make_column_selector(dtype_include=object)),\n",
        "                             ('num_pipe', num_pipeline, make_column_selector(dtype_include=np.number))],\n",
        "                             remainder='passthrough')\n",
        "\n",
        "print(preprocess)"
      ],
      "metadata": {
        "colab": {
          "base_uri": "https://localhost:8080/"
        },
        "id": "Cd9w2x162VHt",
        "outputId": "ecdd26e6-c7b1-444b-e544-b970a2ed8a89"
      },
      "execution_count": 258,
      "outputs": [
        {
          "output_type": "stream",
          "name": "stdout",
          "text": [
            "ColumnTransformer(remainder='passthrough',\n",
            "                  transformers=[('cat_pipe',\n",
            "                                 Pipeline(steps=[('cat_impute',\n",
            "                                                  SimpleImputer(strategy='most_frequent')),\n",
            "                                                 ('onehot_cat',\n",
            "                                                  OneHotEncoder(handle_unknown='ignore'))]),\n",
            "                                 <sklearn.compose._column_transformer.make_column_selector object at 0x7f95a538ef10>),\n",
            "                                ('num_pipe',\n",
            "                                 Pipeline(steps=[('impute_num',\n",
            "                                                  SimpleImputer()),\n",
            "                                                 ('scale_num',\n",
            "                                                  StandardScaler())]),\n",
            "                                 <sklearn.compose._column_transformer.make_column_selector object at 0x7f95a538ef90>)])\n"
          ]
        }
      ]
    },
    {
      "cell_type": "markdown",
      "source": [
        "LogisticRegression"
      ],
      "metadata": {
        "id": "wgDAaY2d2dDR"
      }
    },
    {
      "cell_type": "code",
      "source": [
        "# TODO: set up your modeling pipeline\n",
        "pipeLR = Pipeline(steps=[('preproc', preprocess),\n",
        "                       ('mdl', LogisticRegression(penalty='elasticnet', solver='saga', tol=0.01))])\n",
        "\n",
        "\n",
        "# Feel free to uncomment and edit the code below to visualize your overall pipeline\n",
        "with config_context(display='diagram'):\n",
        "    display(pipeLR)"
      ],
      "metadata": {
        "colab": {
          "base_uri": "https://localhost:8080/",
          "height": 227
        },
        "id": "ralsrgN32fMf",
        "outputId": "084e90a9-c7e9-49e5-ac3b-b93c9b5baf37"
      },
      "execution_count": 259,
      "outputs": [
        {
          "output_type": "display_data",
          "data": {
            "text/plain": [
              "Pipeline(steps=[('preproc',\n",
              "                 ColumnTransformer(remainder='passthrough',\n",
              "                                   transformers=[('cat_pipe',\n",
              "                                                  Pipeline(steps=[('cat_impute',\n",
              "                                                                   SimpleImputer(strategy='most_frequent')),\n",
              "                                                                  ('onehot_cat',\n",
              "                                                                   OneHotEncoder(handle_unknown='ignore'))]),\n",
              "                                                  <sklearn.compose._column_transformer.make_column_selector object at 0x7f95a538ef10>),\n",
              "                                                 ('num_pipe',\n",
              "                                                  Pipeline(steps=[('impute_num',\n",
              "                                                                   SimpleImputer()),\n",
              "                                                                  ('scale_num',\n",
              "                                                                   StandardScaler())]),\n",
              "                                                  <sklearn.compose._column_transformer.make_column_selector object at 0x7f95a538ef90>)])),\n",
              "                ('mdl',\n",
              "                 LogisticRegression(penalty='elasticnet', solver='saga',\n",
              "                                    tol=0.01))])"
            ],
            "text/html": [
              "<style>#sk-bb54dd4e-8df6-40e2-8753-f6c06004f399 {color: black;background-color: white;}#sk-bb54dd4e-8df6-40e2-8753-f6c06004f399 pre{padding: 0;}#sk-bb54dd4e-8df6-40e2-8753-f6c06004f399 div.sk-toggleable {background-color: white;}#sk-bb54dd4e-8df6-40e2-8753-f6c06004f399 label.sk-toggleable__label {cursor: pointer;display: block;width: 100%;margin-bottom: 0;padding: 0.3em;box-sizing: border-box;text-align: center;}#sk-bb54dd4e-8df6-40e2-8753-f6c06004f399 label.sk-toggleable__label-arrow:before {content: \"▸\";float: left;margin-right: 0.25em;color: #696969;}#sk-bb54dd4e-8df6-40e2-8753-f6c06004f399 label.sk-toggleable__label-arrow:hover:before {color: black;}#sk-bb54dd4e-8df6-40e2-8753-f6c06004f399 div.sk-estimator:hover label.sk-toggleable__label-arrow:before {color: black;}#sk-bb54dd4e-8df6-40e2-8753-f6c06004f399 div.sk-toggleable__content {max-height: 0;max-width: 0;overflow: hidden;text-align: left;background-color: #f0f8ff;}#sk-bb54dd4e-8df6-40e2-8753-f6c06004f399 div.sk-toggleable__content pre {margin: 0.2em;color: black;border-radius: 0.25em;background-color: #f0f8ff;}#sk-bb54dd4e-8df6-40e2-8753-f6c06004f399 input.sk-toggleable__control:checked~div.sk-toggleable__content {max-height: 200px;max-width: 100%;overflow: auto;}#sk-bb54dd4e-8df6-40e2-8753-f6c06004f399 input.sk-toggleable__control:checked~label.sk-toggleable__label-arrow:before {content: \"▾\";}#sk-bb54dd4e-8df6-40e2-8753-f6c06004f399 div.sk-estimator input.sk-toggleable__control:checked~label.sk-toggleable__label {background-color: #d4ebff;}#sk-bb54dd4e-8df6-40e2-8753-f6c06004f399 div.sk-label input.sk-toggleable__control:checked~label.sk-toggleable__label {background-color: #d4ebff;}#sk-bb54dd4e-8df6-40e2-8753-f6c06004f399 input.sk-hidden--visually {border: 0;clip: rect(1px 1px 1px 1px);clip: rect(1px, 1px, 1px, 1px);height: 1px;margin: -1px;overflow: hidden;padding: 0;position: absolute;width: 1px;}#sk-bb54dd4e-8df6-40e2-8753-f6c06004f399 div.sk-estimator {font-family: monospace;background-color: #f0f8ff;border: 1px dotted black;border-radius: 0.25em;box-sizing: border-box;margin-bottom: 0.5em;}#sk-bb54dd4e-8df6-40e2-8753-f6c06004f399 div.sk-estimator:hover {background-color: #d4ebff;}#sk-bb54dd4e-8df6-40e2-8753-f6c06004f399 div.sk-parallel-item::after {content: \"\";width: 100%;border-bottom: 1px solid gray;flex-grow: 1;}#sk-bb54dd4e-8df6-40e2-8753-f6c06004f399 div.sk-label:hover label.sk-toggleable__label {background-color: #d4ebff;}#sk-bb54dd4e-8df6-40e2-8753-f6c06004f399 div.sk-serial::before {content: \"\";position: absolute;border-left: 1px solid gray;box-sizing: border-box;top: 2em;bottom: 0;left: 50%;}#sk-bb54dd4e-8df6-40e2-8753-f6c06004f399 div.sk-serial {display: flex;flex-direction: column;align-items: center;background-color: white;padding-right: 0.2em;padding-left: 0.2em;}#sk-bb54dd4e-8df6-40e2-8753-f6c06004f399 div.sk-item {z-index: 1;}#sk-bb54dd4e-8df6-40e2-8753-f6c06004f399 div.sk-parallel {display: flex;align-items: stretch;justify-content: center;background-color: white;}#sk-bb54dd4e-8df6-40e2-8753-f6c06004f399 div.sk-parallel::before {content: \"\";position: absolute;border-left: 1px solid gray;box-sizing: border-box;top: 2em;bottom: 0;left: 50%;}#sk-bb54dd4e-8df6-40e2-8753-f6c06004f399 div.sk-parallel-item {display: flex;flex-direction: column;position: relative;background-color: white;}#sk-bb54dd4e-8df6-40e2-8753-f6c06004f399 div.sk-parallel-item:first-child::after {align-self: flex-end;width: 50%;}#sk-bb54dd4e-8df6-40e2-8753-f6c06004f399 div.sk-parallel-item:last-child::after {align-self: flex-start;width: 50%;}#sk-bb54dd4e-8df6-40e2-8753-f6c06004f399 div.sk-parallel-item:only-child::after {width: 0;}#sk-bb54dd4e-8df6-40e2-8753-f6c06004f399 div.sk-dashed-wrapped {border: 1px dashed gray;margin: 0 0.4em 0.5em 0.4em;box-sizing: border-box;padding-bottom: 0.4em;background-color: white;position: relative;}#sk-bb54dd4e-8df6-40e2-8753-f6c06004f399 div.sk-label label {font-family: monospace;font-weight: bold;background-color: white;display: inline-block;line-height: 1.2em;}#sk-bb54dd4e-8df6-40e2-8753-f6c06004f399 div.sk-label-container {position: relative;z-index: 2;text-align: center;}#sk-bb54dd4e-8df6-40e2-8753-f6c06004f399 div.sk-container {/* jupyter's `normalize.less` sets `[hidden] { display: none; }` but bootstrap.min.css set `[hidden] { display: none !important; }` so we also need the `!important` here to be able to override the default hidden behavior on the sphinx rendered scikit-learn.org. See: https://github.com/scikit-learn/scikit-learn/issues/21755 */display: inline-block !important;position: relative;}#sk-bb54dd4e-8df6-40e2-8753-f6c06004f399 div.sk-text-repr-fallback {display: none;}</style><div id=\"sk-bb54dd4e-8df6-40e2-8753-f6c06004f399\" class=\"sk-top-container\"><div class=\"sk-text-repr-fallback\"><pre>Pipeline(steps=[(&#x27;preproc&#x27;,\n",
              "                 ColumnTransformer(remainder=&#x27;passthrough&#x27;,\n",
              "                                   transformers=[(&#x27;cat_pipe&#x27;,\n",
              "                                                  Pipeline(steps=[(&#x27;cat_impute&#x27;,\n",
              "                                                                   SimpleImputer(strategy=&#x27;most_frequent&#x27;)),\n",
              "                                                                  (&#x27;onehot_cat&#x27;,\n",
              "                                                                   OneHotEncoder(handle_unknown=&#x27;ignore&#x27;))]),\n",
              "                                                  &lt;sklearn.compose._column_transformer.make_column_selector object at 0x7f95a538ef10&gt;),\n",
              "                                                 (&#x27;num_pipe&#x27;,\n",
              "                                                  Pipeline(steps=[(&#x27;impute_num&#x27;,\n",
              "                                                                   SimpleImputer()),\n",
              "                                                                  (&#x27;scale_num&#x27;,\n",
              "                                                                   StandardScaler())]),\n",
              "                                                  &lt;sklearn.compose._column_transformer.make_column_selector object at 0x7f95a538ef90&gt;)])),\n",
              "                (&#x27;mdl&#x27;,\n",
              "                 LogisticRegression(penalty=&#x27;elasticnet&#x27;, solver=&#x27;saga&#x27;,\n",
              "                                    tol=0.01))])</pre><b>Please rerun this cell to show the HTML repr or trust the notebook.</b></div><div class=\"sk-container\" hidden><div class=\"sk-item sk-dashed-wrapped\"><div class=\"sk-label-container\"><div class=\"sk-label sk-toggleable\"><input class=\"sk-toggleable__control sk-hidden--visually\" id=\"ec6b3ce1-cb64-4d30-bd56-59514f6e3464\" type=\"checkbox\" ><label for=\"ec6b3ce1-cb64-4d30-bd56-59514f6e3464\" class=\"sk-toggleable__label sk-toggleable__label-arrow\">Pipeline</label><div class=\"sk-toggleable__content\"><pre>Pipeline(steps=[(&#x27;preproc&#x27;,\n",
              "                 ColumnTransformer(remainder=&#x27;passthrough&#x27;,\n",
              "                                   transformers=[(&#x27;cat_pipe&#x27;,\n",
              "                                                  Pipeline(steps=[(&#x27;cat_impute&#x27;,\n",
              "                                                                   SimpleImputer(strategy=&#x27;most_frequent&#x27;)),\n",
              "                                                                  (&#x27;onehot_cat&#x27;,\n",
              "                                                                   OneHotEncoder(handle_unknown=&#x27;ignore&#x27;))]),\n",
              "                                                  &lt;sklearn.compose._column_transformer.make_column_selector object at 0x7f95a538ef10&gt;),\n",
              "                                                 (&#x27;num_pipe&#x27;,\n",
              "                                                  Pipeline(steps=[(&#x27;impute_num&#x27;,\n",
              "                                                                   SimpleImputer()),\n",
              "                                                                  (&#x27;scale_num&#x27;,\n",
              "                                                                   StandardScaler())]),\n",
              "                                                  &lt;sklearn.compose._column_transformer.make_column_selector object at 0x7f95a538ef90&gt;)])),\n",
              "                (&#x27;mdl&#x27;,\n",
              "                 LogisticRegression(penalty=&#x27;elasticnet&#x27;, solver=&#x27;saga&#x27;,\n",
              "                                    tol=0.01))])</pre></div></div></div><div class=\"sk-serial\"><div class=\"sk-item sk-dashed-wrapped\"><div class=\"sk-label-container\"><div class=\"sk-label sk-toggleable\"><input class=\"sk-toggleable__control sk-hidden--visually\" id=\"16e377df-be60-446e-a351-715954d66f8e\" type=\"checkbox\" ><label for=\"16e377df-be60-446e-a351-715954d66f8e\" class=\"sk-toggleable__label sk-toggleable__label-arrow\">preproc: ColumnTransformer</label><div class=\"sk-toggleable__content\"><pre>ColumnTransformer(remainder=&#x27;passthrough&#x27;,\n",
              "                  transformers=[(&#x27;cat_pipe&#x27;,\n",
              "                                 Pipeline(steps=[(&#x27;cat_impute&#x27;,\n",
              "                                                  SimpleImputer(strategy=&#x27;most_frequent&#x27;)),\n",
              "                                                 (&#x27;onehot_cat&#x27;,\n",
              "                                                  OneHotEncoder(handle_unknown=&#x27;ignore&#x27;))]),\n",
              "                                 &lt;sklearn.compose._column_transformer.make_column_selector object at 0x7f95a538ef10&gt;),\n",
              "                                (&#x27;num_pipe&#x27;,\n",
              "                                 Pipeline(steps=[(&#x27;impute_num&#x27;,\n",
              "                                                  SimpleImputer()),\n",
              "                                                 (&#x27;scale_num&#x27;,\n",
              "                                                  StandardScaler())]),\n",
              "                                 &lt;sklearn.compose._column_transformer.make_column_selector object at 0x7f95a538ef90&gt;)])</pre></div></div></div><div class=\"sk-parallel\"><div class=\"sk-parallel-item\"><div class=\"sk-item\"><div class=\"sk-label-container\"><div class=\"sk-label sk-toggleable\"><input class=\"sk-toggleable__control sk-hidden--visually\" id=\"2c56a119-4689-4d78-964e-94a145945b2f\" type=\"checkbox\" ><label for=\"2c56a119-4689-4d78-964e-94a145945b2f\" class=\"sk-toggleable__label sk-toggleable__label-arrow\">cat_pipe</label><div class=\"sk-toggleable__content\"><pre>&lt;sklearn.compose._column_transformer.make_column_selector object at 0x7f95a538ef10&gt;</pre></div></div></div><div class=\"sk-serial\"><div class=\"sk-item\"><div class=\"sk-serial\"><div class=\"sk-item\"><div class=\"sk-estimator sk-toggleable\"><input class=\"sk-toggleable__control sk-hidden--visually\" id=\"85211851-7291-4937-b222-82edea6cf710\" type=\"checkbox\" ><label for=\"85211851-7291-4937-b222-82edea6cf710\" class=\"sk-toggleable__label sk-toggleable__label-arrow\">SimpleImputer</label><div class=\"sk-toggleable__content\"><pre>SimpleImputer(strategy=&#x27;most_frequent&#x27;)</pre></div></div></div><div class=\"sk-item\"><div class=\"sk-estimator sk-toggleable\"><input class=\"sk-toggleable__control sk-hidden--visually\" id=\"7653f100-0509-4966-8ea9-9f3a3c1aae6e\" type=\"checkbox\" ><label for=\"7653f100-0509-4966-8ea9-9f3a3c1aae6e\" class=\"sk-toggleable__label sk-toggleable__label-arrow\">OneHotEncoder</label><div class=\"sk-toggleable__content\"><pre>OneHotEncoder(handle_unknown=&#x27;ignore&#x27;)</pre></div></div></div></div></div></div></div></div><div class=\"sk-parallel-item\"><div class=\"sk-item\"><div class=\"sk-label-container\"><div class=\"sk-label sk-toggleable\"><input class=\"sk-toggleable__control sk-hidden--visually\" id=\"680d601c-7a30-4e9a-99b6-e71d2e79866e\" type=\"checkbox\" ><label for=\"680d601c-7a30-4e9a-99b6-e71d2e79866e\" class=\"sk-toggleable__label sk-toggleable__label-arrow\">num_pipe</label><div class=\"sk-toggleable__content\"><pre>&lt;sklearn.compose._column_transformer.make_column_selector object at 0x7f95a538ef90&gt;</pre></div></div></div><div class=\"sk-serial\"><div class=\"sk-item\"><div class=\"sk-serial\"><div class=\"sk-item\"><div class=\"sk-estimator sk-toggleable\"><input class=\"sk-toggleable__control sk-hidden--visually\" id=\"582f844d-3c1d-4f61-94d7-27911de14cb6\" type=\"checkbox\" ><label for=\"582f844d-3c1d-4f61-94d7-27911de14cb6\" class=\"sk-toggleable__label sk-toggleable__label-arrow\">SimpleImputer</label><div class=\"sk-toggleable__content\"><pre>SimpleImputer()</pre></div></div></div><div class=\"sk-item\"><div class=\"sk-estimator sk-toggleable\"><input class=\"sk-toggleable__control sk-hidden--visually\" id=\"a965a099-4965-4a76-a0c5-1596b0048290\" type=\"checkbox\" ><label for=\"a965a099-4965-4a76-a0c5-1596b0048290\" class=\"sk-toggleable__label sk-toggleable__label-arrow\">StandardScaler</label><div class=\"sk-toggleable__content\"><pre>StandardScaler()</pre></div></div></div></div></div></div></div></div><div class=\"sk-parallel-item\"><div class=\"sk-item\"><div class=\"sk-label-container\"><div class=\"sk-label sk-toggleable\"><input class=\"sk-toggleable__control sk-hidden--visually\" id=\"a65a893f-3f81-4c06-9b1a-53e8db145bf1\" type=\"checkbox\" ><label for=\"a65a893f-3f81-4c06-9b1a-53e8db145bf1\" class=\"sk-toggleable__label sk-toggleable__label-arrow\">remainder</label><div class=\"sk-toggleable__content\"><pre></pre></div></div></div><div class=\"sk-serial\"><div class=\"sk-item\"><div class=\"sk-estimator sk-toggleable\"><input class=\"sk-toggleable__control sk-hidden--visually\" id=\"fb908240-2e39-4c1f-b5fb-de4dd2fb77e3\" type=\"checkbox\" ><label for=\"fb908240-2e39-4c1f-b5fb-de4dd2fb77e3\" class=\"sk-toggleable__label sk-toggleable__label-arrow\">passthrough</label><div class=\"sk-toggleable__content\"><pre>passthrough</pre></div></div></div></div></div></div></div></div><div class=\"sk-item\"><div class=\"sk-estimator sk-toggleable\"><input class=\"sk-toggleable__control sk-hidden--visually\" id=\"f43d80ae-3b7e-4e52-a073-51e2dd80d0d5\" type=\"checkbox\" ><label for=\"f43d80ae-3b7e-4e52-a073-51e2dd80d0d5\" class=\"sk-toggleable__label sk-toggleable__label-arrow\">LogisticRegression</label><div class=\"sk-toggleable__content\"><pre>LogisticRegression(penalty=&#x27;elasticnet&#x27;, solver=&#x27;saga&#x27;, tol=0.01)</pre></div></div></div></div></div></div></div>"
            ]
          },
          "metadata": {}
        }
      ]
    },
    {
      "cell_type": "markdown",
      "source": [
        "RandomForest"
      ],
      "metadata": {
        "id": "Nd8BoHkY2thL"
      }
    },
    {
      "cell_type": "code",
      "source": [
        "# TODO: set up your modeling pipeline RandomForest\n",
        "pipeRandForest = Pipeline([('preproc', preprocess),\n",
        "                        ('rf', RandomForestClassifier())])\n",
        "\n",
        "# Feel free to uncomment and edit the code below to visualize your overall pipeline\n",
        "with config_context(display='diagram'):\n",
        "    display(pipeRandForest)"
      ],
      "metadata": {
        "colab": {
          "base_uri": "https://localhost:8080/",
          "height": 227
        },
        "id": "gg5B-YdX2u7Q",
        "outputId": "b742c9c0-4984-4779-b352-6e0920ef2de6"
      },
      "execution_count": 194,
      "outputs": [
        {
          "output_type": "display_data",
          "data": {
            "text/plain": [
              "Pipeline(steps=[('preproc',\n",
              "                 ColumnTransformer(remainder='passthrough',\n",
              "                                   transformers=[('cat_pipe',\n",
              "                                                  Pipeline(steps=[('cat_impute',\n",
              "                                                                   SimpleImputer(strategy='most_frequent')),\n",
              "                                                                  ('onehot_cat',\n",
              "                                                                   OneHotEncoder())]),\n",
              "                                                  <sklearn.compose._column_transformer.make_column_selector object at 0x7f95a761b990>),\n",
              "                                                 ('num_pipe',\n",
              "                                                  Pipeline(steps=[('impute_num',\n",
              "                                                                   SimpleImputer()),\n",
              "                                                                  ('scale_num',\n",
              "                                                                   StandardScaler())]),\n",
              "                                                  <sklearn.compose._column_transformer.make_column_selector object at 0x7f95a757d210>)])),\n",
              "                ('rf', RandomForestClassifier())])"
            ],
            "text/html": [
              "<style>#sk-641d5f87-e4e9-4d5d-9c58-5ee0f85ab577 {color: black;background-color: white;}#sk-641d5f87-e4e9-4d5d-9c58-5ee0f85ab577 pre{padding: 0;}#sk-641d5f87-e4e9-4d5d-9c58-5ee0f85ab577 div.sk-toggleable {background-color: white;}#sk-641d5f87-e4e9-4d5d-9c58-5ee0f85ab577 label.sk-toggleable__label {cursor: pointer;display: block;width: 100%;margin-bottom: 0;padding: 0.3em;box-sizing: border-box;text-align: center;}#sk-641d5f87-e4e9-4d5d-9c58-5ee0f85ab577 label.sk-toggleable__label-arrow:before {content: \"▸\";float: left;margin-right: 0.25em;color: #696969;}#sk-641d5f87-e4e9-4d5d-9c58-5ee0f85ab577 label.sk-toggleable__label-arrow:hover:before {color: black;}#sk-641d5f87-e4e9-4d5d-9c58-5ee0f85ab577 div.sk-estimator:hover label.sk-toggleable__label-arrow:before {color: black;}#sk-641d5f87-e4e9-4d5d-9c58-5ee0f85ab577 div.sk-toggleable__content {max-height: 0;max-width: 0;overflow: hidden;text-align: left;background-color: #f0f8ff;}#sk-641d5f87-e4e9-4d5d-9c58-5ee0f85ab577 div.sk-toggleable__content pre {margin: 0.2em;color: black;border-radius: 0.25em;background-color: #f0f8ff;}#sk-641d5f87-e4e9-4d5d-9c58-5ee0f85ab577 input.sk-toggleable__control:checked~div.sk-toggleable__content {max-height: 200px;max-width: 100%;overflow: auto;}#sk-641d5f87-e4e9-4d5d-9c58-5ee0f85ab577 input.sk-toggleable__control:checked~label.sk-toggleable__label-arrow:before {content: \"▾\";}#sk-641d5f87-e4e9-4d5d-9c58-5ee0f85ab577 div.sk-estimator input.sk-toggleable__control:checked~label.sk-toggleable__label {background-color: #d4ebff;}#sk-641d5f87-e4e9-4d5d-9c58-5ee0f85ab577 div.sk-label input.sk-toggleable__control:checked~label.sk-toggleable__label {background-color: #d4ebff;}#sk-641d5f87-e4e9-4d5d-9c58-5ee0f85ab577 input.sk-hidden--visually {border: 0;clip: rect(1px 1px 1px 1px);clip: rect(1px, 1px, 1px, 1px);height: 1px;margin: -1px;overflow: hidden;padding: 0;position: absolute;width: 1px;}#sk-641d5f87-e4e9-4d5d-9c58-5ee0f85ab577 div.sk-estimator {font-family: monospace;background-color: #f0f8ff;border: 1px dotted black;border-radius: 0.25em;box-sizing: border-box;margin-bottom: 0.5em;}#sk-641d5f87-e4e9-4d5d-9c58-5ee0f85ab577 div.sk-estimator:hover {background-color: #d4ebff;}#sk-641d5f87-e4e9-4d5d-9c58-5ee0f85ab577 div.sk-parallel-item::after {content: \"\";width: 100%;border-bottom: 1px solid gray;flex-grow: 1;}#sk-641d5f87-e4e9-4d5d-9c58-5ee0f85ab577 div.sk-label:hover label.sk-toggleable__label {background-color: #d4ebff;}#sk-641d5f87-e4e9-4d5d-9c58-5ee0f85ab577 div.sk-serial::before {content: \"\";position: absolute;border-left: 1px solid gray;box-sizing: border-box;top: 2em;bottom: 0;left: 50%;}#sk-641d5f87-e4e9-4d5d-9c58-5ee0f85ab577 div.sk-serial {display: flex;flex-direction: column;align-items: center;background-color: white;padding-right: 0.2em;padding-left: 0.2em;}#sk-641d5f87-e4e9-4d5d-9c58-5ee0f85ab577 div.sk-item {z-index: 1;}#sk-641d5f87-e4e9-4d5d-9c58-5ee0f85ab577 div.sk-parallel {display: flex;align-items: stretch;justify-content: center;background-color: white;}#sk-641d5f87-e4e9-4d5d-9c58-5ee0f85ab577 div.sk-parallel::before {content: \"\";position: absolute;border-left: 1px solid gray;box-sizing: border-box;top: 2em;bottom: 0;left: 50%;}#sk-641d5f87-e4e9-4d5d-9c58-5ee0f85ab577 div.sk-parallel-item {display: flex;flex-direction: column;position: relative;background-color: white;}#sk-641d5f87-e4e9-4d5d-9c58-5ee0f85ab577 div.sk-parallel-item:first-child::after {align-self: flex-end;width: 50%;}#sk-641d5f87-e4e9-4d5d-9c58-5ee0f85ab577 div.sk-parallel-item:last-child::after {align-self: flex-start;width: 50%;}#sk-641d5f87-e4e9-4d5d-9c58-5ee0f85ab577 div.sk-parallel-item:only-child::after {width: 0;}#sk-641d5f87-e4e9-4d5d-9c58-5ee0f85ab577 div.sk-dashed-wrapped {border: 1px dashed gray;margin: 0 0.4em 0.5em 0.4em;box-sizing: border-box;padding-bottom: 0.4em;background-color: white;position: relative;}#sk-641d5f87-e4e9-4d5d-9c58-5ee0f85ab577 div.sk-label label {font-family: monospace;font-weight: bold;background-color: white;display: inline-block;line-height: 1.2em;}#sk-641d5f87-e4e9-4d5d-9c58-5ee0f85ab577 div.sk-label-container {position: relative;z-index: 2;text-align: center;}#sk-641d5f87-e4e9-4d5d-9c58-5ee0f85ab577 div.sk-container {/* jupyter's `normalize.less` sets `[hidden] { display: none; }` but bootstrap.min.css set `[hidden] { display: none !important; }` so we also need the `!important` here to be able to override the default hidden behavior on the sphinx rendered scikit-learn.org. See: https://github.com/scikit-learn/scikit-learn/issues/21755 */display: inline-block !important;position: relative;}#sk-641d5f87-e4e9-4d5d-9c58-5ee0f85ab577 div.sk-text-repr-fallback {display: none;}</style><div id=\"sk-641d5f87-e4e9-4d5d-9c58-5ee0f85ab577\" class=\"sk-top-container\"><div class=\"sk-text-repr-fallback\"><pre>Pipeline(steps=[(&#x27;preproc&#x27;,\n",
              "                 ColumnTransformer(remainder=&#x27;passthrough&#x27;,\n",
              "                                   transformers=[(&#x27;cat_pipe&#x27;,\n",
              "                                                  Pipeline(steps=[(&#x27;cat_impute&#x27;,\n",
              "                                                                   SimpleImputer(strategy=&#x27;most_frequent&#x27;)),\n",
              "                                                                  (&#x27;onehot_cat&#x27;,\n",
              "                                                                   OneHotEncoder())]),\n",
              "                                                  &lt;sklearn.compose._column_transformer.make_column_selector object at 0x7f95a761b990&gt;),\n",
              "                                                 (&#x27;num_pipe&#x27;,\n",
              "                                                  Pipeline(steps=[(&#x27;impute_num&#x27;,\n",
              "                                                                   SimpleImputer()),\n",
              "                                                                  (&#x27;scale_num&#x27;,\n",
              "                                                                   StandardScaler())]),\n",
              "                                                  &lt;sklearn.compose._column_transformer.make_column_selector object at 0x7f95a757d210&gt;)])),\n",
              "                (&#x27;rf&#x27;, RandomForestClassifier())])</pre><b>Please rerun this cell to show the HTML repr or trust the notebook.</b></div><div class=\"sk-container\" hidden><div class=\"sk-item sk-dashed-wrapped\"><div class=\"sk-label-container\"><div class=\"sk-label sk-toggleable\"><input class=\"sk-toggleable__control sk-hidden--visually\" id=\"bbdb4126-648a-453a-b313-b49fb7254e25\" type=\"checkbox\" ><label for=\"bbdb4126-648a-453a-b313-b49fb7254e25\" class=\"sk-toggleable__label sk-toggleable__label-arrow\">Pipeline</label><div class=\"sk-toggleable__content\"><pre>Pipeline(steps=[(&#x27;preproc&#x27;,\n",
              "                 ColumnTransformer(remainder=&#x27;passthrough&#x27;,\n",
              "                                   transformers=[(&#x27;cat_pipe&#x27;,\n",
              "                                                  Pipeline(steps=[(&#x27;cat_impute&#x27;,\n",
              "                                                                   SimpleImputer(strategy=&#x27;most_frequent&#x27;)),\n",
              "                                                                  (&#x27;onehot_cat&#x27;,\n",
              "                                                                   OneHotEncoder())]),\n",
              "                                                  &lt;sklearn.compose._column_transformer.make_column_selector object at 0x7f95a761b990&gt;),\n",
              "                                                 (&#x27;num_pipe&#x27;,\n",
              "                                                  Pipeline(steps=[(&#x27;impute_num&#x27;,\n",
              "                                                                   SimpleImputer()),\n",
              "                                                                  (&#x27;scale_num&#x27;,\n",
              "                                                                   StandardScaler())]),\n",
              "                                                  &lt;sklearn.compose._column_transformer.make_column_selector object at 0x7f95a757d210&gt;)])),\n",
              "                (&#x27;rf&#x27;, RandomForestClassifier())])</pre></div></div></div><div class=\"sk-serial\"><div class=\"sk-item sk-dashed-wrapped\"><div class=\"sk-label-container\"><div class=\"sk-label sk-toggleable\"><input class=\"sk-toggleable__control sk-hidden--visually\" id=\"dd56e71f-d88d-467b-966c-3682a965a866\" type=\"checkbox\" ><label for=\"dd56e71f-d88d-467b-966c-3682a965a866\" class=\"sk-toggleable__label sk-toggleable__label-arrow\">preproc: ColumnTransformer</label><div class=\"sk-toggleable__content\"><pre>ColumnTransformer(remainder=&#x27;passthrough&#x27;,\n",
              "                  transformers=[(&#x27;cat_pipe&#x27;,\n",
              "                                 Pipeline(steps=[(&#x27;cat_impute&#x27;,\n",
              "                                                  SimpleImputer(strategy=&#x27;most_frequent&#x27;)),\n",
              "                                                 (&#x27;onehot_cat&#x27;,\n",
              "                                                  OneHotEncoder())]),\n",
              "                                 &lt;sklearn.compose._column_transformer.make_column_selector object at 0x7f95a761b990&gt;),\n",
              "                                (&#x27;num_pipe&#x27;,\n",
              "                                 Pipeline(steps=[(&#x27;impute_num&#x27;,\n",
              "                                                  SimpleImputer()),\n",
              "                                                 (&#x27;scale_num&#x27;,\n",
              "                                                  StandardScaler())]),\n",
              "                                 &lt;sklearn.compose._column_transformer.make_column_selector object at 0x7f95a757d210&gt;)])</pre></div></div></div><div class=\"sk-parallel\"><div class=\"sk-parallel-item\"><div class=\"sk-item\"><div class=\"sk-label-container\"><div class=\"sk-label sk-toggleable\"><input class=\"sk-toggleable__control sk-hidden--visually\" id=\"e6429cde-ec95-4be6-a087-3fca07865e37\" type=\"checkbox\" ><label for=\"e6429cde-ec95-4be6-a087-3fca07865e37\" class=\"sk-toggleable__label sk-toggleable__label-arrow\">cat_pipe</label><div class=\"sk-toggleable__content\"><pre>&lt;sklearn.compose._column_transformer.make_column_selector object at 0x7f95a761b990&gt;</pre></div></div></div><div class=\"sk-serial\"><div class=\"sk-item\"><div class=\"sk-serial\"><div class=\"sk-item\"><div class=\"sk-estimator sk-toggleable\"><input class=\"sk-toggleable__control sk-hidden--visually\" id=\"cd1bd1a4-a768-4d00-9732-cc0e5736c0ac\" type=\"checkbox\" ><label for=\"cd1bd1a4-a768-4d00-9732-cc0e5736c0ac\" class=\"sk-toggleable__label sk-toggleable__label-arrow\">SimpleImputer</label><div class=\"sk-toggleable__content\"><pre>SimpleImputer(strategy=&#x27;most_frequent&#x27;)</pre></div></div></div><div class=\"sk-item\"><div class=\"sk-estimator sk-toggleable\"><input class=\"sk-toggleable__control sk-hidden--visually\" id=\"3372bc19-8eab-48c2-86dc-6a645ad8daca\" type=\"checkbox\" ><label for=\"3372bc19-8eab-48c2-86dc-6a645ad8daca\" class=\"sk-toggleable__label sk-toggleable__label-arrow\">OneHotEncoder</label><div class=\"sk-toggleable__content\"><pre>OneHotEncoder()</pre></div></div></div></div></div></div></div></div><div class=\"sk-parallel-item\"><div class=\"sk-item\"><div class=\"sk-label-container\"><div class=\"sk-label sk-toggleable\"><input class=\"sk-toggleable__control sk-hidden--visually\" id=\"599753fa-2793-463d-ac61-a45cf5b1c636\" type=\"checkbox\" ><label for=\"599753fa-2793-463d-ac61-a45cf5b1c636\" class=\"sk-toggleable__label sk-toggleable__label-arrow\">num_pipe</label><div class=\"sk-toggleable__content\"><pre>&lt;sklearn.compose._column_transformer.make_column_selector object at 0x7f95a757d210&gt;</pre></div></div></div><div class=\"sk-serial\"><div class=\"sk-item\"><div class=\"sk-serial\"><div class=\"sk-item\"><div class=\"sk-estimator sk-toggleable\"><input class=\"sk-toggleable__control sk-hidden--visually\" id=\"7e6e2130-c51e-4d32-9bd6-5c07209b0b8f\" type=\"checkbox\" ><label for=\"7e6e2130-c51e-4d32-9bd6-5c07209b0b8f\" class=\"sk-toggleable__label sk-toggleable__label-arrow\">SimpleImputer</label><div class=\"sk-toggleable__content\"><pre>SimpleImputer()</pre></div></div></div><div class=\"sk-item\"><div class=\"sk-estimator sk-toggleable\"><input class=\"sk-toggleable__control sk-hidden--visually\" id=\"37b46af8-5861-4c83-9432-1a0c307d1ba1\" type=\"checkbox\" ><label for=\"37b46af8-5861-4c83-9432-1a0c307d1ba1\" class=\"sk-toggleable__label sk-toggleable__label-arrow\">StandardScaler</label><div class=\"sk-toggleable__content\"><pre>StandardScaler()</pre></div></div></div></div></div></div></div></div><div class=\"sk-parallel-item\"><div class=\"sk-item\"><div class=\"sk-label-container\"><div class=\"sk-label sk-toggleable\"><input class=\"sk-toggleable__control sk-hidden--visually\" id=\"11443f49-2366-4f74-9310-26c796c9c2ae\" type=\"checkbox\" ><label for=\"11443f49-2366-4f74-9310-26c796c9c2ae\" class=\"sk-toggleable__label sk-toggleable__label-arrow\">remainder</label><div class=\"sk-toggleable__content\"><pre></pre></div></div></div><div class=\"sk-serial\"><div class=\"sk-item\"><div class=\"sk-estimator sk-toggleable\"><input class=\"sk-toggleable__control sk-hidden--visually\" id=\"e3edd906-f3f2-42d8-a088-8fa7c1304235\" type=\"checkbox\" ><label for=\"e3edd906-f3f2-42d8-a088-8fa7c1304235\" class=\"sk-toggleable__label sk-toggleable__label-arrow\">passthrough</label><div class=\"sk-toggleable__content\"><pre>passthrough</pre></div></div></div></div></div></div></div></div><div class=\"sk-item\"><div class=\"sk-estimator sk-toggleable\"><input class=\"sk-toggleable__control sk-hidden--visually\" id=\"03b9fe6a-bebc-405d-80a8-ba5ff8cacd4e\" type=\"checkbox\" ><label for=\"03b9fe6a-bebc-405d-80a8-ba5ff8cacd4e\" class=\"sk-toggleable__label sk-toggleable__label-arrow\">RandomForestClassifier</label><div class=\"sk-toggleable__content\"><pre>RandomForestClassifier()</pre></div></div></div></div></div></div></div>"
            ]
          },
          "metadata": {}
        }
      ]
    },
    {
      "cell_type": "markdown",
      "source": [
        "GradientBoost"
      ],
      "metadata": {
        "id": "Bj8MUZ-P2ycw"
      }
    },
    {
      "cell_type": "code",
      "source": [
        "# TODO: set up your modeling pipeline GradientBoosting\n",
        "pipeGradBoost = Pipeline(steps=[('preproc', preprocess),\n",
        "                       ('gbc', GradientBoostingClassifier())])\n",
        "\n",
        "\n",
        "# Feel free to uncomment and edit the code below to visualize your overall pipeline\n",
        "with config_context(display='diagram'):\n",
        "    display(pipeGradBoost)"
      ],
      "metadata": {
        "colab": {
          "base_uri": "https://localhost:8080/",
          "height": 227
        },
        "id": "9kf3gRFe2zok",
        "outputId": "1ae9df35-29bf-444a-81db-d0019306a625"
      },
      "execution_count": 195,
      "outputs": [
        {
          "output_type": "display_data",
          "data": {
            "text/plain": [
              "Pipeline(steps=[('preproc',\n",
              "                 ColumnTransformer(remainder='passthrough',\n",
              "                                   transformers=[('cat_pipe',\n",
              "                                                  Pipeline(steps=[('cat_impute',\n",
              "                                                                   SimpleImputer(strategy='most_frequent')),\n",
              "                                                                  ('onehot_cat',\n",
              "                                                                   OneHotEncoder())]),\n",
              "                                                  <sklearn.compose._column_transformer.make_column_selector object at 0x7f95a761b990>),\n",
              "                                                 ('num_pipe',\n",
              "                                                  Pipeline(steps=[('impute_num',\n",
              "                                                                   SimpleImputer()),\n",
              "                                                                  ('scale_num',\n",
              "                                                                   StandardScaler())]),\n",
              "                                                  <sklearn.compose._column_transformer.make_column_selector object at 0x7f95a757d210>)])),\n",
              "                ('gbc', GradientBoostingClassifier())])"
            ],
            "text/html": [
              "<style>#sk-39ba9a3e-7c43-4220-8857-25e955ef2fd1 {color: black;background-color: white;}#sk-39ba9a3e-7c43-4220-8857-25e955ef2fd1 pre{padding: 0;}#sk-39ba9a3e-7c43-4220-8857-25e955ef2fd1 div.sk-toggleable {background-color: white;}#sk-39ba9a3e-7c43-4220-8857-25e955ef2fd1 label.sk-toggleable__label {cursor: pointer;display: block;width: 100%;margin-bottom: 0;padding: 0.3em;box-sizing: border-box;text-align: center;}#sk-39ba9a3e-7c43-4220-8857-25e955ef2fd1 label.sk-toggleable__label-arrow:before {content: \"▸\";float: left;margin-right: 0.25em;color: #696969;}#sk-39ba9a3e-7c43-4220-8857-25e955ef2fd1 label.sk-toggleable__label-arrow:hover:before {color: black;}#sk-39ba9a3e-7c43-4220-8857-25e955ef2fd1 div.sk-estimator:hover label.sk-toggleable__label-arrow:before {color: black;}#sk-39ba9a3e-7c43-4220-8857-25e955ef2fd1 div.sk-toggleable__content {max-height: 0;max-width: 0;overflow: hidden;text-align: left;background-color: #f0f8ff;}#sk-39ba9a3e-7c43-4220-8857-25e955ef2fd1 div.sk-toggleable__content pre {margin: 0.2em;color: black;border-radius: 0.25em;background-color: #f0f8ff;}#sk-39ba9a3e-7c43-4220-8857-25e955ef2fd1 input.sk-toggleable__control:checked~div.sk-toggleable__content {max-height: 200px;max-width: 100%;overflow: auto;}#sk-39ba9a3e-7c43-4220-8857-25e955ef2fd1 input.sk-toggleable__control:checked~label.sk-toggleable__label-arrow:before {content: \"▾\";}#sk-39ba9a3e-7c43-4220-8857-25e955ef2fd1 div.sk-estimator input.sk-toggleable__control:checked~label.sk-toggleable__label {background-color: #d4ebff;}#sk-39ba9a3e-7c43-4220-8857-25e955ef2fd1 div.sk-label input.sk-toggleable__control:checked~label.sk-toggleable__label {background-color: #d4ebff;}#sk-39ba9a3e-7c43-4220-8857-25e955ef2fd1 input.sk-hidden--visually {border: 0;clip: rect(1px 1px 1px 1px);clip: rect(1px, 1px, 1px, 1px);height: 1px;margin: -1px;overflow: hidden;padding: 0;position: absolute;width: 1px;}#sk-39ba9a3e-7c43-4220-8857-25e955ef2fd1 div.sk-estimator {font-family: monospace;background-color: #f0f8ff;border: 1px dotted black;border-radius: 0.25em;box-sizing: border-box;margin-bottom: 0.5em;}#sk-39ba9a3e-7c43-4220-8857-25e955ef2fd1 div.sk-estimator:hover {background-color: #d4ebff;}#sk-39ba9a3e-7c43-4220-8857-25e955ef2fd1 div.sk-parallel-item::after {content: \"\";width: 100%;border-bottom: 1px solid gray;flex-grow: 1;}#sk-39ba9a3e-7c43-4220-8857-25e955ef2fd1 div.sk-label:hover label.sk-toggleable__label {background-color: #d4ebff;}#sk-39ba9a3e-7c43-4220-8857-25e955ef2fd1 div.sk-serial::before {content: \"\";position: absolute;border-left: 1px solid gray;box-sizing: border-box;top: 2em;bottom: 0;left: 50%;}#sk-39ba9a3e-7c43-4220-8857-25e955ef2fd1 div.sk-serial {display: flex;flex-direction: column;align-items: center;background-color: white;padding-right: 0.2em;padding-left: 0.2em;}#sk-39ba9a3e-7c43-4220-8857-25e955ef2fd1 div.sk-item {z-index: 1;}#sk-39ba9a3e-7c43-4220-8857-25e955ef2fd1 div.sk-parallel {display: flex;align-items: stretch;justify-content: center;background-color: white;}#sk-39ba9a3e-7c43-4220-8857-25e955ef2fd1 div.sk-parallel::before {content: \"\";position: absolute;border-left: 1px solid gray;box-sizing: border-box;top: 2em;bottom: 0;left: 50%;}#sk-39ba9a3e-7c43-4220-8857-25e955ef2fd1 div.sk-parallel-item {display: flex;flex-direction: column;position: relative;background-color: white;}#sk-39ba9a3e-7c43-4220-8857-25e955ef2fd1 div.sk-parallel-item:first-child::after {align-self: flex-end;width: 50%;}#sk-39ba9a3e-7c43-4220-8857-25e955ef2fd1 div.sk-parallel-item:last-child::after {align-self: flex-start;width: 50%;}#sk-39ba9a3e-7c43-4220-8857-25e955ef2fd1 div.sk-parallel-item:only-child::after {width: 0;}#sk-39ba9a3e-7c43-4220-8857-25e955ef2fd1 div.sk-dashed-wrapped {border: 1px dashed gray;margin: 0 0.4em 0.5em 0.4em;box-sizing: border-box;padding-bottom: 0.4em;background-color: white;position: relative;}#sk-39ba9a3e-7c43-4220-8857-25e955ef2fd1 div.sk-label label {font-family: monospace;font-weight: bold;background-color: white;display: inline-block;line-height: 1.2em;}#sk-39ba9a3e-7c43-4220-8857-25e955ef2fd1 div.sk-label-container {position: relative;z-index: 2;text-align: center;}#sk-39ba9a3e-7c43-4220-8857-25e955ef2fd1 div.sk-container {/* jupyter's `normalize.less` sets `[hidden] { display: none; }` but bootstrap.min.css set `[hidden] { display: none !important; }` so we also need the `!important` here to be able to override the default hidden behavior on the sphinx rendered scikit-learn.org. See: https://github.com/scikit-learn/scikit-learn/issues/21755 */display: inline-block !important;position: relative;}#sk-39ba9a3e-7c43-4220-8857-25e955ef2fd1 div.sk-text-repr-fallback {display: none;}</style><div id=\"sk-39ba9a3e-7c43-4220-8857-25e955ef2fd1\" class=\"sk-top-container\"><div class=\"sk-text-repr-fallback\"><pre>Pipeline(steps=[(&#x27;preproc&#x27;,\n",
              "                 ColumnTransformer(remainder=&#x27;passthrough&#x27;,\n",
              "                                   transformers=[(&#x27;cat_pipe&#x27;,\n",
              "                                                  Pipeline(steps=[(&#x27;cat_impute&#x27;,\n",
              "                                                                   SimpleImputer(strategy=&#x27;most_frequent&#x27;)),\n",
              "                                                                  (&#x27;onehot_cat&#x27;,\n",
              "                                                                   OneHotEncoder())]),\n",
              "                                                  &lt;sklearn.compose._column_transformer.make_column_selector object at 0x7f95a761b990&gt;),\n",
              "                                                 (&#x27;num_pipe&#x27;,\n",
              "                                                  Pipeline(steps=[(&#x27;impute_num&#x27;,\n",
              "                                                                   SimpleImputer()),\n",
              "                                                                  (&#x27;scale_num&#x27;,\n",
              "                                                                   StandardScaler())]),\n",
              "                                                  &lt;sklearn.compose._column_transformer.make_column_selector object at 0x7f95a757d210&gt;)])),\n",
              "                (&#x27;gbc&#x27;, GradientBoostingClassifier())])</pre><b>Please rerun this cell to show the HTML repr or trust the notebook.</b></div><div class=\"sk-container\" hidden><div class=\"sk-item sk-dashed-wrapped\"><div class=\"sk-label-container\"><div class=\"sk-label sk-toggleable\"><input class=\"sk-toggleable__control sk-hidden--visually\" id=\"0685ebef-8fc9-4efc-b95c-eec6304ff172\" type=\"checkbox\" ><label for=\"0685ebef-8fc9-4efc-b95c-eec6304ff172\" class=\"sk-toggleable__label sk-toggleable__label-arrow\">Pipeline</label><div class=\"sk-toggleable__content\"><pre>Pipeline(steps=[(&#x27;preproc&#x27;,\n",
              "                 ColumnTransformer(remainder=&#x27;passthrough&#x27;,\n",
              "                                   transformers=[(&#x27;cat_pipe&#x27;,\n",
              "                                                  Pipeline(steps=[(&#x27;cat_impute&#x27;,\n",
              "                                                                   SimpleImputer(strategy=&#x27;most_frequent&#x27;)),\n",
              "                                                                  (&#x27;onehot_cat&#x27;,\n",
              "                                                                   OneHotEncoder())]),\n",
              "                                                  &lt;sklearn.compose._column_transformer.make_column_selector object at 0x7f95a761b990&gt;),\n",
              "                                                 (&#x27;num_pipe&#x27;,\n",
              "                                                  Pipeline(steps=[(&#x27;impute_num&#x27;,\n",
              "                                                                   SimpleImputer()),\n",
              "                                                                  (&#x27;scale_num&#x27;,\n",
              "                                                                   StandardScaler())]),\n",
              "                                                  &lt;sklearn.compose._column_transformer.make_column_selector object at 0x7f95a757d210&gt;)])),\n",
              "                (&#x27;gbc&#x27;, GradientBoostingClassifier())])</pre></div></div></div><div class=\"sk-serial\"><div class=\"sk-item sk-dashed-wrapped\"><div class=\"sk-label-container\"><div class=\"sk-label sk-toggleable\"><input class=\"sk-toggleable__control sk-hidden--visually\" id=\"7ad9cc83-156d-43be-8200-aa519a82b58c\" type=\"checkbox\" ><label for=\"7ad9cc83-156d-43be-8200-aa519a82b58c\" class=\"sk-toggleable__label sk-toggleable__label-arrow\">preproc: ColumnTransformer</label><div class=\"sk-toggleable__content\"><pre>ColumnTransformer(remainder=&#x27;passthrough&#x27;,\n",
              "                  transformers=[(&#x27;cat_pipe&#x27;,\n",
              "                                 Pipeline(steps=[(&#x27;cat_impute&#x27;,\n",
              "                                                  SimpleImputer(strategy=&#x27;most_frequent&#x27;)),\n",
              "                                                 (&#x27;onehot_cat&#x27;,\n",
              "                                                  OneHotEncoder())]),\n",
              "                                 &lt;sklearn.compose._column_transformer.make_column_selector object at 0x7f95a761b990&gt;),\n",
              "                                (&#x27;num_pipe&#x27;,\n",
              "                                 Pipeline(steps=[(&#x27;impute_num&#x27;,\n",
              "                                                  SimpleImputer()),\n",
              "                                                 (&#x27;scale_num&#x27;,\n",
              "                                                  StandardScaler())]),\n",
              "                                 &lt;sklearn.compose._column_transformer.make_column_selector object at 0x7f95a757d210&gt;)])</pre></div></div></div><div class=\"sk-parallel\"><div class=\"sk-parallel-item\"><div class=\"sk-item\"><div class=\"sk-label-container\"><div class=\"sk-label sk-toggleable\"><input class=\"sk-toggleable__control sk-hidden--visually\" id=\"1ce2ef4a-380f-407c-a1c1-f69e4bf0220a\" type=\"checkbox\" ><label for=\"1ce2ef4a-380f-407c-a1c1-f69e4bf0220a\" class=\"sk-toggleable__label sk-toggleable__label-arrow\">cat_pipe</label><div class=\"sk-toggleable__content\"><pre>&lt;sklearn.compose._column_transformer.make_column_selector object at 0x7f95a761b990&gt;</pre></div></div></div><div class=\"sk-serial\"><div class=\"sk-item\"><div class=\"sk-serial\"><div class=\"sk-item\"><div class=\"sk-estimator sk-toggleable\"><input class=\"sk-toggleable__control sk-hidden--visually\" id=\"0ed65043-c4a4-483f-aeff-d258e3b71e38\" type=\"checkbox\" ><label for=\"0ed65043-c4a4-483f-aeff-d258e3b71e38\" class=\"sk-toggleable__label sk-toggleable__label-arrow\">SimpleImputer</label><div class=\"sk-toggleable__content\"><pre>SimpleImputer(strategy=&#x27;most_frequent&#x27;)</pre></div></div></div><div class=\"sk-item\"><div class=\"sk-estimator sk-toggleable\"><input class=\"sk-toggleable__control sk-hidden--visually\" id=\"6046291d-8b6d-4225-8bdc-96da3432aace\" type=\"checkbox\" ><label for=\"6046291d-8b6d-4225-8bdc-96da3432aace\" class=\"sk-toggleable__label sk-toggleable__label-arrow\">OneHotEncoder</label><div class=\"sk-toggleable__content\"><pre>OneHotEncoder()</pre></div></div></div></div></div></div></div></div><div class=\"sk-parallel-item\"><div class=\"sk-item\"><div class=\"sk-label-container\"><div class=\"sk-label sk-toggleable\"><input class=\"sk-toggleable__control sk-hidden--visually\" id=\"5d94222c-bbd0-4796-a340-fb18589919b0\" type=\"checkbox\" ><label for=\"5d94222c-bbd0-4796-a340-fb18589919b0\" class=\"sk-toggleable__label sk-toggleable__label-arrow\">num_pipe</label><div class=\"sk-toggleable__content\"><pre>&lt;sklearn.compose._column_transformer.make_column_selector object at 0x7f95a757d210&gt;</pre></div></div></div><div class=\"sk-serial\"><div class=\"sk-item\"><div class=\"sk-serial\"><div class=\"sk-item\"><div class=\"sk-estimator sk-toggleable\"><input class=\"sk-toggleable__control sk-hidden--visually\" id=\"d080deff-05a2-432e-b664-eabdac931a22\" type=\"checkbox\" ><label for=\"d080deff-05a2-432e-b664-eabdac931a22\" class=\"sk-toggleable__label sk-toggleable__label-arrow\">SimpleImputer</label><div class=\"sk-toggleable__content\"><pre>SimpleImputer()</pre></div></div></div><div class=\"sk-item\"><div class=\"sk-estimator sk-toggleable\"><input class=\"sk-toggleable__control sk-hidden--visually\" id=\"67bf4080-294e-478f-8d5d-dd7aa60c6075\" type=\"checkbox\" ><label for=\"67bf4080-294e-478f-8d5d-dd7aa60c6075\" class=\"sk-toggleable__label sk-toggleable__label-arrow\">StandardScaler</label><div class=\"sk-toggleable__content\"><pre>StandardScaler()</pre></div></div></div></div></div></div></div></div><div class=\"sk-parallel-item\"><div class=\"sk-item\"><div class=\"sk-label-container\"><div class=\"sk-label sk-toggleable\"><input class=\"sk-toggleable__control sk-hidden--visually\" id=\"9660a4a8-6bf8-4a1d-a347-692301c4f5a5\" type=\"checkbox\" ><label for=\"9660a4a8-6bf8-4a1d-a347-692301c4f5a5\" class=\"sk-toggleable__label sk-toggleable__label-arrow\">remainder</label><div class=\"sk-toggleable__content\"><pre></pre></div></div></div><div class=\"sk-serial\"><div class=\"sk-item\"><div class=\"sk-estimator sk-toggleable\"><input class=\"sk-toggleable__control sk-hidden--visually\" id=\"4b02b442-6b85-4c9f-b16a-65115494c6c3\" type=\"checkbox\" ><label for=\"4b02b442-6b85-4c9f-b16a-65115494c6c3\" class=\"sk-toggleable__label sk-toggleable__label-arrow\">passthrough</label><div class=\"sk-toggleable__content\"><pre>passthrough</pre></div></div></div></div></div></div></div></div><div class=\"sk-item\"><div class=\"sk-estimator sk-toggleable\"><input class=\"sk-toggleable__control sk-hidden--visually\" id=\"a51c334a-50cc-4580-bc06-a4cc25815919\" type=\"checkbox\" ><label for=\"a51c334a-50cc-4580-bc06-a4cc25815919\" class=\"sk-toggleable__label sk-toggleable__label-arrow\">GradientBoostingClassifier</label><div class=\"sk-toggleable__content\"><pre>GradientBoostingClassifier()</pre></div></div></div></div></div></div></div>"
            ]
          },
          "metadata": {}
        }
      ]
    },
    {
      "cell_type": "code",
      "source": [
        ""
      ],
      "metadata": {
        "id": "_w24fwEP7AEy"
      },
      "execution_count": 195,
      "outputs": []
    },
    {
      "cell_type": "markdown",
      "source": [
        "## Cross-validation with hyperparameter tuning\n"
      ],
      "metadata": {
        "id": "tvXfBlX43Axt"
      }
    },
    {
      "cell_type": "markdown",
      "source": [
        "LogisticalRegression"
      ],
      "metadata": {
        "id": "Oo-McGDG3GY1"
      }
    },
    {
      "cell_type": "code",
      "source": [
        "# TODO: set up your tuning grid \n",
        "# grid_search_lr.get_params().keys()\n",
        "tuning_grid_lr = {'mdl__l1_ratio' : np.linspace(0,1,5),\n",
        "                           'mdl__C': np.logspace(-1, 6, 3) }\n",
        "grid_search_lr = GridSearchCV(pipeLR, param_grid = tuning_grid_lr, cv = 5, return_train_score=True)\n",
        "\n",
        "print(grid_search_lr)"
      ],
      "metadata": {
        "colab": {
          "base_uri": "https://localhost:8080/"
        },
        "id": "oxMQaSTy3BeP",
        "outputId": "ee866ed9-31aa-446b-ac3c-518808d76017"
      },
      "execution_count": 260,
      "outputs": [
        {
          "output_type": "stream",
          "name": "stdout",
          "text": [
            "GridSearchCV(cv=5,\n",
            "             estimator=Pipeline(steps=[('preproc',\n",
            "                                        ColumnTransformer(remainder='passthrough',\n",
            "                                                          transformers=[('cat_pipe',\n",
            "                                                                         Pipeline(steps=[('cat_impute',\n",
            "                                                                                          SimpleImputer(strategy='most_frequent')),\n",
            "                                                                                         ('onehot_cat',\n",
            "                                                                                          OneHotEncoder(handle_unknown='ignore'))]),\n",
            "                                                                         <sklearn.compose._column_transformer.make_column_selector object at 0x7f95a538ef10>),\n",
            "                                                                        ('num_pipe',\n",
            "                                                                         Pipeli...\n",
            "                                                                                          SimpleImputer()),\n",
            "                                                                                         ('scale_num',\n",
            "                                                                                          StandardScaler())]),\n",
            "                                                                         <sklearn.compose._column_transformer.make_column_selector object at 0x7f95a538ef90>)])),\n",
            "                                       ('mdl',\n",
            "                                        LogisticRegression(penalty='elasticnet',\n",
            "                                                           solver='saga',\n",
            "                                                           tol=0.01))]),\n",
            "             param_grid={'mdl__C': array([1.00000000e-01, 3.16227766e+02, 1.00000000e+06]),\n",
            "                         'mdl__l1_ratio': array([0.  , 0.25, 0.5 , 0.75, 1.  ])},\n",
            "             return_train_score=True)\n"
          ]
        }
      ]
    },
    {
      "cell_type": "markdown",
      "source": [
        "RandomForest"
      ],
      "metadata": {
        "id": "nf8DTQ9A3M9X"
      }
    },
    {
      "cell_type": "code",
      "source": [
        "# TODO: set up your tuning grid\n",
        "# grid_search_rf.get_params().keys()\n",
        "tuning_grid_rf = param_grid = {'rf__n_estimators': [10, 50],\n",
        "                                        'rf__max_features': ['auto', 'sqrt', 'log2'],\n",
        "                                        'rf__max_depth' : [4,5,6],\n",
        "                                        'rf__criterion' :['gini', 'entropy']\n",
        "                                       }\n",
        "grid_search_rf = GridSearchCV(pipeRandForest, param_grid = tuning_grid_rf, cv = 5, return_train_score=True)"
      ],
      "metadata": {
        "id": "4OTlSLjG3O7K"
      },
      "execution_count": 197,
      "outputs": []
    },
    {
      "cell_type": "markdown",
      "source": [
        "GradientBoosting"
      ],
      "metadata": {
        "id": "tv31PuMb3QQU"
      }
    },
    {
      "cell_type": "code",
      "source": [
        "# TODO: set up your tuning grid\n",
        "# grid_search_gb.get_params().keys()\n",
        "tuning_grid_gb = param_grid = {'gbc__learning_rate': [1, 0.5, 0.25],\n",
        "                                       'gbc__n_estimators': [64, 128, 256],\n",
        "                                       'gbc__max_depth': [2, 4],\n",
        "                                       'gbc__min_samples_split': [2, 4]\n",
        "                                      }\n",
        "grid_search_gb = GridSearchCV(pipeGradBoost, param_grid = tuning_grid_gb, cv = 5, return_train_score=True)"
      ],
      "metadata": {
        "id": "UFxYVM4u3VDk"
      },
      "execution_count": 198,
      "outputs": []
    },
    {
      "cell_type": "markdown",
      "source": [
        "# Fitting"
      ],
      "metadata": {
        "id": "i9pj2PQG5N-H"
      }
    },
    {
      "cell_type": "code",
      "source": [
        "# Fit Logistic\n",
        "grid_search_lr.fit(X_train, y_train)"
      ],
      "metadata": {
        "id": "31fWIxOg5QPr"
      },
      "execution_count": null,
      "outputs": []
    },
    {
      "cell_type": "code",
      "source": [
        "# Fit Gradient Boosting\n",
        "\n",
        "#grid_search_gb.fit(X_train, y_train)"
      ],
      "metadata": {
        "id": "-LSub8-j62DL"
      },
      "execution_count": null,
      "outputs": []
    },
    {
      "cell_type": "code",
      "source": [
        "# Fit RandomRainForest\n",
        "grid_search_rf.fit(X_train, y_train)\n"
      ],
      "metadata": {
        "id": "anl0ujvZ60Jd"
      },
      "execution_count": null,
      "outputs": []
    },
    {
      "cell_type": "markdown",
      "source": [
        "# Best Performing Model Parameters"
      ],
      "metadata": {
        "id": "xOyXR60k3a9d"
      }
    },
    {
      "cell_type": "markdown",
      "source": [
        "LogisticalRegression"
      ],
      "metadata": {
        "id": "hUBnsNSZ3nEN"
      }
    },
    {
      "cell_type": "code",
      "source": [
        "print(\"LogisticRegression best score:\", grid_search_lr.best_score_)\n",
        "grid_search_lr.best_params_"
      ],
      "metadata": {
        "id": "jg7xflhT3r2-"
      },
      "execution_count": null,
      "outputs": []
    },
    {
      "cell_type": "markdown",
      "source": [
        "RandomForest"
      ],
      "metadata": {
        "id": "RO04x1wz3weT"
      }
    },
    {
      "cell_type": "code",
      "source": [
        "print(\"RandomForest best score:\", grid_search_rf.best_score_)\n",
        "grid_search_rf.best_params_"
      ],
      "metadata": {
        "id": "g0o8DhEU3yVU"
      },
      "execution_count": null,
      "outputs": []
    },
    {
      "cell_type": "markdown",
      "source": [
        "# Final Fit"
      ],
      "metadata": {
        "id": "40mJUrAJSuqD"
      }
    },
    {
      "cell_type": "markdown",
      "source": [
        "LogisticRegression"
      ],
      "metadata": {
        "id": "OAWGGa67Sxh2"
      }
    },
    {
      "cell_type": "code",
      "source": [
        "grid_search_lr.best_estimator_"
      ],
      "metadata": {
        "id": "QZ34gTP2S23l"
      },
      "execution_count": null,
      "outputs": []
    },
    {
      "cell_type": "markdown",
      "source": [
        "Random Forest"
      ],
      "metadata": {
        "id": "x3Px-gctS8b1"
      }
    },
    {
      "cell_type": "code",
      "source": [
        "grid_search_rf.best_estimator_"
      ],
      "metadata": {
        "id": "TMMM2wiOTCpf"
      },
      "execution_count": null,
      "outputs": []
    },
    {
      "cell_type": "markdown",
      "source": [
        "# Variable Importantance"
      ],
      "metadata": {
        "id": "N8zCOBR7TNhU"
      }
    },
    {
      "cell_type": "markdown",
      "source": [
        "LogisticRegression"
      ],
      "metadata": {
        "id": "IgIDxjKkTY3n"
      }
    },
    {
      "cell_type": "code",
      "source": [
        "grid_search_lr.classes_"
      ],
      "metadata": {
        "id": "C3H4y5gPTbfE"
      },
      "execution_count": null,
      "outputs": []
    },
    {
      "cell_type": "code",
      "source": [
        "vip_lr = grid_search_lr.best_estimator_['mdl'].coef_[0]\n",
        "vip_lr"
      ],
      "metadata": {
        "id": "fdaeNbVaTjVs"
      },
      "execution_count": null,
      "outputs": []
    },
    {
      "cell_type": "code",
      "source": [
        "\n",
        "#get names in correct preproc order\n",
        "cat_names = grid_search_lr.best_estimator_.named_steps['preproc'].transformers_[0][1]\n",
        "num_names = grid_search_lr.best_estimator_.named_steps['preproc'].transformers_[1][2]\n",
        "\n",
        "#create df with vip info\n",
        "print(cat_names)\n",
        "print(num_names)\n",
        "print(grid_search_lr.best_estimator_.named_steps['preproc'].transformers_)\n",
        "coef_info = pd.DataFrame({'feat_names':np.hstack([cat_names, num_names]), 'vip': vip_lr})\n",
        "\n",
        "#get sign and magnitude information\n",
        "#coef_info = coef_info.assign(coef_mag = abs(coef_info['vip']),\n",
        " #                            coef_sign = np.sign(coef_info['vip']))\n",
        "\n",
        "#sort and plot\n",
        "#coef_info = coef_info.set_index('feat_names').sort_values(by='coef_mag', ascending=False)\n",
        "#plt.figure(figsize = (17,15))\n",
        "#sns.barplot(y=coef_info.index, x='coef_mag', hue='coef_sign', data=coef_info, orient='h', dodge=False)"
      ],
      "metadata": {
        "id": "97FUvgHBTqxu"
      },
      "execution_count": null,
      "outputs": []
    },
    {
      "cell_type": "markdown",
      "source": [
        "Random Forest"
      ],
      "metadata": {
        "id": "kNWv92OjUjmM"
      }
    },
    {
      "cell_type": "code",
      "source": [
        "grid_search_rf.classes_"
      ],
      "metadata": {
        "id": "6M1tflZFU0tz"
      },
      "execution_count": null,
      "outputs": []
    },
    {
      "cell_type": "code",
      "source": [
        "vip_rf = grid_search_rf.best_estimator_['rf']\n",
        "vip_rf\n",
        "\n",
        "print(grid_search_rf)"
      ],
      "metadata": {
        "id": "5j2brxnuU9bV"
      },
      "execution_count": null,
      "outputs": []
    },
    {
      "cell_type": "code",
      "source": [
        "# TODO: feel free to uncomment and edit the code below to obtain your feature importance graph. \n",
        "# Did the graph surprise you? What features did you think were more important?\n",
        "\n",
        "\n",
        "#get names in correct preproc order\n",
        "cat_names = grid_search_rf.best_estimator_.named_steps['preproc'].transformers_[0][1]\n",
        "num_names = grid_search_rf.best_estimator_.named_steps['preproc'].transformers_[1][2]\n",
        "\n",
        "#create df with vip info\n",
        "#print(cat_names)\n",
        "#print(num_names)\n",
        "\n",
        "coef_info = pd.DataFrame({'feat_names':np.hstack([cat_names, num_names]), 'vip': vip_rf})\n",
        "\n",
        "#get sign and magnitude information\n",
        "#coef_info = coef_info.assign(coef_mag = abs(coef_info['vip']),\n",
        "                             #coef_sign = np.sign(coef_info['vip']))\n",
        "\n",
        "#sort and plot\n",
        "#coef_info = coef_info.set_index('feat_names').sort_values(by='coef_mag', ascending=False)\n",
        "#plt.figure(figsize = (17,15))\n",
        "#sns.barplot(y=coef_info.index, x='coef_mag', hue='coef_sign', data=coef_info, orient='h', dodge=False)"
      ],
      "metadata": {
        "id": "kRzBp8PKVE_c"
      },
      "execution_count": null,
      "outputs": []
    }
  ]
}