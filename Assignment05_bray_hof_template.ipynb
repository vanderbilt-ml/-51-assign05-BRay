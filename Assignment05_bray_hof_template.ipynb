{
  "cells": [
    {
      "cell_type": "markdown",
      "metadata": {
        "id": "view-in-github",
        "colab_type": "text"
      },
      "source": [
        "<a href=\"https://colab.research.google.com/github/vanderbilt-ml/51-assign05-BRay/blob/main/Assignment05_bray_hof_template.ipynb\" target=\"_parent\"><img src=\"https://colab.research.google.com/assets/colab-badge.svg\" alt=\"Open In Colab\"/></a>"
      ]
    },
    {
      "cell_type": "markdown",
      "metadata": {
        "id": "N4u5TRr2Gaiy"
      },
      "source": [
        "# Basketball Hall of Fame"
      ]
    },
    {
      "cell_type": "markdown",
      "metadata": {
        "id": "5f0pPxBsGgnV"
      },
      "source": [
        "Imports"
      ]
    },
    {
      "cell_type": "code",
      "execution_count": null,
      "metadata": {
        "colab": {
          "base_uri": "https://localhost:8080/"
        },
        "id": "RFNwi10gLfKC",
        "outputId": "a0523f9d-1760-48c9-dd7f-9b8321f96346"
      },
      "outputs": [
        {
          "name": "stdout",
          "output_type": "stream",
          "text": [
            "Drive already mounted at /content/drive; to attempt to forcibly remount, call drive.mount(\"/content/drive\", force_remount=True).\n"
          ]
        }
      ],
      "source": [
        "from google.colab import drive\n",
        "drive.mount('/content/drive')"
      ]
    },
    {
      "cell_type": "code",
      "execution_count": null,
      "metadata": {
        "id": "Kmy9fFK5GGIB"
      },
      "outputs": [],
      "source": [
        "#tables and visualizations\n",
        "import pandas as pd\n",
        "import numpy as np\n",
        "import seaborn as sns\n",
        "import matplotlib.pyplot as plt\n",
        "\n",
        "#machine learning\n",
        "from sklearn.ensemble import GradientBoostingClassifier, RandomTreesEmbedding #Gradient Model\n",
        "from sklearn.model_selection import train_test_split, GridSearchCV\n",
        "from sklearn.linear_model import LogisticRegression\n",
        "from sklearn.ensemble import RandomForestClassifier\n",
        "from sklearn.pipeline import Pipeline \n",
        "from sklearn.compose import ColumnTransformer, make_column_selector\n",
        "from sklearn.impute import SimpleImputer\n",
        "from sklearn.preprocessing import OneHotEncoder, LabelBinarizer, StandardScaler\n",
        "from sklearn import config_context\n",
        "from sklearn.metrics import classification_report, confusion_matrix, ConfusionMatrixDisplay"
      ]
    },
    {
      "cell_type": "code",
      "execution_count": 62,
      "metadata": {
        "colab": {
          "base_uri": "https://localhost:8080/",
          "height": 896
        },
        "id": "vspm3nDjLC3b",
        "outputId": "fa9c9cd4-9d10-4f9c-ca5e-51f0a83cc454"
      },
      "outputs": [
        {
          "output_type": "display_data",
          "data": {
            "text/plain": [
              "     Year HOF Pos   Tm     G    GS    FTr  BLK%  DWS     FG  ...    FTA  \\\n",
              "0  1986.0  No  PF  LAL  82.0   1.0  0.430   1.7  2.0  209.0  ...  167.0   \n",
              "1  1987.0  No  PF  LAL  79.0  72.0  0.480   2.0  3.3  316.0  ...  282.0   \n",
              "2  1988.0  No  PF  LAL  82.0  64.0  0.592   1.0  3.4  322.0  ...  379.0   \n",
              "3  1989.0  No  PF  LAL  82.0  82.0  0.474   1.2  3.5  401.0  ...  359.0   \n",
              "4  1990.0  No  PF  LAL  82.0  82.0  0.459   1.1  3.3  385.0  ...  370.0   \n",
              "\n",
              "     FT%    ORB    DRB    TRB    AST   STL   BLK    TOV     PTS  \n",
              "0  0.611  160.0  221.0  381.0   54.0  49.0  49.0   99.0   521.0  \n",
              "1  0.780  210.0  405.0  615.0   84.0  70.0  80.0  102.0   852.0  \n",
              "2  0.773  245.0  465.0  710.0   93.0  87.0  45.0  120.0   937.0  \n",
              "3  0.786  258.0  481.0  739.0  103.0  94.0  55.0  119.0  1088.0  \n",
              "4  0.751  262.0  450.0  712.0   90.0  66.0  50.0  116.0  1061.0  \n",
              "\n",
              "[5 rows x 30 columns]"
            ],
            "text/html": [
              "\n",
              "  <div id=\"df-91cd42b2-c15b-4fa1-885b-3a4d1b1c5d14\">\n",
              "    <div class=\"colab-df-container\">\n",
              "      <div>\n",
              "<style scoped>\n",
              "    .dataframe tbody tr th:only-of-type {\n",
              "        vertical-align: middle;\n",
              "    }\n",
              "\n",
              "    .dataframe tbody tr th {\n",
              "        vertical-align: top;\n",
              "    }\n",
              "\n",
              "    .dataframe thead th {\n",
              "        text-align: right;\n",
              "    }\n",
              "</style>\n",
              "<table border=\"1\" class=\"dataframe\">\n",
              "  <thead>\n",
              "    <tr style=\"text-align: right;\">\n",
              "      <th></th>\n",
              "      <th>Year</th>\n",
              "      <th>HOF</th>\n",
              "      <th>Pos</th>\n",
              "      <th>Tm</th>\n",
              "      <th>G</th>\n",
              "      <th>GS</th>\n",
              "      <th>FTr</th>\n",
              "      <th>BLK%</th>\n",
              "      <th>DWS</th>\n",
              "      <th>FG</th>\n",
              "      <th>...</th>\n",
              "      <th>FTA</th>\n",
              "      <th>FT%</th>\n",
              "      <th>ORB</th>\n",
              "      <th>DRB</th>\n",
              "      <th>TRB</th>\n",
              "      <th>AST</th>\n",
              "      <th>STL</th>\n",
              "      <th>BLK</th>\n",
              "      <th>TOV</th>\n",
              "      <th>PTS</th>\n",
              "    </tr>\n",
              "  </thead>\n",
              "  <tbody>\n",
              "    <tr>\n",
              "      <th>0</th>\n",
              "      <td>1986.0</td>\n",
              "      <td>No</td>\n",
              "      <td>PF</td>\n",
              "      <td>LAL</td>\n",
              "      <td>82.0</td>\n",
              "      <td>1.0</td>\n",
              "      <td>0.430</td>\n",
              "      <td>1.7</td>\n",
              "      <td>2.0</td>\n",
              "      <td>209.0</td>\n",
              "      <td>...</td>\n",
              "      <td>167.0</td>\n",
              "      <td>0.611</td>\n",
              "      <td>160.0</td>\n",
              "      <td>221.0</td>\n",
              "      <td>381.0</td>\n",
              "      <td>54.0</td>\n",
              "      <td>49.0</td>\n",
              "      <td>49.0</td>\n",
              "      <td>99.0</td>\n",
              "      <td>521.0</td>\n",
              "    </tr>\n",
              "    <tr>\n",
              "      <th>1</th>\n",
              "      <td>1987.0</td>\n",
              "      <td>No</td>\n",
              "      <td>PF</td>\n",
              "      <td>LAL</td>\n",
              "      <td>79.0</td>\n",
              "      <td>72.0</td>\n",
              "      <td>0.480</td>\n",
              "      <td>2.0</td>\n",
              "      <td>3.3</td>\n",
              "      <td>316.0</td>\n",
              "      <td>...</td>\n",
              "      <td>282.0</td>\n",
              "      <td>0.780</td>\n",
              "      <td>210.0</td>\n",
              "      <td>405.0</td>\n",
              "      <td>615.0</td>\n",
              "      <td>84.0</td>\n",
              "      <td>70.0</td>\n",
              "      <td>80.0</td>\n",
              "      <td>102.0</td>\n",
              "      <td>852.0</td>\n",
              "    </tr>\n",
              "    <tr>\n",
              "      <th>2</th>\n",
              "      <td>1988.0</td>\n",
              "      <td>No</td>\n",
              "      <td>PF</td>\n",
              "      <td>LAL</td>\n",
              "      <td>82.0</td>\n",
              "      <td>64.0</td>\n",
              "      <td>0.592</td>\n",
              "      <td>1.0</td>\n",
              "      <td>3.4</td>\n",
              "      <td>322.0</td>\n",
              "      <td>...</td>\n",
              "      <td>379.0</td>\n",
              "      <td>0.773</td>\n",
              "      <td>245.0</td>\n",
              "      <td>465.0</td>\n",
              "      <td>710.0</td>\n",
              "      <td>93.0</td>\n",
              "      <td>87.0</td>\n",
              "      <td>45.0</td>\n",
              "      <td>120.0</td>\n",
              "      <td>937.0</td>\n",
              "    </tr>\n",
              "    <tr>\n",
              "      <th>3</th>\n",
              "      <td>1989.0</td>\n",
              "      <td>No</td>\n",
              "      <td>PF</td>\n",
              "      <td>LAL</td>\n",
              "      <td>82.0</td>\n",
              "      <td>82.0</td>\n",
              "      <td>0.474</td>\n",
              "      <td>1.2</td>\n",
              "      <td>3.5</td>\n",
              "      <td>401.0</td>\n",
              "      <td>...</td>\n",
              "      <td>359.0</td>\n",
              "      <td>0.786</td>\n",
              "      <td>258.0</td>\n",
              "      <td>481.0</td>\n",
              "      <td>739.0</td>\n",
              "      <td>103.0</td>\n",
              "      <td>94.0</td>\n",
              "      <td>55.0</td>\n",
              "      <td>119.0</td>\n",
              "      <td>1088.0</td>\n",
              "    </tr>\n",
              "    <tr>\n",
              "      <th>4</th>\n",
              "      <td>1990.0</td>\n",
              "      <td>No</td>\n",
              "      <td>PF</td>\n",
              "      <td>LAL</td>\n",
              "      <td>82.0</td>\n",
              "      <td>82.0</td>\n",
              "      <td>0.459</td>\n",
              "      <td>1.1</td>\n",
              "      <td>3.3</td>\n",
              "      <td>385.0</td>\n",
              "      <td>...</td>\n",
              "      <td>370.0</td>\n",
              "      <td>0.751</td>\n",
              "      <td>262.0</td>\n",
              "      <td>450.0</td>\n",
              "      <td>712.0</td>\n",
              "      <td>90.0</td>\n",
              "      <td>66.0</td>\n",
              "      <td>50.0</td>\n",
              "      <td>116.0</td>\n",
              "      <td>1061.0</td>\n",
              "    </tr>\n",
              "  </tbody>\n",
              "</table>\n",
              "<p>5 rows × 30 columns</p>\n",
              "</div>\n",
              "      <button class=\"colab-df-convert\" onclick=\"convertToInteractive('df-91cd42b2-c15b-4fa1-885b-3a4d1b1c5d14')\"\n",
              "              title=\"Convert this dataframe to an interactive table.\"\n",
              "              style=\"display:none;\">\n",
              "        \n",
              "  <svg xmlns=\"http://www.w3.org/2000/svg\" height=\"24px\"viewBox=\"0 0 24 24\"\n",
              "       width=\"24px\">\n",
              "    <path d=\"M0 0h24v24H0V0z\" fill=\"none\"/>\n",
              "    <path d=\"M18.56 5.44l.94 2.06.94-2.06 2.06-.94-2.06-.94-.94-2.06-.94 2.06-2.06.94zm-11 1L8.5 8.5l.94-2.06 2.06-.94-2.06-.94L8.5 2.5l-.94 2.06-2.06.94zm10 10l.94 2.06.94-2.06 2.06-.94-2.06-.94-.94-2.06-.94 2.06-2.06.94z\"/><path d=\"M17.41 7.96l-1.37-1.37c-.4-.4-.92-.59-1.43-.59-.52 0-1.04.2-1.43.59L10.3 9.45l-7.72 7.72c-.78.78-.78 2.05 0 2.83L4 21.41c.39.39.9.59 1.41.59.51 0 1.02-.2 1.41-.59l7.78-7.78 2.81-2.81c.8-.78.8-2.07 0-2.86zM5.41 20L4 18.59l7.72-7.72 1.47 1.35L5.41 20z\"/>\n",
              "  </svg>\n",
              "      </button>\n",
              "      \n",
              "  <style>\n",
              "    .colab-df-container {\n",
              "      display:flex;\n",
              "      flex-wrap:wrap;\n",
              "      gap: 12px;\n",
              "    }\n",
              "\n",
              "    .colab-df-convert {\n",
              "      background-color: #E8F0FE;\n",
              "      border: none;\n",
              "      border-radius: 50%;\n",
              "      cursor: pointer;\n",
              "      display: none;\n",
              "      fill: #1967D2;\n",
              "      height: 32px;\n",
              "      padding: 0 0 0 0;\n",
              "      width: 32px;\n",
              "    }\n",
              "\n",
              "    .colab-df-convert:hover {\n",
              "      background-color: #E2EBFA;\n",
              "      box-shadow: 0px 1px 2px rgba(60, 64, 67, 0.3), 0px 1px 3px 1px rgba(60, 64, 67, 0.15);\n",
              "      fill: #174EA6;\n",
              "    }\n",
              "\n",
              "    [theme=dark] .colab-df-convert {\n",
              "      background-color: #3B4455;\n",
              "      fill: #D2E3FC;\n",
              "    }\n",
              "\n",
              "    [theme=dark] .colab-df-convert:hover {\n",
              "      background-color: #434B5C;\n",
              "      box-shadow: 0px 1px 3px 1px rgba(0, 0, 0, 0.15);\n",
              "      filter: drop-shadow(0px 1px 2px rgba(0, 0, 0, 0.3));\n",
              "      fill: #FFFFFF;\n",
              "    }\n",
              "  </style>\n",
              "\n",
              "      <script>\n",
              "        const buttonEl =\n",
              "          document.querySelector('#df-91cd42b2-c15b-4fa1-885b-3a4d1b1c5d14 button.colab-df-convert');\n",
              "        buttonEl.style.display =\n",
              "          google.colab.kernel.accessAllowed ? 'block' : 'none';\n",
              "\n",
              "        async function convertToInteractive(key) {\n",
              "          const element = document.querySelector('#df-91cd42b2-c15b-4fa1-885b-3a4d1b1c5d14');\n",
              "          const dataTable =\n",
              "            await google.colab.kernel.invokeFunction('convertToInteractive',\n",
              "                                                     [key], {});\n",
              "          if (!dataTable) return;\n",
              "\n",
              "          const docLinkHtml = 'Like what you see? Visit the ' +\n",
              "            '<a target=\"_blank\" href=https://colab.research.google.com/notebooks/data_table.ipynb>data table notebook</a>'\n",
              "            + ' to learn more about interactive tables.';\n",
              "          element.innerHTML = '';\n",
              "          dataTable['output_type'] = 'display_data';\n",
              "          await google.colab.output.renderOutput(dataTable, element);\n",
              "          const docLink = document.createElement('div');\n",
              "          docLink.innerHTML = docLinkHtml;\n",
              "          element.appendChild(docLink);\n",
              "        }\n",
              "      </script>\n",
              "    </div>\n",
              "  </div>\n",
              "  "
            ]
          },
          "metadata": {}
        },
        {
          "output_type": "stream",
          "name": "stdout",
          "text": [
            "<class 'pandas.core.frame.DataFrame'>\n",
            "RangeIndex: 24691 entries, 0 to 24690\n",
            "Data columns (total 30 columns):\n",
            " #   Column  Non-Null Count  Dtype  \n",
            "---  ------  --------------  -----  \n",
            " 0   Year    24624 non-null  float64\n",
            " 1   HOF     24679 non-null  object \n",
            " 2   Pos     24624 non-null  object \n",
            " 3   Tm      24624 non-null  object \n",
            " 4   G       24624 non-null  float64\n",
            " 5   GS      18234 non-null  float64\n",
            " 6   FTr     24525 non-null  float64\n",
            " 7   BLK%    20792 non-null  float64\n",
            " 8   DWS     24585 non-null  float64\n",
            " 9   FG      24624 non-null  float64\n",
            " 10  FGA     24624 non-null  float64\n",
            " 11  FG%     24525 non-null  float64\n",
            " 12  3P      18928 non-null  float64\n",
            " 13  3PA     18928 non-null  float64\n",
            " 14  3P%     15417 non-null  float64\n",
            " 15  2P      24624 non-null  float64\n",
            " 16  2PA     24624 non-null  float64\n",
            " 17  2P%     24496 non-null  float64\n",
            " 18  eFG%    24525 non-null  float64\n",
            " 19  FT      24624 non-null  float64\n",
            " 20  FTA     24624 non-null  float64\n",
            " 21  FT%     23766 non-null  float64\n",
            " 22  ORB     20797 non-null  float64\n",
            " 23  DRB     20797 non-null  float64\n",
            " 24  TRB     24312 non-null  float64\n",
            " 25  AST     24624 non-null  float64\n",
            " 26  STL     20797 non-null  float64\n",
            " 27  BLK     20797 non-null  float64\n",
            " 28  TOV     19646 non-null  float64\n",
            " 29  PTS     24624 non-null  float64\n",
            "dtypes: float64(27), object(3)\n",
            "memory usage: 5.7+ MB\n"
          ]
        }
      ],
      "source": [
        "path=\"/content/drive/MyDrive/csv/seasons_stats.csv\";\n",
        "hof_df=pd.read_csv(path)\n",
        "# dropping some columns for performance\n",
        "hof_df=hof_df.drop(['Player' ,'ORB%', 'DRB%', 'TRB%', 'OWS', 'OWS', 'WS', 'WS/48', 'OBPM', 'DBPM', 'BPM', 'VORP', 'ORB%', 'DRB%', 'TRB%','AST%', 'STL%', 'MP', 'PER', 'TS%', '3PAr', 'TOV%', 'USG%', 'Age', 'PF'], axis=1)\n",
        "display(hof_df.head())\n",
        "hof_df.info()"
      ]
    },
    {
      "cell_type": "code",
      "execution_count": 63,
      "metadata": {
        "colab": {
          "base_uri": "https://localhost:8080/"
        },
        "id": "-qBqmPbT0wqd",
        "outputId": "7075b1e5-0cb1-4c4c-b90a-abde0c677571"
      },
      "outputs": [
        {
          "output_type": "execute_result",
          "data": {
            "text/plain": [
              "Year      67\n",
              "HOF       12\n",
              "Pos       67\n",
              "Tm        67\n",
              "G         67\n",
              "GS      6457\n",
              "FTr      166\n",
              "BLK%    3899\n",
              "DWS      106\n",
              "FG        67\n",
              "FGA       67\n",
              "FG%      166\n",
              "3P      5763\n",
              "3PA     5763\n",
              "3P%     9274\n",
              "2P        67\n",
              "2PA       67\n",
              "2P%      195\n",
              "eFG%     166\n",
              "FT        67\n",
              "FTA       67\n",
              "FT%      925\n",
              "ORB     3894\n",
              "DRB     3894\n",
              "TRB      379\n",
              "AST       67\n",
              "STL     3894\n",
              "BLK     3894\n",
              "TOV     5045\n",
              "PTS       67\n",
              "dtype: int64"
            ]
          },
          "metadata": {},
          "execution_count": 63
        }
      ],
      "source": [
        "hof_df.isna().sum()"
      ]
    },
    {
      "cell_type": "markdown",
      "metadata": {
        "id": "r_D4_dip0_uZ"
      },
      "source": [
        "# Data cleaning and EDA"
      ]
    },
    {
      "cell_type": "code",
      "execution_count": 64,
      "metadata": {
        "colab": {
          "base_uri": "https://localhost:8080/"
        },
        "id": "soQlvgPi1Ggw",
        "outputId": "b600e256-f2a9-4356-94ff-90fdb90eab27"
      },
      "outputs": [
        {
          "output_type": "execute_result",
          "data": {
            "text/plain": [
              "(24679, 30)"
            ]
          },
          "metadata": {},
          "execution_count": 64
        }
      ],
      "source": [
        "hof_df = hof_df.dropna(subset=['HOF'])\n",
        "hof_df.shape"
      ]
    },
    {
      "cell_type": "code",
      "execution_count": 65,
      "metadata": {
        "id": "hbgNjLYM1Vx1"
      },
      "outputs": [],
      "source": [
        "class_column = 'HOF'\n",
        "random_seed = 1000\n",
        "\n",
        "X_train, X_test, y_train, y_test = train_test_split(hof_df.drop(columns=class_column), hof_df[class_column],\n",
        "                                                   test_size=0.25, random_state=random_seed, stratify=hof_df[class_column])"
      ]
    },
    {
      "cell_type": "markdown",
      "metadata": {
        "id": "7n1xF2Ko1ogP"
      },
      "source": [
        "Sanity Check"
      ]
    },
    {
      "cell_type": "code",
      "execution_count": 66,
      "metadata": {
        "colab": {
          "base_uri": "https://localhost:8080/",
          "height": 587
        },
        "id": "YJa145-s1pz1",
        "outputId": "89bfe21f-d6fc-4653-b580-df70a4dcb7b4"
      },
      "outputs": [
        {
          "output_type": "stream",
          "name": "stdout",
          "text": [
            "On X train: \n",
            "X train dimensions:  (18509, 29)\n"
          ]
        },
        {
          "output_type": "display_data",
          "data": {
            "text/plain": [
              "         Year Pos   Tm     G    GS    FTr  BLK%  DWS     FG     FGA  ...  \\\n",
              "3634   1998.0  SF  TOT  47.0  25.0  0.349   1.1  1.2  204.0   415.0  ...   \n",
              "23873  1969.0  PG  PHI  81.0   NaN  0.255   NaN  2.3  432.0  1005.0  ...   \n",
              "20621  2008.0  PF  MIN  82.0  74.0  0.267   0.3  1.2  392.0   857.0  ...   \n",
              "8021   1977.0  PG  DET  73.0   NaN  0.181   0.5  0.9  329.0   631.0  ...   \n",
              "15361  1977.0  SG  SAS   4.0   NaN  0.500   0.0  0.0    7.0    14.0  ...   \n",
              "\n",
              "         FTA    FT%    ORB    DRB    TRB    AST   STL   BLK   TOV     PTS  \n",
              "3634   145.0  0.738   75.0  146.0  221.0   60.0  33.0  16.0  72.0   536.0  \n",
              "23873  256.0  0.809    NaN    NaN  251.0  292.0   NaN   NaN   NaN  1071.0  \n",
              "20621  229.0  0.830  133.0  342.0  475.0  145.0  65.0  10.0  96.0  1033.0  \n",
              "8021   114.0  0.789   43.0   81.0  124.0  243.0  91.0  14.0   NaN   748.0  \n",
              "15361    7.0  0.571    2.0    5.0    7.0    3.0   2.0   0.0   NaN    18.0  \n",
              "\n",
              "[5 rows x 29 columns]"
            ],
            "text/html": [
              "\n",
              "  <div id=\"df-b181f737-1603-4e53-96b9-50807f332ca2\">\n",
              "    <div class=\"colab-df-container\">\n",
              "      <div>\n",
              "<style scoped>\n",
              "    .dataframe tbody tr th:only-of-type {\n",
              "        vertical-align: middle;\n",
              "    }\n",
              "\n",
              "    .dataframe tbody tr th {\n",
              "        vertical-align: top;\n",
              "    }\n",
              "\n",
              "    .dataframe thead th {\n",
              "        text-align: right;\n",
              "    }\n",
              "</style>\n",
              "<table border=\"1\" class=\"dataframe\">\n",
              "  <thead>\n",
              "    <tr style=\"text-align: right;\">\n",
              "      <th></th>\n",
              "      <th>Year</th>\n",
              "      <th>Pos</th>\n",
              "      <th>Tm</th>\n",
              "      <th>G</th>\n",
              "      <th>GS</th>\n",
              "      <th>FTr</th>\n",
              "      <th>BLK%</th>\n",
              "      <th>DWS</th>\n",
              "      <th>FG</th>\n",
              "      <th>FGA</th>\n",
              "      <th>...</th>\n",
              "      <th>FTA</th>\n",
              "      <th>FT%</th>\n",
              "      <th>ORB</th>\n",
              "      <th>DRB</th>\n",
              "      <th>TRB</th>\n",
              "      <th>AST</th>\n",
              "      <th>STL</th>\n",
              "      <th>BLK</th>\n",
              "      <th>TOV</th>\n",
              "      <th>PTS</th>\n",
              "    </tr>\n",
              "  </thead>\n",
              "  <tbody>\n",
              "    <tr>\n",
              "      <th>3634</th>\n",
              "      <td>1998.0</td>\n",
              "      <td>SF</td>\n",
              "      <td>TOT</td>\n",
              "      <td>47.0</td>\n",
              "      <td>25.0</td>\n",
              "      <td>0.349</td>\n",
              "      <td>1.1</td>\n",
              "      <td>1.2</td>\n",
              "      <td>204.0</td>\n",
              "      <td>415.0</td>\n",
              "      <td>...</td>\n",
              "      <td>145.0</td>\n",
              "      <td>0.738</td>\n",
              "      <td>75.0</td>\n",
              "      <td>146.0</td>\n",
              "      <td>221.0</td>\n",
              "      <td>60.0</td>\n",
              "      <td>33.0</td>\n",
              "      <td>16.0</td>\n",
              "      <td>72.0</td>\n",
              "      <td>536.0</td>\n",
              "    </tr>\n",
              "    <tr>\n",
              "      <th>23873</th>\n",
              "      <td>1969.0</td>\n",
              "      <td>PG</td>\n",
              "      <td>PHI</td>\n",
              "      <td>81.0</td>\n",
              "      <td>NaN</td>\n",
              "      <td>0.255</td>\n",
              "      <td>NaN</td>\n",
              "      <td>2.3</td>\n",
              "      <td>432.0</td>\n",
              "      <td>1005.0</td>\n",
              "      <td>...</td>\n",
              "      <td>256.0</td>\n",
              "      <td>0.809</td>\n",
              "      <td>NaN</td>\n",
              "      <td>NaN</td>\n",
              "      <td>251.0</td>\n",
              "      <td>292.0</td>\n",
              "      <td>NaN</td>\n",
              "      <td>NaN</td>\n",
              "      <td>NaN</td>\n",
              "      <td>1071.0</td>\n",
              "    </tr>\n",
              "    <tr>\n",
              "      <th>20621</th>\n",
              "      <td>2008.0</td>\n",
              "      <td>PF</td>\n",
              "      <td>MIN</td>\n",
              "      <td>82.0</td>\n",
              "      <td>74.0</td>\n",
              "      <td>0.267</td>\n",
              "      <td>0.3</td>\n",
              "      <td>1.2</td>\n",
              "      <td>392.0</td>\n",
              "      <td>857.0</td>\n",
              "      <td>...</td>\n",
              "      <td>229.0</td>\n",
              "      <td>0.830</td>\n",
              "      <td>133.0</td>\n",
              "      <td>342.0</td>\n",
              "      <td>475.0</td>\n",
              "      <td>145.0</td>\n",
              "      <td>65.0</td>\n",
              "      <td>10.0</td>\n",
              "      <td>96.0</td>\n",
              "      <td>1033.0</td>\n",
              "    </tr>\n",
              "    <tr>\n",
              "      <th>8021</th>\n",
              "      <td>1977.0</td>\n",
              "      <td>PG</td>\n",
              "      <td>DET</td>\n",
              "      <td>73.0</td>\n",
              "      <td>NaN</td>\n",
              "      <td>0.181</td>\n",
              "      <td>0.5</td>\n",
              "      <td>0.9</td>\n",
              "      <td>329.0</td>\n",
              "      <td>631.0</td>\n",
              "      <td>...</td>\n",
              "      <td>114.0</td>\n",
              "      <td>0.789</td>\n",
              "      <td>43.0</td>\n",
              "      <td>81.0</td>\n",
              "      <td>124.0</td>\n",
              "      <td>243.0</td>\n",
              "      <td>91.0</td>\n",
              "      <td>14.0</td>\n",
              "      <td>NaN</td>\n",
              "      <td>748.0</td>\n",
              "    </tr>\n",
              "    <tr>\n",
              "      <th>15361</th>\n",
              "      <td>1977.0</td>\n",
              "      <td>SG</td>\n",
              "      <td>SAS</td>\n",
              "      <td>4.0</td>\n",
              "      <td>NaN</td>\n",
              "      <td>0.500</td>\n",
              "      <td>0.0</td>\n",
              "      <td>0.0</td>\n",
              "      <td>7.0</td>\n",
              "      <td>14.0</td>\n",
              "      <td>...</td>\n",
              "      <td>7.0</td>\n",
              "      <td>0.571</td>\n",
              "      <td>2.0</td>\n",
              "      <td>5.0</td>\n",
              "      <td>7.0</td>\n",
              "      <td>3.0</td>\n",
              "      <td>2.0</td>\n",
              "      <td>0.0</td>\n",
              "      <td>NaN</td>\n",
              "      <td>18.0</td>\n",
              "    </tr>\n",
              "  </tbody>\n",
              "</table>\n",
              "<p>5 rows × 29 columns</p>\n",
              "</div>\n",
              "      <button class=\"colab-df-convert\" onclick=\"convertToInteractive('df-b181f737-1603-4e53-96b9-50807f332ca2')\"\n",
              "              title=\"Convert this dataframe to an interactive table.\"\n",
              "              style=\"display:none;\">\n",
              "        \n",
              "  <svg xmlns=\"http://www.w3.org/2000/svg\" height=\"24px\"viewBox=\"0 0 24 24\"\n",
              "       width=\"24px\">\n",
              "    <path d=\"M0 0h24v24H0V0z\" fill=\"none\"/>\n",
              "    <path d=\"M18.56 5.44l.94 2.06.94-2.06 2.06-.94-2.06-.94-.94-2.06-.94 2.06-2.06.94zm-11 1L8.5 8.5l.94-2.06 2.06-.94-2.06-.94L8.5 2.5l-.94 2.06-2.06.94zm10 10l.94 2.06.94-2.06 2.06-.94-2.06-.94-.94-2.06-.94 2.06-2.06.94z\"/><path d=\"M17.41 7.96l-1.37-1.37c-.4-.4-.92-.59-1.43-.59-.52 0-1.04.2-1.43.59L10.3 9.45l-7.72 7.72c-.78.78-.78 2.05 0 2.83L4 21.41c.39.39.9.59 1.41.59.51 0 1.02-.2 1.41-.59l7.78-7.78 2.81-2.81c.8-.78.8-2.07 0-2.86zM5.41 20L4 18.59l7.72-7.72 1.47 1.35L5.41 20z\"/>\n",
              "  </svg>\n",
              "      </button>\n",
              "      \n",
              "  <style>\n",
              "    .colab-df-container {\n",
              "      display:flex;\n",
              "      flex-wrap:wrap;\n",
              "      gap: 12px;\n",
              "    }\n",
              "\n",
              "    .colab-df-convert {\n",
              "      background-color: #E8F0FE;\n",
              "      border: none;\n",
              "      border-radius: 50%;\n",
              "      cursor: pointer;\n",
              "      display: none;\n",
              "      fill: #1967D2;\n",
              "      height: 32px;\n",
              "      padding: 0 0 0 0;\n",
              "      width: 32px;\n",
              "    }\n",
              "\n",
              "    .colab-df-convert:hover {\n",
              "      background-color: #E2EBFA;\n",
              "      box-shadow: 0px 1px 2px rgba(60, 64, 67, 0.3), 0px 1px 3px 1px rgba(60, 64, 67, 0.15);\n",
              "      fill: #174EA6;\n",
              "    }\n",
              "\n",
              "    [theme=dark] .colab-df-convert {\n",
              "      background-color: #3B4455;\n",
              "      fill: #D2E3FC;\n",
              "    }\n",
              "\n",
              "    [theme=dark] .colab-df-convert:hover {\n",
              "      background-color: #434B5C;\n",
              "      box-shadow: 0px 1px 3px 1px rgba(0, 0, 0, 0.15);\n",
              "      filter: drop-shadow(0px 1px 2px rgba(0, 0, 0, 0.3));\n",
              "      fill: #FFFFFF;\n",
              "    }\n",
              "  </style>\n",
              "\n",
              "      <script>\n",
              "        const buttonEl =\n",
              "          document.querySelector('#df-b181f737-1603-4e53-96b9-50807f332ca2 button.colab-df-convert');\n",
              "        buttonEl.style.display =\n",
              "          google.colab.kernel.accessAllowed ? 'block' : 'none';\n",
              "\n",
              "        async function convertToInteractive(key) {\n",
              "          const element = document.querySelector('#df-b181f737-1603-4e53-96b9-50807f332ca2');\n",
              "          const dataTable =\n",
              "            await google.colab.kernel.invokeFunction('convertToInteractive',\n",
              "                                                     [key], {});\n",
              "          if (!dataTable) return;\n",
              "\n",
              "          const docLinkHtml = 'Like what you see? Visit the ' +\n",
              "            '<a target=\"_blank\" href=https://colab.research.google.com/notebooks/data_table.ipynb>data table notebook</a>'\n",
              "            + ' to learn more about interactive tables.';\n",
              "          element.innerHTML = '';\n",
              "          dataTable['output_type'] = 'display_data';\n",
              "          await google.colab.output.renderOutput(dataTable, element);\n",
              "          const docLink = document.createElement('div');\n",
              "          docLink.innerHTML = docLinkHtml;\n",
              "          element.appendChild(docLink);\n",
              "        }\n",
              "      </script>\n",
              "    </div>\n",
              "  </div>\n",
              "  "
            ]
          },
          "metadata": {}
        },
        {
          "output_type": "stream",
          "name": "stdout",
          "text": [
            "\n",
            "On X test: \n",
            "X test dimensions:  (6170, 29)\n"
          ]
        },
        {
          "output_type": "display_data",
          "data": {
            "text/plain": [
              "         Year Pos   Tm     G    GS    FTr  BLK%  DWS     FG    FGA  ...  \\\n",
              "8064   2003.0  SG  LAC  62.0  26.0  0.274   0.5  0.3  210.0  446.0  ...   \n",
              "9307   1997.0  PG  VAN  65.0  44.0  0.351   0.2  1.2  199.0  507.0  ...   \n",
              "5065   1994.0  PF  IND  66.0  64.0  0.505   3.2  3.6  308.0  582.0  ...   \n",
              "15148  2011.0  SF  TOR  39.0  23.0  0.160   0.5  0.2  178.0  406.0  ...   \n",
              "5294   2011.0  SF  DEN  14.0  12.0  0.771   1.6  0.5   54.0  131.0  ...   \n",
              "\n",
              "         FTA    FT%    ORB    DRB    TRB    AST    STL    BLK    TOV    PTS  \n",
              "8064   122.0  0.828   44.0  112.0  156.0   70.0   33.0    9.0   56.0  601.0  \n",
              "9307   178.0  0.730   25.0  159.0  184.0  407.0  129.0    4.0  129.0  616.0  \n",
              "5065   294.0  0.527  280.0  438.0  718.0  100.0   48.0  106.0  102.0  771.0  \n",
              "15148   65.0  0.631   37.0  140.0  177.0   40.0   19.0    7.0   65.0  436.0  \n",
              "5294   101.0  0.772   11.0   65.0   76.0   22.0   13.0    9.0   25.0  206.0  \n",
              "\n",
              "[5 rows x 29 columns]"
            ],
            "text/html": [
              "\n",
              "  <div id=\"df-84036e1c-e273-4188-8f07-e5ec05f6447d\">\n",
              "    <div class=\"colab-df-container\">\n",
              "      <div>\n",
              "<style scoped>\n",
              "    .dataframe tbody tr th:only-of-type {\n",
              "        vertical-align: middle;\n",
              "    }\n",
              "\n",
              "    .dataframe tbody tr th {\n",
              "        vertical-align: top;\n",
              "    }\n",
              "\n",
              "    .dataframe thead th {\n",
              "        text-align: right;\n",
              "    }\n",
              "</style>\n",
              "<table border=\"1\" class=\"dataframe\">\n",
              "  <thead>\n",
              "    <tr style=\"text-align: right;\">\n",
              "      <th></th>\n",
              "      <th>Year</th>\n",
              "      <th>Pos</th>\n",
              "      <th>Tm</th>\n",
              "      <th>G</th>\n",
              "      <th>GS</th>\n",
              "      <th>FTr</th>\n",
              "      <th>BLK%</th>\n",
              "      <th>DWS</th>\n",
              "      <th>FG</th>\n",
              "      <th>FGA</th>\n",
              "      <th>...</th>\n",
              "      <th>FTA</th>\n",
              "      <th>FT%</th>\n",
              "      <th>ORB</th>\n",
              "      <th>DRB</th>\n",
              "      <th>TRB</th>\n",
              "      <th>AST</th>\n",
              "      <th>STL</th>\n",
              "      <th>BLK</th>\n",
              "      <th>TOV</th>\n",
              "      <th>PTS</th>\n",
              "    </tr>\n",
              "  </thead>\n",
              "  <tbody>\n",
              "    <tr>\n",
              "      <th>8064</th>\n",
              "      <td>2003.0</td>\n",
              "      <td>SG</td>\n",
              "      <td>LAC</td>\n",
              "      <td>62.0</td>\n",
              "      <td>26.0</td>\n",
              "      <td>0.274</td>\n",
              "      <td>0.5</td>\n",
              "      <td>0.3</td>\n",
              "      <td>210.0</td>\n",
              "      <td>446.0</td>\n",
              "      <td>...</td>\n",
              "      <td>122.0</td>\n",
              "      <td>0.828</td>\n",
              "      <td>44.0</td>\n",
              "      <td>112.0</td>\n",
              "      <td>156.0</td>\n",
              "      <td>70.0</td>\n",
              "      <td>33.0</td>\n",
              "      <td>9.0</td>\n",
              "      <td>56.0</td>\n",
              "      <td>601.0</td>\n",
              "    </tr>\n",
              "    <tr>\n",
              "      <th>9307</th>\n",
              "      <td>1997.0</td>\n",
              "      <td>PG</td>\n",
              "      <td>VAN</td>\n",
              "      <td>65.0</td>\n",
              "      <td>44.0</td>\n",
              "      <td>0.351</td>\n",
              "      <td>0.2</td>\n",
              "      <td>1.2</td>\n",
              "      <td>199.0</td>\n",
              "      <td>507.0</td>\n",
              "      <td>...</td>\n",
              "      <td>178.0</td>\n",
              "      <td>0.730</td>\n",
              "      <td>25.0</td>\n",
              "      <td>159.0</td>\n",
              "      <td>184.0</td>\n",
              "      <td>407.0</td>\n",
              "      <td>129.0</td>\n",
              "      <td>4.0</td>\n",
              "      <td>129.0</td>\n",
              "      <td>616.0</td>\n",
              "    </tr>\n",
              "    <tr>\n",
              "      <th>5065</th>\n",
              "      <td>1994.0</td>\n",
              "      <td>PF</td>\n",
              "      <td>IND</td>\n",
              "      <td>66.0</td>\n",
              "      <td>64.0</td>\n",
              "      <td>0.505</td>\n",
              "      <td>3.2</td>\n",
              "      <td>3.6</td>\n",
              "      <td>308.0</td>\n",
              "      <td>582.0</td>\n",
              "      <td>...</td>\n",
              "      <td>294.0</td>\n",
              "      <td>0.527</td>\n",
              "      <td>280.0</td>\n",
              "      <td>438.0</td>\n",
              "      <td>718.0</td>\n",
              "      <td>100.0</td>\n",
              "      <td>48.0</td>\n",
              "      <td>106.0</td>\n",
              "      <td>102.0</td>\n",
              "      <td>771.0</td>\n",
              "    </tr>\n",
              "    <tr>\n",
              "      <th>15148</th>\n",
              "      <td>2011.0</td>\n",
              "      <td>SF</td>\n",
              "      <td>TOR</td>\n",
              "      <td>39.0</td>\n",
              "      <td>23.0</td>\n",
              "      <td>0.160</td>\n",
              "      <td>0.5</td>\n",
              "      <td>0.2</td>\n",
              "      <td>178.0</td>\n",
              "      <td>406.0</td>\n",
              "      <td>...</td>\n",
              "      <td>65.0</td>\n",
              "      <td>0.631</td>\n",
              "      <td>37.0</td>\n",
              "      <td>140.0</td>\n",
              "      <td>177.0</td>\n",
              "      <td>40.0</td>\n",
              "      <td>19.0</td>\n",
              "      <td>7.0</td>\n",
              "      <td>65.0</td>\n",
              "      <td>436.0</td>\n",
              "    </tr>\n",
              "    <tr>\n",
              "      <th>5294</th>\n",
              "      <td>2011.0</td>\n",
              "      <td>SF</td>\n",
              "      <td>DEN</td>\n",
              "      <td>14.0</td>\n",
              "      <td>12.0</td>\n",
              "      <td>0.771</td>\n",
              "      <td>1.6</td>\n",
              "      <td>0.5</td>\n",
              "      <td>54.0</td>\n",
              "      <td>131.0</td>\n",
              "      <td>...</td>\n",
              "      <td>101.0</td>\n",
              "      <td>0.772</td>\n",
              "      <td>11.0</td>\n",
              "      <td>65.0</td>\n",
              "      <td>76.0</td>\n",
              "      <td>22.0</td>\n",
              "      <td>13.0</td>\n",
              "      <td>9.0</td>\n",
              "      <td>25.0</td>\n",
              "      <td>206.0</td>\n",
              "    </tr>\n",
              "  </tbody>\n",
              "</table>\n",
              "<p>5 rows × 29 columns</p>\n",
              "</div>\n",
              "      <button class=\"colab-df-convert\" onclick=\"convertToInteractive('df-84036e1c-e273-4188-8f07-e5ec05f6447d')\"\n",
              "              title=\"Convert this dataframe to an interactive table.\"\n",
              "              style=\"display:none;\">\n",
              "        \n",
              "  <svg xmlns=\"http://www.w3.org/2000/svg\" height=\"24px\"viewBox=\"0 0 24 24\"\n",
              "       width=\"24px\">\n",
              "    <path d=\"M0 0h24v24H0V0z\" fill=\"none\"/>\n",
              "    <path d=\"M18.56 5.44l.94 2.06.94-2.06 2.06-.94-2.06-.94-.94-2.06-.94 2.06-2.06.94zm-11 1L8.5 8.5l.94-2.06 2.06-.94-2.06-.94L8.5 2.5l-.94 2.06-2.06.94zm10 10l.94 2.06.94-2.06 2.06-.94-2.06-.94-.94-2.06-.94 2.06-2.06.94z\"/><path d=\"M17.41 7.96l-1.37-1.37c-.4-.4-.92-.59-1.43-.59-.52 0-1.04.2-1.43.59L10.3 9.45l-7.72 7.72c-.78.78-.78 2.05 0 2.83L4 21.41c.39.39.9.59 1.41.59.51 0 1.02-.2 1.41-.59l7.78-7.78 2.81-2.81c.8-.78.8-2.07 0-2.86zM5.41 20L4 18.59l7.72-7.72 1.47 1.35L5.41 20z\"/>\n",
              "  </svg>\n",
              "      </button>\n",
              "      \n",
              "  <style>\n",
              "    .colab-df-container {\n",
              "      display:flex;\n",
              "      flex-wrap:wrap;\n",
              "      gap: 12px;\n",
              "    }\n",
              "\n",
              "    .colab-df-convert {\n",
              "      background-color: #E8F0FE;\n",
              "      border: none;\n",
              "      border-radius: 50%;\n",
              "      cursor: pointer;\n",
              "      display: none;\n",
              "      fill: #1967D2;\n",
              "      height: 32px;\n",
              "      padding: 0 0 0 0;\n",
              "      width: 32px;\n",
              "    }\n",
              "\n",
              "    .colab-df-convert:hover {\n",
              "      background-color: #E2EBFA;\n",
              "      box-shadow: 0px 1px 2px rgba(60, 64, 67, 0.3), 0px 1px 3px 1px rgba(60, 64, 67, 0.15);\n",
              "      fill: #174EA6;\n",
              "    }\n",
              "\n",
              "    [theme=dark] .colab-df-convert {\n",
              "      background-color: #3B4455;\n",
              "      fill: #D2E3FC;\n",
              "    }\n",
              "\n",
              "    [theme=dark] .colab-df-convert:hover {\n",
              "      background-color: #434B5C;\n",
              "      box-shadow: 0px 1px 3px 1px rgba(0, 0, 0, 0.15);\n",
              "      filter: drop-shadow(0px 1px 2px rgba(0, 0, 0, 0.3));\n",
              "      fill: #FFFFFF;\n",
              "    }\n",
              "  </style>\n",
              "\n",
              "      <script>\n",
              "        const buttonEl =\n",
              "          document.querySelector('#df-84036e1c-e273-4188-8f07-e5ec05f6447d button.colab-df-convert');\n",
              "        buttonEl.style.display =\n",
              "          google.colab.kernel.accessAllowed ? 'block' : 'none';\n",
              "\n",
              "        async function convertToInteractive(key) {\n",
              "          const element = document.querySelector('#df-84036e1c-e273-4188-8f07-e5ec05f6447d');\n",
              "          const dataTable =\n",
              "            await google.colab.kernel.invokeFunction('convertToInteractive',\n",
              "                                                     [key], {});\n",
              "          if (!dataTable) return;\n",
              "\n",
              "          const docLinkHtml = 'Like what you see? Visit the ' +\n",
              "            '<a target=\"_blank\" href=https://colab.research.google.com/notebooks/data_table.ipynb>data table notebook</a>'\n",
              "            + ' to learn more about interactive tables.';\n",
              "          element.innerHTML = '';\n",
              "          dataTable['output_type'] = 'display_data';\n",
              "          await google.colab.output.renderOutput(dataTable, element);\n",
              "          const docLink = document.createElement('div');\n",
              "          docLink.innerHTML = docLinkHtml;\n",
              "          element.appendChild(docLink);\n",
              "        }\n",
              "      </script>\n",
              "    </div>\n",
              "  </div>\n",
              "  "
            ]
          },
          "metadata": {}
        }
      ],
      "source": [
        "# X Train\n",
        "print('On X train: ')\n",
        "print('X train dimensions: ', X_train.shape)\n",
        "display(X_train.head())\n",
        "\n",
        "# X test\n",
        "print('\\nOn X test: ')\n",
        "print('X test dimensions: ', X_test.shape)\n",
        "display(X_test.head())"
      ]
    },
    {
      "cell_type": "code",
      "execution_count": 67,
      "metadata": {
        "colab": {
          "base_uri": "https://localhost:8080/",
          "height": 321
        },
        "id": "9K_Ana6c1u68",
        "outputId": "8f357759-07e0-4dfd-fbf9-a07aed914c73"
      },
      "outputs": [
        {
          "output_type": "stream",
          "name": "stdout",
          "text": [
            "On y train: \n",
            "y train dimensions:  (18509,)\n"
          ]
        },
        {
          "output_type": "display_data",
          "data": {
            "text/plain": [
              "3634     No\n",
              "23873    No\n",
              "20621    No\n",
              "8021     No\n",
              "15361    No\n",
              "Name: HOF, dtype: object"
            ]
          },
          "metadata": {}
        },
        {
          "output_type": "stream",
          "name": "stdout",
          "text": [
            "\n",
            "On y test: \n",
            "y test dimensions:  (6170,)\n"
          ]
        },
        {
          "output_type": "display_data",
          "data": {
            "text/plain": [
              "8064     No\n",
              "9307     No\n",
              "5065     No\n",
              "15148    No\n",
              "5294     No\n",
              "Name: HOF, dtype: object"
            ]
          },
          "metadata": {}
        }
      ],
      "source": [
        "# X Train\n",
        "print('On y train: ')\n",
        "print('y train dimensions: ', y_train.shape)\n",
        "display(y_train.head())\n",
        "\n",
        "# X test\n",
        "print('\\nOn y test: ')\n",
        "print('y test dimensions: ', y_test.shape)\n",
        "display(y_test.head())"
      ]
    },
    {
      "cell_type": "markdown",
      "metadata": {
        "id": "kjOaq43a2HpO"
      },
      "source": [
        "# Establish the training pipeline"
      ]
    },
    {
      "cell_type": "code",
      "execution_count": null,
      "metadata": {
        "id": "w0OxyIxP2In_"
      },
      "outputs": [],
      "source": [
        "# TODO: establish your own pipelines for the different data types\n",
        "cat_pipeline = Pipeline(steps=[('cat_impute', SimpleImputer(strategy='most_frequent')),\n",
        "                               ('onehot_cat', OneHotEncoder(handle_unknown='ignore'))])\n",
        "num_pipeline = Pipeline(steps=[('impute_num', SimpleImputer(strategy='mean')),\n",
        "                               ('scale_num', StandardScaler())])\n"
      ]
    },
    {
      "cell_type": "code",
      "execution_count": 68,
      "metadata": {
        "colab": {
          "base_uri": "https://localhost:8080/"
        },
        "id": "Cd9w2x162VHt",
        "outputId": "bf0c0f91-1ce2-4775-f622-6e63bd30c392"
      },
      "outputs": [
        {
          "output_type": "stream",
          "name": "stdout",
          "text": [
            "ColumnTransformer(remainder='passthrough',\n",
            "                  transformers=[('cat_pipe',\n",
            "                                 Pipeline(steps=[('cat_impute',\n",
            "                                                  SimpleImputer(strategy='most_frequent')),\n",
            "                                                 ('onehot_cat',\n",
            "                                                  OneHotEncoder(handle_unknown='ignore'))]),\n",
            "                                 <sklearn.compose._column_transformer.make_column_selector object at 0x7ff0a99d1b50>),\n",
            "                                ('num_pipe',\n",
            "                                 Pipeline(steps=[('impute_num',\n",
            "                                                  SimpleImputer()),\n",
            "                                                 ('scale_num',\n",
            "                                                  StandardScaler())]),\n",
            "                                 <sklearn.compose._column_transformer.make_column_selector object at 0x7ff0a99b7590>)])\n"
          ]
        }
      ],
      "source": [
        "# TODO: establish your preprocessing pipeline by your feature set\n",
        "preprocess = ColumnTransformer([('cat_pipe', cat_pipeline, make_column_selector(dtype_include=object)),\n",
        "                             ('num_pipe', num_pipeline, make_column_selector(dtype_include=np.number))],\n",
        "                             remainder='passthrough')\n",
        "\n",
        "print(preprocess)"
      ]
    },
    {
      "cell_type": "markdown",
      "metadata": {
        "id": "wgDAaY2d2dDR"
      },
      "source": [
        "LogisticRegression"
      ]
    },
    {
      "cell_type": "code",
      "execution_count": 69,
      "metadata": {
        "colab": {
          "base_uri": "https://localhost:8080/",
          "height": 227
        },
        "id": "ralsrgN32fMf",
        "outputId": "31855237-1b3f-45b2-a821-a81ef47deb57"
      },
      "outputs": [
        {
          "output_type": "display_data",
          "data": {
            "text/plain": [
              "Pipeline(steps=[('preproc',\n",
              "                 ColumnTransformer(remainder='passthrough',\n",
              "                                   transformers=[('cat_pipe',\n",
              "                                                  Pipeline(steps=[('cat_impute',\n",
              "                                                                   SimpleImputer(strategy='most_frequent')),\n",
              "                                                                  ('onehot_cat',\n",
              "                                                                   OneHotEncoder(handle_unknown='ignore'))]),\n",
              "                                                  <sklearn.compose._column_transformer.make_column_selector object at 0x7ff0a99d1b50>),\n",
              "                                                 ('num_pipe',\n",
              "                                                  Pipeline(steps=[('impute_num',\n",
              "                                                                   SimpleImputer()),\n",
              "                                                                  ('scale_num',\n",
              "                                                                   StandardScaler())]),\n",
              "                                                  <sklearn.compose._column_transformer.make_column_selector object at 0x7ff0a99b7590>)])),\n",
              "                ('mdl',\n",
              "                 LogisticRegression(penalty='elasticnet', solver='saga',\n",
              "                                    tol=0.01))])"
            ],
            "text/html": [
              "<style>#sk-2b292cd1-71ed-4632-9dba-83ebcfb59489 {color: black;background-color: white;}#sk-2b292cd1-71ed-4632-9dba-83ebcfb59489 pre{padding: 0;}#sk-2b292cd1-71ed-4632-9dba-83ebcfb59489 div.sk-toggleable {background-color: white;}#sk-2b292cd1-71ed-4632-9dba-83ebcfb59489 label.sk-toggleable__label {cursor: pointer;display: block;width: 100%;margin-bottom: 0;padding: 0.3em;box-sizing: border-box;text-align: center;}#sk-2b292cd1-71ed-4632-9dba-83ebcfb59489 label.sk-toggleable__label-arrow:before {content: \"▸\";float: left;margin-right: 0.25em;color: #696969;}#sk-2b292cd1-71ed-4632-9dba-83ebcfb59489 label.sk-toggleable__label-arrow:hover:before {color: black;}#sk-2b292cd1-71ed-4632-9dba-83ebcfb59489 div.sk-estimator:hover label.sk-toggleable__label-arrow:before {color: black;}#sk-2b292cd1-71ed-4632-9dba-83ebcfb59489 div.sk-toggleable__content {max-height: 0;max-width: 0;overflow: hidden;text-align: left;background-color: #f0f8ff;}#sk-2b292cd1-71ed-4632-9dba-83ebcfb59489 div.sk-toggleable__content pre {margin: 0.2em;color: black;border-radius: 0.25em;background-color: #f0f8ff;}#sk-2b292cd1-71ed-4632-9dba-83ebcfb59489 input.sk-toggleable__control:checked~div.sk-toggleable__content {max-height: 200px;max-width: 100%;overflow: auto;}#sk-2b292cd1-71ed-4632-9dba-83ebcfb59489 input.sk-toggleable__control:checked~label.sk-toggleable__label-arrow:before {content: \"▾\";}#sk-2b292cd1-71ed-4632-9dba-83ebcfb59489 div.sk-estimator input.sk-toggleable__control:checked~label.sk-toggleable__label {background-color: #d4ebff;}#sk-2b292cd1-71ed-4632-9dba-83ebcfb59489 div.sk-label input.sk-toggleable__control:checked~label.sk-toggleable__label {background-color: #d4ebff;}#sk-2b292cd1-71ed-4632-9dba-83ebcfb59489 input.sk-hidden--visually {border: 0;clip: rect(1px 1px 1px 1px);clip: rect(1px, 1px, 1px, 1px);height: 1px;margin: -1px;overflow: hidden;padding: 0;position: absolute;width: 1px;}#sk-2b292cd1-71ed-4632-9dba-83ebcfb59489 div.sk-estimator {font-family: monospace;background-color: #f0f8ff;border: 1px dotted black;border-radius: 0.25em;box-sizing: border-box;margin-bottom: 0.5em;}#sk-2b292cd1-71ed-4632-9dba-83ebcfb59489 div.sk-estimator:hover {background-color: #d4ebff;}#sk-2b292cd1-71ed-4632-9dba-83ebcfb59489 div.sk-parallel-item::after {content: \"\";width: 100%;border-bottom: 1px solid gray;flex-grow: 1;}#sk-2b292cd1-71ed-4632-9dba-83ebcfb59489 div.sk-label:hover label.sk-toggleable__label {background-color: #d4ebff;}#sk-2b292cd1-71ed-4632-9dba-83ebcfb59489 div.sk-serial::before {content: \"\";position: absolute;border-left: 1px solid gray;box-sizing: border-box;top: 2em;bottom: 0;left: 50%;}#sk-2b292cd1-71ed-4632-9dba-83ebcfb59489 div.sk-serial {display: flex;flex-direction: column;align-items: center;background-color: white;padding-right: 0.2em;padding-left: 0.2em;}#sk-2b292cd1-71ed-4632-9dba-83ebcfb59489 div.sk-item {z-index: 1;}#sk-2b292cd1-71ed-4632-9dba-83ebcfb59489 div.sk-parallel {display: flex;align-items: stretch;justify-content: center;background-color: white;}#sk-2b292cd1-71ed-4632-9dba-83ebcfb59489 div.sk-parallel::before {content: \"\";position: absolute;border-left: 1px solid gray;box-sizing: border-box;top: 2em;bottom: 0;left: 50%;}#sk-2b292cd1-71ed-4632-9dba-83ebcfb59489 div.sk-parallel-item {display: flex;flex-direction: column;position: relative;background-color: white;}#sk-2b292cd1-71ed-4632-9dba-83ebcfb59489 div.sk-parallel-item:first-child::after {align-self: flex-end;width: 50%;}#sk-2b292cd1-71ed-4632-9dba-83ebcfb59489 div.sk-parallel-item:last-child::after {align-self: flex-start;width: 50%;}#sk-2b292cd1-71ed-4632-9dba-83ebcfb59489 div.sk-parallel-item:only-child::after {width: 0;}#sk-2b292cd1-71ed-4632-9dba-83ebcfb59489 div.sk-dashed-wrapped {border: 1px dashed gray;margin: 0 0.4em 0.5em 0.4em;box-sizing: border-box;padding-bottom: 0.4em;background-color: white;position: relative;}#sk-2b292cd1-71ed-4632-9dba-83ebcfb59489 div.sk-label label {font-family: monospace;font-weight: bold;background-color: white;display: inline-block;line-height: 1.2em;}#sk-2b292cd1-71ed-4632-9dba-83ebcfb59489 div.sk-label-container {position: relative;z-index: 2;text-align: center;}#sk-2b292cd1-71ed-4632-9dba-83ebcfb59489 div.sk-container {/* jupyter's `normalize.less` sets `[hidden] { display: none; }` but bootstrap.min.css set `[hidden] { display: none !important; }` so we also need the `!important` here to be able to override the default hidden behavior on the sphinx rendered scikit-learn.org. See: https://github.com/scikit-learn/scikit-learn/issues/21755 */display: inline-block !important;position: relative;}#sk-2b292cd1-71ed-4632-9dba-83ebcfb59489 div.sk-text-repr-fallback {display: none;}</style><div id=\"sk-2b292cd1-71ed-4632-9dba-83ebcfb59489\" class=\"sk-top-container\"><div class=\"sk-text-repr-fallback\"><pre>Pipeline(steps=[(&#x27;preproc&#x27;,\n",
              "                 ColumnTransformer(remainder=&#x27;passthrough&#x27;,\n",
              "                                   transformers=[(&#x27;cat_pipe&#x27;,\n",
              "                                                  Pipeline(steps=[(&#x27;cat_impute&#x27;,\n",
              "                                                                   SimpleImputer(strategy=&#x27;most_frequent&#x27;)),\n",
              "                                                                  (&#x27;onehot_cat&#x27;,\n",
              "                                                                   OneHotEncoder(handle_unknown=&#x27;ignore&#x27;))]),\n",
              "                                                  &lt;sklearn.compose._column_transformer.make_column_selector object at 0x7ff0a99d1b50&gt;),\n",
              "                                                 (&#x27;num_pipe&#x27;,\n",
              "                                                  Pipeline(steps=[(&#x27;impute_num&#x27;,\n",
              "                                                                   SimpleImputer()),\n",
              "                                                                  (&#x27;scale_num&#x27;,\n",
              "                                                                   StandardScaler())]),\n",
              "                                                  &lt;sklearn.compose._column_transformer.make_column_selector object at 0x7ff0a99b7590&gt;)])),\n",
              "                (&#x27;mdl&#x27;,\n",
              "                 LogisticRegression(penalty=&#x27;elasticnet&#x27;, solver=&#x27;saga&#x27;,\n",
              "                                    tol=0.01))])</pre><b>Please rerun this cell to show the HTML repr or trust the notebook.</b></div><div class=\"sk-container\" hidden><div class=\"sk-item sk-dashed-wrapped\"><div class=\"sk-label-container\"><div class=\"sk-label sk-toggleable\"><input class=\"sk-toggleable__control sk-hidden--visually\" id=\"29193912-3117-4bdf-9429-13e3d513644a\" type=\"checkbox\" ><label for=\"29193912-3117-4bdf-9429-13e3d513644a\" class=\"sk-toggleable__label sk-toggleable__label-arrow\">Pipeline</label><div class=\"sk-toggleable__content\"><pre>Pipeline(steps=[(&#x27;preproc&#x27;,\n",
              "                 ColumnTransformer(remainder=&#x27;passthrough&#x27;,\n",
              "                                   transformers=[(&#x27;cat_pipe&#x27;,\n",
              "                                                  Pipeline(steps=[(&#x27;cat_impute&#x27;,\n",
              "                                                                   SimpleImputer(strategy=&#x27;most_frequent&#x27;)),\n",
              "                                                                  (&#x27;onehot_cat&#x27;,\n",
              "                                                                   OneHotEncoder(handle_unknown=&#x27;ignore&#x27;))]),\n",
              "                                                  &lt;sklearn.compose._column_transformer.make_column_selector object at 0x7ff0a99d1b50&gt;),\n",
              "                                                 (&#x27;num_pipe&#x27;,\n",
              "                                                  Pipeline(steps=[(&#x27;impute_num&#x27;,\n",
              "                                                                   SimpleImputer()),\n",
              "                                                                  (&#x27;scale_num&#x27;,\n",
              "                                                                   StandardScaler())]),\n",
              "                                                  &lt;sklearn.compose._column_transformer.make_column_selector object at 0x7ff0a99b7590&gt;)])),\n",
              "                (&#x27;mdl&#x27;,\n",
              "                 LogisticRegression(penalty=&#x27;elasticnet&#x27;, solver=&#x27;saga&#x27;,\n",
              "                                    tol=0.01))])</pre></div></div></div><div class=\"sk-serial\"><div class=\"sk-item sk-dashed-wrapped\"><div class=\"sk-label-container\"><div class=\"sk-label sk-toggleable\"><input class=\"sk-toggleable__control sk-hidden--visually\" id=\"551dd6fd-be56-4bf9-80e2-63182aa6346a\" type=\"checkbox\" ><label for=\"551dd6fd-be56-4bf9-80e2-63182aa6346a\" class=\"sk-toggleable__label sk-toggleable__label-arrow\">preproc: ColumnTransformer</label><div class=\"sk-toggleable__content\"><pre>ColumnTransformer(remainder=&#x27;passthrough&#x27;,\n",
              "                  transformers=[(&#x27;cat_pipe&#x27;,\n",
              "                                 Pipeline(steps=[(&#x27;cat_impute&#x27;,\n",
              "                                                  SimpleImputer(strategy=&#x27;most_frequent&#x27;)),\n",
              "                                                 (&#x27;onehot_cat&#x27;,\n",
              "                                                  OneHotEncoder(handle_unknown=&#x27;ignore&#x27;))]),\n",
              "                                 &lt;sklearn.compose._column_transformer.make_column_selector object at 0x7ff0a99d1b50&gt;),\n",
              "                                (&#x27;num_pipe&#x27;,\n",
              "                                 Pipeline(steps=[(&#x27;impute_num&#x27;,\n",
              "                                                  SimpleImputer()),\n",
              "                                                 (&#x27;scale_num&#x27;,\n",
              "                                                  StandardScaler())]),\n",
              "                                 &lt;sklearn.compose._column_transformer.make_column_selector object at 0x7ff0a99b7590&gt;)])</pre></div></div></div><div class=\"sk-parallel\"><div class=\"sk-parallel-item\"><div class=\"sk-item\"><div class=\"sk-label-container\"><div class=\"sk-label sk-toggleable\"><input class=\"sk-toggleable__control sk-hidden--visually\" id=\"df0656c9-459d-47d3-ae16-c4a72c06336b\" type=\"checkbox\" ><label for=\"df0656c9-459d-47d3-ae16-c4a72c06336b\" class=\"sk-toggleable__label sk-toggleable__label-arrow\">cat_pipe</label><div class=\"sk-toggleable__content\"><pre>&lt;sklearn.compose._column_transformer.make_column_selector object at 0x7ff0a99d1b50&gt;</pre></div></div></div><div class=\"sk-serial\"><div class=\"sk-item\"><div class=\"sk-serial\"><div class=\"sk-item\"><div class=\"sk-estimator sk-toggleable\"><input class=\"sk-toggleable__control sk-hidden--visually\" id=\"312e6ab6-b86f-4e32-86ea-c88d1535cf54\" type=\"checkbox\" ><label for=\"312e6ab6-b86f-4e32-86ea-c88d1535cf54\" class=\"sk-toggleable__label sk-toggleable__label-arrow\">SimpleImputer</label><div class=\"sk-toggleable__content\"><pre>SimpleImputer(strategy=&#x27;most_frequent&#x27;)</pre></div></div></div><div class=\"sk-item\"><div class=\"sk-estimator sk-toggleable\"><input class=\"sk-toggleable__control sk-hidden--visually\" id=\"ba0a789a-c4c3-4560-b1ec-82028d5017c2\" type=\"checkbox\" ><label for=\"ba0a789a-c4c3-4560-b1ec-82028d5017c2\" class=\"sk-toggleable__label sk-toggleable__label-arrow\">OneHotEncoder</label><div class=\"sk-toggleable__content\"><pre>OneHotEncoder(handle_unknown=&#x27;ignore&#x27;)</pre></div></div></div></div></div></div></div></div><div class=\"sk-parallel-item\"><div class=\"sk-item\"><div class=\"sk-label-container\"><div class=\"sk-label sk-toggleable\"><input class=\"sk-toggleable__control sk-hidden--visually\" id=\"ddb88460-c648-47d6-848a-82726e666da9\" type=\"checkbox\" ><label for=\"ddb88460-c648-47d6-848a-82726e666da9\" class=\"sk-toggleable__label sk-toggleable__label-arrow\">num_pipe</label><div class=\"sk-toggleable__content\"><pre>&lt;sklearn.compose._column_transformer.make_column_selector object at 0x7ff0a99b7590&gt;</pre></div></div></div><div class=\"sk-serial\"><div class=\"sk-item\"><div class=\"sk-serial\"><div class=\"sk-item\"><div class=\"sk-estimator sk-toggleable\"><input class=\"sk-toggleable__control sk-hidden--visually\" id=\"a15cc007-4fcd-4728-b566-d00c9e14d85e\" type=\"checkbox\" ><label for=\"a15cc007-4fcd-4728-b566-d00c9e14d85e\" class=\"sk-toggleable__label sk-toggleable__label-arrow\">SimpleImputer</label><div class=\"sk-toggleable__content\"><pre>SimpleImputer()</pre></div></div></div><div class=\"sk-item\"><div class=\"sk-estimator sk-toggleable\"><input class=\"sk-toggleable__control sk-hidden--visually\" id=\"ba5cb7f3-ce36-4dd1-8eaa-ee5eb2de265f\" type=\"checkbox\" ><label for=\"ba5cb7f3-ce36-4dd1-8eaa-ee5eb2de265f\" class=\"sk-toggleable__label sk-toggleable__label-arrow\">StandardScaler</label><div class=\"sk-toggleable__content\"><pre>StandardScaler()</pre></div></div></div></div></div></div></div></div><div class=\"sk-parallel-item\"><div class=\"sk-item\"><div class=\"sk-label-container\"><div class=\"sk-label sk-toggleable\"><input class=\"sk-toggleable__control sk-hidden--visually\" id=\"c8a331c5-75a2-4512-9778-391aa0880dc3\" type=\"checkbox\" ><label for=\"c8a331c5-75a2-4512-9778-391aa0880dc3\" class=\"sk-toggleable__label sk-toggleable__label-arrow\">remainder</label><div class=\"sk-toggleable__content\"><pre></pre></div></div></div><div class=\"sk-serial\"><div class=\"sk-item\"><div class=\"sk-estimator sk-toggleable\"><input class=\"sk-toggleable__control sk-hidden--visually\" id=\"43d06dea-8b76-439d-8fba-77cb28125b0f\" type=\"checkbox\" ><label for=\"43d06dea-8b76-439d-8fba-77cb28125b0f\" class=\"sk-toggleable__label sk-toggleable__label-arrow\">passthrough</label><div class=\"sk-toggleable__content\"><pre>passthrough</pre></div></div></div></div></div></div></div></div><div class=\"sk-item\"><div class=\"sk-estimator sk-toggleable\"><input class=\"sk-toggleable__control sk-hidden--visually\" id=\"0933afd3-0a28-4e02-b207-feae2d0f6b76\" type=\"checkbox\" ><label for=\"0933afd3-0a28-4e02-b207-feae2d0f6b76\" class=\"sk-toggleable__label sk-toggleable__label-arrow\">LogisticRegression</label><div class=\"sk-toggleable__content\"><pre>LogisticRegression(penalty=&#x27;elasticnet&#x27;, solver=&#x27;saga&#x27;, tol=0.01)</pre></div></div></div></div></div></div></div>"
            ]
          },
          "metadata": {}
        }
      ],
      "source": [
        "# TODO: set up your modeling pipeline\n",
        "pipeLR = Pipeline(steps=[('preproc', preprocess),\n",
        "                       ('mdl', LogisticRegression(penalty='elasticnet', solver='saga', tol=0.01))])\n",
        "\n",
        "\n",
        "# Feel free to uncomment and edit the code below to visualize your overall pipeline\n",
        "with config_context(display='diagram'):\n",
        "    display(pipeLR)"
      ]
    },
    {
      "cell_type": "markdown",
      "metadata": {
        "id": "Nd8BoHkY2thL"
      },
      "source": [
        "RandomForest"
      ]
    },
    {
      "cell_type": "code",
      "execution_count": 70,
      "metadata": {
        "colab": {
          "base_uri": "https://localhost:8080/",
          "height": 227
        },
        "id": "gg5B-YdX2u7Q",
        "outputId": "c87c9c98-b6a9-4f5f-a6af-cebbfc337e9a"
      },
      "outputs": [
        {
          "output_type": "display_data",
          "data": {
            "text/plain": [
              "Pipeline(steps=[('preproc',\n",
              "                 ColumnTransformer(remainder='passthrough',\n",
              "                                   transformers=[('cat_pipe',\n",
              "                                                  Pipeline(steps=[('cat_impute',\n",
              "                                                                   SimpleImputer(strategy='most_frequent')),\n",
              "                                                                  ('onehot_cat',\n",
              "                                                                   OneHotEncoder(handle_unknown='ignore'))]),\n",
              "                                                  <sklearn.compose._column_transformer.make_column_selector object at 0x7ff0a99d1b50>),\n",
              "                                                 ('num_pipe',\n",
              "                                                  Pipeline(steps=[('impute_num',\n",
              "                                                                   SimpleImputer()),\n",
              "                                                                  ('scale_num',\n",
              "                                                                   StandardScaler())]),\n",
              "                                                  <sklearn.compose._column_transformer.make_column_selector object at 0x7ff0a99b7590>)])),\n",
              "                ('rf', RandomForestClassifier())])"
            ],
            "text/html": [
              "<style>#sk-5afef266-b036-495f-b54b-5a4df12f857b {color: black;background-color: white;}#sk-5afef266-b036-495f-b54b-5a4df12f857b pre{padding: 0;}#sk-5afef266-b036-495f-b54b-5a4df12f857b div.sk-toggleable {background-color: white;}#sk-5afef266-b036-495f-b54b-5a4df12f857b label.sk-toggleable__label {cursor: pointer;display: block;width: 100%;margin-bottom: 0;padding: 0.3em;box-sizing: border-box;text-align: center;}#sk-5afef266-b036-495f-b54b-5a4df12f857b label.sk-toggleable__label-arrow:before {content: \"▸\";float: left;margin-right: 0.25em;color: #696969;}#sk-5afef266-b036-495f-b54b-5a4df12f857b label.sk-toggleable__label-arrow:hover:before {color: black;}#sk-5afef266-b036-495f-b54b-5a4df12f857b div.sk-estimator:hover label.sk-toggleable__label-arrow:before {color: black;}#sk-5afef266-b036-495f-b54b-5a4df12f857b div.sk-toggleable__content {max-height: 0;max-width: 0;overflow: hidden;text-align: left;background-color: #f0f8ff;}#sk-5afef266-b036-495f-b54b-5a4df12f857b div.sk-toggleable__content pre {margin: 0.2em;color: black;border-radius: 0.25em;background-color: #f0f8ff;}#sk-5afef266-b036-495f-b54b-5a4df12f857b input.sk-toggleable__control:checked~div.sk-toggleable__content {max-height: 200px;max-width: 100%;overflow: auto;}#sk-5afef266-b036-495f-b54b-5a4df12f857b input.sk-toggleable__control:checked~label.sk-toggleable__label-arrow:before {content: \"▾\";}#sk-5afef266-b036-495f-b54b-5a4df12f857b div.sk-estimator input.sk-toggleable__control:checked~label.sk-toggleable__label {background-color: #d4ebff;}#sk-5afef266-b036-495f-b54b-5a4df12f857b div.sk-label input.sk-toggleable__control:checked~label.sk-toggleable__label {background-color: #d4ebff;}#sk-5afef266-b036-495f-b54b-5a4df12f857b input.sk-hidden--visually {border: 0;clip: rect(1px 1px 1px 1px);clip: rect(1px, 1px, 1px, 1px);height: 1px;margin: -1px;overflow: hidden;padding: 0;position: absolute;width: 1px;}#sk-5afef266-b036-495f-b54b-5a4df12f857b div.sk-estimator {font-family: monospace;background-color: #f0f8ff;border: 1px dotted black;border-radius: 0.25em;box-sizing: border-box;margin-bottom: 0.5em;}#sk-5afef266-b036-495f-b54b-5a4df12f857b div.sk-estimator:hover {background-color: #d4ebff;}#sk-5afef266-b036-495f-b54b-5a4df12f857b div.sk-parallel-item::after {content: \"\";width: 100%;border-bottom: 1px solid gray;flex-grow: 1;}#sk-5afef266-b036-495f-b54b-5a4df12f857b div.sk-label:hover label.sk-toggleable__label {background-color: #d4ebff;}#sk-5afef266-b036-495f-b54b-5a4df12f857b div.sk-serial::before {content: \"\";position: absolute;border-left: 1px solid gray;box-sizing: border-box;top: 2em;bottom: 0;left: 50%;}#sk-5afef266-b036-495f-b54b-5a4df12f857b div.sk-serial {display: flex;flex-direction: column;align-items: center;background-color: white;padding-right: 0.2em;padding-left: 0.2em;}#sk-5afef266-b036-495f-b54b-5a4df12f857b div.sk-item {z-index: 1;}#sk-5afef266-b036-495f-b54b-5a4df12f857b div.sk-parallel {display: flex;align-items: stretch;justify-content: center;background-color: white;}#sk-5afef266-b036-495f-b54b-5a4df12f857b div.sk-parallel::before {content: \"\";position: absolute;border-left: 1px solid gray;box-sizing: border-box;top: 2em;bottom: 0;left: 50%;}#sk-5afef266-b036-495f-b54b-5a4df12f857b div.sk-parallel-item {display: flex;flex-direction: column;position: relative;background-color: white;}#sk-5afef266-b036-495f-b54b-5a4df12f857b div.sk-parallel-item:first-child::after {align-self: flex-end;width: 50%;}#sk-5afef266-b036-495f-b54b-5a4df12f857b div.sk-parallel-item:last-child::after {align-self: flex-start;width: 50%;}#sk-5afef266-b036-495f-b54b-5a4df12f857b div.sk-parallel-item:only-child::after {width: 0;}#sk-5afef266-b036-495f-b54b-5a4df12f857b div.sk-dashed-wrapped {border: 1px dashed gray;margin: 0 0.4em 0.5em 0.4em;box-sizing: border-box;padding-bottom: 0.4em;background-color: white;position: relative;}#sk-5afef266-b036-495f-b54b-5a4df12f857b div.sk-label label {font-family: monospace;font-weight: bold;background-color: white;display: inline-block;line-height: 1.2em;}#sk-5afef266-b036-495f-b54b-5a4df12f857b div.sk-label-container {position: relative;z-index: 2;text-align: center;}#sk-5afef266-b036-495f-b54b-5a4df12f857b div.sk-container {/* jupyter's `normalize.less` sets `[hidden] { display: none; }` but bootstrap.min.css set `[hidden] { display: none !important; }` so we also need the `!important` here to be able to override the default hidden behavior on the sphinx rendered scikit-learn.org. See: https://github.com/scikit-learn/scikit-learn/issues/21755 */display: inline-block !important;position: relative;}#sk-5afef266-b036-495f-b54b-5a4df12f857b div.sk-text-repr-fallback {display: none;}</style><div id=\"sk-5afef266-b036-495f-b54b-5a4df12f857b\" class=\"sk-top-container\"><div class=\"sk-text-repr-fallback\"><pre>Pipeline(steps=[(&#x27;preproc&#x27;,\n",
              "                 ColumnTransformer(remainder=&#x27;passthrough&#x27;,\n",
              "                                   transformers=[(&#x27;cat_pipe&#x27;,\n",
              "                                                  Pipeline(steps=[(&#x27;cat_impute&#x27;,\n",
              "                                                                   SimpleImputer(strategy=&#x27;most_frequent&#x27;)),\n",
              "                                                                  (&#x27;onehot_cat&#x27;,\n",
              "                                                                   OneHotEncoder(handle_unknown=&#x27;ignore&#x27;))]),\n",
              "                                                  &lt;sklearn.compose._column_transformer.make_column_selector object at 0x7ff0a99d1b50&gt;),\n",
              "                                                 (&#x27;num_pipe&#x27;,\n",
              "                                                  Pipeline(steps=[(&#x27;impute_num&#x27;,\n",
              "                                                                   SimpleImputer()),\n",
              "                                                                  (&#x27;scale_num&#x27;,\n",
              "                                                                   StandardScaler())]),\n",
              "                                                  &lt;sklearn.compose._column_transformer.make_column_selector object at 0x7ff0a99b7590&gt;)])),\n",
              "                (&#x27;rf&#x27;, RandomForestClassifier())])</pre><b>Please rerun this cell to show the HTML repr or trust the notebook.</b></div><div class=\"sk-container\" hidden><div class=\"sk-item sk-dashed-wrapped\"><div class=\"sk-label-container\"><div class=\"sk-label sk-toggleable\"><input class=\"sk-toggleable__control sk-hidden--visually\" id=\"b1cac739-be04-42ec-a45f-5951784c7f65\" type=\"checkbox\" ><label for=\"b1cac739-be04-42ec-a45f-5951784c7f65\" class=\"sk-toggleable__label sk-toggleable__label-arrow\">Pipeline</label><div class=\"sk-toggleable__content\"><pre>Pipeline(steps=[(&#x27;preproc&#x27;,\n",
              "                 ColumnTransformer(remainder=&#x27;passthrough&#x27;,\n",
              "                                   transformers=[(&#x27;cat_pipe&#x27;,\n",
              "                                                  Pipeline(steps=[(&#x27;cat_impute&#x27;,\n",
              "                                                                   SimpleImputer(strategy=&#x27;most_frequent&#x27;)),\n",
              "                                                                  (&#x27;onehot_cat&#x27;,\n",
              "                                                                   OneHotEncoder(handle_unknown=&#x27;ignore&#x27;))]),\n",
              "                                                  &lt;sklearn.compose._column_transformer.make_column_selector object at 0x7ff0a99d1b50&gt;),\n",
              "                                                 (&#x27;num_pipe&#x27;,\n",
              "                                                  Pipeline(steps=[(&#x27;impute_num&#x27;,\n",
              "                                                                   SimpleImputer()),\n",
              "                                                                  (&#x27;scale_num&#x27;,\n",
              "                                                                   StandardScaler())]),\n",
              "                                                  &lt;sklearn.compose._column_transformer.make_column_selector object at 0x7ff0a99b7590&gt;)])),\n",
              "                (&#x27;rf&#x27;, RandomForestClassifier())])</pre></div></div></div><div class=\"sk-serial\"><div class=\"sk-item sk-dashed-wrapped\"><div class=\"sk-label-container\"><div class=\"sk-label sk-toggleable\"><input class=\"sk-toggleable__control sk-hidden--visually\" id=\"7a3bd7b3-1f34-4931-be4d-d824ede0f1fa\" type=\"checkbox\" ><label for=\"7a3bd7b3-1f34-4931-be4d-d824ede0f1fa\" class=\"sk-toggleable__label sk-toggleable__label-arrow\">preproc: ColumnTransformer</label><div class=\"sk-toggleable__content\"><pre>ColumnTransformer(remainder=&#x27;passthrough&#x27;,\n",
              "                  transformers=[(&#x27;cat_pipe&#x27;,\n",
              "                                 Pipeline(steps=[(&#x27;cat_impute&#x27;,\n",
              "                                                  SimpleImputer(strategy=&#x27;most_frequent&#x27;)),\n",
              "                                                 (&#x27;onehot_cat&#x27;,\n",
              "                                                  OneHotEncoder(handle_unknown=&#x27;ignore&#x27;))]),\n",
              "                                 &lt;sklearn.compose._column_transformer.make_column_selector object at 0x7ff0a99d1b50&gt;),\n",
              "                                (&#x27;num_pipe&#x27;,\n",
              "                                 Pipeline(steps=[(&#x27;impute_num&#x27;,\n",
              "                                                  SimpleImputer()),\n",
              "                                                 (&#x27;scale_num&#x27;,\n",
              "                                                  StandardScaler())]),\n",
              "                                 &lt;sklearn.compose._column_transformer.make_column_selector object at 0x7ff0a99b7590&gt;)])</pre></div></div></div><div class=\"sk-parallel\"><div class=\"sk-parallel-item\"><div class=\"sk-item\"><div class=\"sk-label-container\"><div class=\"sk-label sk-toggleable\"><input class=\"sk-toggleable__control sk-hidden--visually\" id=\"dbd43018-2f4e-4f2e-b036-8ebeec1e7449\" type=\"checkbox\" ><label for=\"dbd43018-2f4e-4f2e-b036-8ebeec1e7449\" class=\"sk-toggleable__label sk-toggleable__label-arrow\">cat_pipe</label><div class=\"sk-toggleable__content\"><pre>&lt;sklearn.compose._column_transformer.make_column_selector object at 0x7ff0a99d1b50&gt;</pre></div></div></div><div class=\"sk-serial\"><div class=\"sk-item\"><div class=\"sk-serial\"><div class=\"sk-item\"><div class=\"sk-estimator sk-toggleable\"><input class=\"sk-toggleable__control sk-hidden--visually\" id=\"fc4af455-8c6a-4d93-b754-c3c1dfe489cb\" type=\"checkbox\" ><label for=\"fc4af455-8c6a-4d93-b754-c3c1dfe489cb\" class=\"sk-toggleable__label sk-toggleable__label-arrow\">SimpleImputer</label><div class=\"sk-toggleable__content\"><pre>SimpleImputer(strategy=&#x27;most_frequent&#x27;)</pre></div></div></div><div class=\"sk-item\"><div class=\"sk-estimator sk-toggleable\"><input class=\"sk-toggleable__control sk-hidden--visually\" id=\"a0a6fa85-9f83-4126-b506-8a9c79b573ea\" type=\"checkbox\" ><label for=\"a0a6fa85-9f83-4126-b506-8a9c79b573ea\" class=\"sk-toggleable__label sk-toggleable__label-arrow\">OneHotEncoder</label><div class=\"sk-toggleable__content\"><pre>OneHotEncoder(handle_unknown=&#x27;ignore&#x27;)</pre></div></div></div></div></div></div></div></div><div class=\"sk-parallel-item\"><div class=\"sk-item\"><div class=\"sk-label-container\"><div class=\"sk-label sk-toggleable\"><input class=\"sk-toggleable__control sk-hidden--visually\" id=\"a479a76f-0607-4277-a151-e8a5287a05d5\" type=\"checkbox\" ><label for=\"a479a76f-0607-4277-a151-e8a5287a05d5\" class=\"sk-toggleable__label sk-toggleable__label-arrow\">num_pipe</label><div class=\"sk-toggleable__content\"><pre>&lt;sklearn.compose._column_transformer.make_column_selector object at 0x7ff0a99b7590&gt;</pre></div></div></div><div class=\"sk-serial\"><div class=\"sk-item\"><div class=\"sk-serial\"><div class=\"sk-item\"><div class=\"sk-estimator sk-toggleable\"><input class=\"sk-toggleable__control sk-hidden--visually\" id=\"65325091-5e96-4b60-9919-3bad83eb6c5a\" type=\"checkbox\" ><label for=\"65325091-5e96-4b60-9919-3bad83eb6c5a\" class=\"sk-toggleable__label sk-toggleable__label-arrow\">SimpleImputer</label><div class=\"sk-toggleable__content\"><pre>SimpleImputer()</pre></div></div></div><div class=\"sk-item\"><div class=\"sk-estimator sk-toggleable\"><input class=\"sk-toggleable__control sk-hidden--visually\" id=\"cad9f650-3ff0-405e-a6c1-6cc37cd630bb\" type=\"checkbox\" ><label for=\"cad9f650-3ff0-405e-a6c1-6cc37cd630bb\" class=\"sk-toggleable__label sk-toggleable__label-arrow\">StandardScaler</label><div class=\"sk-toggleable__content\"><pre>StandardScaler()</pre></div></div></div></div></div></div></div></div><div class=\"sk-parallel-item\"><div class=\"sk-item\"><div class=\"sk-label-container\"><div class=\"sk-label sk-toggleable\"><input class=\"sk-toggleable__control sk-hidden--visually\" id=\"e2a6332c-62a0-49d2-a5af-00844d018118\" type=\"checkbox\" ><label for=\"e2a6332c-62a0-49d2-a5af-00844d018118\" class=\"sk-toggleable__label sk-toggleable__label-arrow\">remainder</label><div class=\"sk-toggleable__content\"><pre></pre></div></div></div><div class=\"sk-serial\"><div class=\"sk-item\"><div class=\"sk-estimator sk-toggleable\"><input class=\"sk-toggleable__control sk-hidden--visually\" id=\"dceaabf7-1c0e-4483-96b1-6f0f6c391987\" type=\"checkbox\" ><label for=\"dceaabf7-1c0e-4483-96b1-6f0f6c391987\" class=\"sk-toggleable__label sk-toggleable__label-arrow\">passthrough</label><div class=\"sk-toggleable__content\"><pre>passthrough</pre></div></div></div></div></div></div></div></div><div class=\"sk-item\"><div class=\"sk-estimator sk-toggleable\"><input class=\"sk-toggleable__control sk-hidden--visually\" id=\"b5846853-27c8-42c7-8263-14e110ef5d5e\" type=\"checkbox\" ><label for=\"b5846853-27c8-42c7-8263-14e110ef5d5e\" class=\"sk-toggleable__label sk-toggleable__label-arrow\">RandomForestClassifier</label><div class=\"sk-toggleable__content\"><pre>RandomForestClassifier()</pre></div></div></div></div></div></div></div>"
            ]
          },
          "metadata": {}
        }
      ],
      "source": [
        "# TODO: set up your modeling pipeline RandomForest\n",
        "pipeRandForest = Pipeline([('preproc', preprocess),\n",
        "                        ('rf', RandomForestClassifier())])\n",
        "\n",
        "# Feel free to uncomment and edit the code below to visualize your overall pipeline\n",
        "with config_context(display='diagram'):\n",
        "    display(pipeRandForest)"
      ]
    },
    {
      "cell_type": "markdown",
      "metadata": {
        "id": "Bj8MUZ-P2ycw"
      },
      "source": [
        "GradientBoost"
      ]
    },
    {
      "cell_type": "code",
      "execution_count": 71,
      "metadata": {
        "colab": {
          "base_uri": "https://localhost:8080/",
          "height": 227
        },
        "id": "9kf3gRFe2zok",
        "outputId": "8360e51f-e637-483e-ee47-185c25e10563"
      },
      "outputs": [
        {
          "output_type": "display_data",
          "data": {
            "text/plain": [
              "Pipeline(steps=[('preproc',\n",
              "                 ColumnTransformer(remainder='passthrough',\n",
              "                                   transformers=[('cat_pipe',\n",
              "                                                  Pipeline(steps=[('cat_impute',\n",
              "                                                                   SimpleImputer(strategy='most_frequent')),\n",
              "                                                                  ('onehot_cat',\n",
              "                                                                   OneHotEncoder(handle_unknown='ignore'))]),\n",
              "                                                  <sklearn.compose._column_transformer.make_column_selector object at 0x7ff0a99d1b50>),\n",
              "                                                 ('num_pipe',\n",
              "                                                  Pipeline(steps=[('impute_num',\n",
              "                                                                   SimpleImputer()),\n",
              "                                                                  ('scale_num',\n",
              "                                                                   StandardScaler())]),\n",
              "                                                  <sklearn.compose._column_transformer.make_column_selector object at 0x7ff0a99b7590>)])),\n",
              "                ('gbc', GradientBoostingClassifier())])"
            ],
            "text/html": [
              "<style>#sk-29f5dbf1-1d7e-476b-ad4a-b215fa97f8f0 {color: black;background-color: white;}#sk-29f5dbf1-1d7e-476b-ad4a-b215fa97f8f0 pre{padding: 0;}#sk-29f5dbf1-1d7e-476b-ad4a-b215fa97f8f0 div.sk-toggleable {background-color: white;}#sk-29f5dbf1-1d7e-476b-ad4a-b215fa97f8f0 label.sk-toggleable__label {cursor: pointer;display: block;width: 100%;margin-bottom: 0;padding: 0.3em;box-sizing: border-box;text-align: center;}#sk-29f5dbf1-1d7e-476b-ad4a-b215fa97f8f0 label.sk-toggleable__label-arrow:before {content: \"▸\";float: left;margin-right: 0.25em;color: #696969;}#sk-29f5dbf1-1d7e-476b-ad4a-b215fa97f8f0 label.sk-toggleable__label-arrow:hover:before {color: black;}#sk-29f5dbf1-1d7e-476b-ad4a-b215fa97f8f0 div.sk-estimator:hover label.sk-toggleable__label-arrow:before {color: black;}#sk-29f5dbf1-1d7e-476b-ad4a-b215fa97f8f0 div.sk-toggleable__content {max-height: 0;max-width: 0;overflow: hidden;text-align: left;background-color: #f0f8ff;}#sk-29f5dbf1-1d7e-476b-ad4a-b215fa97f8f0 div.sk-toggleable__content pre {margin: 0.2em;color: black;border-radius: 0.25em;background-color: #f0f8ff;}#sk-29f5dbf1-1d7e-476b-ad4a-b215fa97f8f0 input.sk-toggleable__control:checked~div.sk-toggleable__content {max-height: 200px;max-width: 100%;overflow: auto;}#sk-29f5dbf1-1d7e-476b-ad4a-b215fa97f8f0 input.sk-toggleable__control:checked~label.sk-toggleable__label-arrow:before {content: \"▾\";}#sk-29f5dbf1-1d7e-476b-ad4a-b215fa97f8f0 div.sk-estimator input.sk-toggleable__control:checked~label.sk-toggleable__label {background-color: #d4ebff;}#sk-29f5dbf1-1d7e-476b-ad4a-b215fa97f8f0 div.sk-label input.sk-toggleable__control:checked~label.sk-toggleable__label {background-color: #d4ebff;}#sk-29f5dbf1-1d7e-476b-ad4a-b215fa97f8f0 input.sk-hidden--visually {border: 0;clip: rect(1px 1px 1px 1px);clip: rect(1px, 1px, 1px, 1px);height: 1px;margin: -1px;overflow: hidden;padding: 0;position: absolute;width: 1px;}#sk-29f5dbf1-1d7e-476b-ad4a-b215fa97f8f0 div.sk-estimator {font-family: monospace;background-color: #f0f8ff;border: 1px dotted black;border-radius: 0.25em;box-sizing: border-box;margin-bottom: 0.5em;}#sk-29f5dbf1-1d7e-476b-ad4a-b215fa97f8f0 div.sk-estimator:hover {background-color: #d4ebff;}#sk-29f5dbf1-1d7e-476b-ad4a-b215fa97f8f0 div.sk-parallel-item::after {content: \"\";width: 100%;border-bottom: 1px solid gray;flex-grow: 1;}#sk-29f5dbf1-1d7e-476b-ad4a-b215fa97f8f0 div.sk-label:hover label.sk-toggleable__label {background-color: #d4ebff;}#sk-29f5dbf1-1d7e-476b-ad4a-b215fa97f8f0 div.sk-serial::before {content: \"\";position: absolute;border-left: 1px solid gray;box-sizing: border-box;top: 2em;bottom: 0;left: 50%;}#sk-29f5dbf1-1d7e-476b-ad4a-b215fa97f8f0 div.sk-serial {display: flex;flex-direction: column;align-items: center;background-color: white;padding-right: 0.2em;padding-left: 0.2em;}#sk-29f5dbf1-1d7e-476b-ad4a-b215fa97f8f0 div.sk-item {z-index: 1;}#sk-29f5dbf1-1d7e-476b-ad4a-b215fa97f8f0 div.sk-parallel {display: flex;align-items: stretch;justify-content: center;background-color: white;}#sk-29f5dbf1-1d7e-476b-ad4a-b215fa97f8f0 div.sk-parallel::before {content: \"\";position: absolute;border-left: 1px solid gray;box-sizing: border-box;top: 2em;bottom: 0;left: 50%;}#sk-29f5dbf1-1d7e-476b-ad4a-b215fa97f8f0 div.sk-parallel-item {display: flex;flex-direction: column;position: relative;background-color: white;}#sk-29f5dbf1-1d7e-476b-ad4a-b215fa97f8f0 div.sk-parallel-item:first-child::after {align-self: flex-end;width: 50%;}#sk-29f5dbf1-1d7e-476b-ad4a-b215fa97f8f0 div.sk-parallel-item:last-child::after {align-self: flex-start;width: 50%;}#sk-29f5dbf1-1d7e-476b-ad4a-b215fa97f8f0 div.sk-parallel-item:only-child::after {width: 0;}#sk-29f5dbf1-1d7e-476b-ad4a-b215fa97f8f0 div.sk-dashed-wrapped {border: 1px dashed gray;margin: 0 0.4em 0.5em 0.4em;box-sizing: border-box;padding-bottom: 0.4em;background-color: white;position: relative;}#sk-29f5dbf1-1d7e-476b-ad4a-b215fa97f8f0 div.sk-label label {font-family: monospace;font-weight: bold;background-color: white;display: inline-block;line-height: 1.2em;}#sk-29f5dbf1-1d7e-476b-ad4a-b215fa97f8f0 div.sk-label-container {position: relative;z-index: 2;text-align: center;}#sk-29f5dbf1-1d7e-476b-ad4a-b215fa97f8f0 div.sk-container {/* jupyter's `normalize.less` sets `[hidden] { display: none; }` but bootstrap.min.css set `[hidden] { display: none !important; }` so we also need the `!important` here to be able to override the default hidden behavior on the sphinx rendered scikit-learn.org. See: https://github.com/scikit-learn/scikit-learn/issues/21755 */display: inline-block !important;position: relative;}#sk-29f5dbf1-1d7e-476b-ad4a-b215fa97f8f0 div.sk-text-repr-fallback {display: none;}</style><div id=\"sk-29f5dbf1-1d7e-476b-ad4a-b215fa97f8f0\" class=\"sk-top-container\"><div class=\"sk-text-repr-fallback\"><pre>Pipeline(steps=[(&#x27;preproc&#x27;,\n",
              "                 ColumnTransformer(remainder=&#x27;passthrough&#x27;,\n",
              "                                   transformers=[(&#x27;cat_pipe&#x27;,\n",
              "                                                  Pipeline(steps=[(&#x27;cat_impute&#x27;,\n",
              "                                                                   SimpleImputer(strategy=&#x27;most_frequent&#x27;)),\n",
              "                                                                  (&#x27;onehot_cat&#x27;,\n",
              "                                                                   OneHotEncoder(handle_unknown=&#x27;ignore&#x27;))]),\n",
              "                                                  &lt;sklearn.compose._column_transformer.make_column_selector object at 0x7ff0a99d1b50&gt;),\n",
              "                                                 (&#x27;num_pipe&#x27;,\n",
              "                                                  Pipeline(steps=[(&#x27;impute_num&#x27;,\n",
              "                                                                   SimpleImputer()),\n",
              "                                                                  (&#x27;scale_num&#x27;,\n",
              "                                                                   StandardScaler())]),\n",
              "                                                  &lt;sklearn.compose._column_transformer.make_column_selector object at 0x7ff0a99b7590&gt;)])),\n",
              "                (&#x27;gbc&#x27;, GradientBoostingClassifier())])</pre><b>Please rerun this cell to show the HTML repr or trust the notebook.</b></div><div class=\"sk-container\" hidden><div class=\"sk-item sk-dashed-wrapped\"><div class=\"sk-label-container\"><div class=\"sk-label sk-toggleable\"><input class=\"sk-toggleable__control sk-hidden--visually\" id=\"354f49cc-4065-457a-977a-42cd8552c024\" type=\"checkbox\" ><label for=\"354f49cc-4065-457a-977a-42cd8552c024\" class=\"sk-toggleable__label sk-toggleable__label-arrow\">Pipeline</label><div class=\"sk-toggleable__content\"><pre>Pipeline(steps=[(&#x27;preproc&#x27;,\n",
              "                 ColumnTransformer(remainder=&#x27;passthrough&#x27;,\n",
              "                                   transformers=[(&#x27;cat_pipe&#x27;,\n",
              "                                                  Pipeline(steps=[(&#x27;cat_impute&#x27;,\n",
              "                                                                   SimpleImputer(strategy=&#x27;most_frequent&#x27;)),\n",
              "                                                                  (&#x27;onehot_cat&#x27;,\n",
              "                                                                   OneHotEncoder(handle_unknown=&#x27;ignore&#x27;))]),\n",
              "                                                  &lt;sklearn.compose._column_transformer.make_column_selector object at 0x7ff0a99d1b50&gt;),\n",
              "                                                 (&#x27;num_pipe&#x27;,\n",
              "                                                  Pipeline(steps=[(&#x27;impute_num&#x27;,\n",
              "                                                                   SimpleImputer()),\n",
              "                                                                  (&#x27;scale_num&#x27;,\n",
              "                                                                   StandardScaler())]),\n",
              "                                                  &lt;sklearn.compose._column_transformer.make_column_selector object at 0x7ff0a99b7590&gt;)])),\n",
              "                (&#x27;gbc&#x27;, GradientBoostingClassifier())])</pre></div></div></div><div class=\"sk-serial\"><div class=\"sk-item sk-dashed-wrapped\"><div class=\"sk-label-container\"><div class=\"sk-label sk-toggleable\"><input class=\"sk-toggleable__control sk-hidden--visually\" id=\"34e62384-fdaf-4cbd-b21c-afe9c703567f\" type=\"checkbox\" ><label for=\"34e62384-fdaf-4cbd-b21c-afe9c703567f\" class=\"sk-toggleable__label sk-toggleable__label-arrow\">preproc: ColumnTransformer</label><div class=\"sk-toggleable__content\"><pre>ColumnTransformer(remainder=&#x27;passthrough&#x27;,\n",
              "                  transformers=[(&#x27;cat_pipe&#x27;,\n",
              "                                 Pipeline(steps=[(&#x27;cat_impute&#x27;,\n",
              "                                                  SimpleImputer(strategy=&#x27;most_frequent&#x27;)),\n",
              "                                                 (&#x27;onehot_cat&#x27;,\n",
              "                                                  OneHotEncoder(handle_unknown=&#x27;ignore&#x27;))]),\n",
              "                                 &lt;sklearn.compose._column_transformer.make_column_selector object at 0x7ff0a99d1b50&gt;),\n",
              "                                (&#x27;num_pipe&#x27;,\n",
              "                                 Pipeline(steps=[(&#x27;impute_num&#x27;,\n",
              "                                                  SimpleImputer()),\n",
              "                                                 (&#x27;scale_num&#x27;,\n",
              "                                                  StandardScaler())]),\n",
              "                                 &lt;sklearn.compose._column_transformer.make_column_selector object at 0x7ff0a99b7590&gt;)])</pre></div></div></div><div class=\"sk-parallel\"><div class=\"sk-parallel-item\"><div class=\"sk-item\"><div class=\"sk-label-container\"><div class=\"sk-label sk-toggleable\"><input class=\"sk-toggleable__control sk-hidden--visually\" id=\"3666c9a4-4308-4daa-9aa7-615ffc375dea\" type=\"checkbox\" ><label for=\"3666c9a4-4308-4daa-9aa7-615ffc375dea\" class=\"sk-toggleable__label sk-toggleable__label-arrow\">cat_pipe</label><div class=\"sk-toggleable__content\"><pre>&lt;sklearn.compose._column_transformer.make_column_selector object at 0x7ff0a99d1b50&gt;</pre></div></div></div><div class=\"sk-serial\"><div class=\"sk-item\"><div class=\"sk-serial\"><div class=\"sk-item\"><div class=\"sk-estimator sk-toggleable\"><input class=\"sk-toggleable__control sk-hidden--visually\" id=\"6dcd353e-879c-4c58-af98-6a1868003c85\" type=\"checkbox\" ><label for=\"6dcd353e-879c-4c58-af98-6a1868003c85\" class=\"sk-toggleable__label sk-toggleable__label-arrow\">SimpleImputer</label><div class=\"sk-toggleable__content\"><pre>SimpleImputer(strategy=&#x27;most_frequent&#x27;)</pre></div></div></div><div class=\"sk-item\"><div class=\"sk-estimator sk-toggleable\"><input class=\"sk-toggleable__control sk-hidden--visually\" id=\"4354593d-50cd-436b-90b2-200f5c661fab\" type=\"checkbox\" ><label for=\"4354593d-50cd-436b-90b2-200f5c661fab\" class=\"sk-toggleable__label sk-toggleable__label-arrow\">OneHotEncoder</label><div class=\"sk-toggleable__content\"><pre>OneHotEncoder(handle_unknown=&#x27;ignore&#x27;)</pre></div></div></div></div></div></div></div></div><div class=\"sk-parallel-item\"><div class=\"sk-item\"><div class=\"sk-label-container\"><div class=\"sk-label sk-toggleable\"><input class=\"sk-toggleable__control sk-hidden--visually\" id=\"894ba8dc-e33e-4d72-a3ec-ffee78f52998\" type=\"checkbox\" ><label for=\"894ba8dc-e33e-4d72-a3ec-ffee78f52998\" class=\"sk-toggleable__label sk-toggleable__label-arrow\">num_pipe</label><div class=\"sk-toggleable__content\"><pre>&lt;sklearn.compose._column_transformer.make_column_selector object at 0x7ff0a99b7590&gt;</pre></div></div></div><div class=\"sk-serial\"><div class=\"sk-item\"><div class=\"sk-serial\"><div class=\"sk-item\"><div class=\"sk-estimator sk-toggleable\"><input class=\"sk-toggleable__control sk-hidden--visually\" id=\"d778e1ef-ccf6-434c-83f9-2d42578b906b\" type=\"checkbox\" ><label for=\"d778e1ef-ccf6-434c-83f9-2d42578b906b\" class=\"sk-toggleable__label sk-toggleable__label-arrow\">SimpleImputer</label><div class=\"sk-toggleable__content\"><pre>SimpleImputer()</pre></div></div></div><div class=\"sk-item\"><div class=\"sk-estimator sk-toggleable\"><input class=\"sk-toggleable__control sk-hidden--visually\" id=\"c5b85840-adaf-4127-ac21-dbe4009dfa34\" type=\"checkbox\" ><label for=\"c5b85840-adaf-4127-ac21-dbe4009dfa34\" class=\"sk-toggleable__label sk-toggleable__label-arrow\">StandardScaler</label><div class=\"sk-toggleable__content\"><pre>StandardScaler()</pre></div></div></div></div></div></div></div></div><div class=\"sk-parallel-item\"><div class=\"sk-item\"><div class=\"sk-label-container\"><div class=\"sk-label sk-toggleable\"><input class=\"sk-toggleable__control sk-hidden--visually\" id=\"66be8891-2d81-4a91-98c8-7e532bd8dcae\" type=\"checkbox\" ><label for=\"66be8891-2d81-4a91-98c8-7e532bd8dcae\" class=\"sk-toggleable__label sk-toggleable__label-arrow\">remainder</label><div class=\"sk-toggleable__content\"><pre></pre></div></div></div><div class=\"sk-serial\"><div class=\"sk-item\"><div class=\"sk-estimator sk-toggleable\"><input class=\"sk-toggleable__control sk-hidden--visually\" id=\"cf9c7be3-8b5d-449e-a6f1-d64c5a901aa4\" type=\"checkbox\" ><label for=\"cf9c7be3-8b5d-449e-a6f1-d64c5a901aa4\" class=\"sk-toggleable__label sk-toggleable__label-arrow\">passthrough</label><div class=\"sk-toggleable__content\"><pre>passthrough</pre></div></div></div></div></div></div></div></div><div class=\"sk-item\"><div class=\"sk-estimator sk-toggleable\"><input class=\"sk-toggleable__control sk-hidden--visually\" id=\"e88b5847-31cd-4512-85f6-4bef5cc26f34\" type=\"checkbox\" ><label for=\"e88b5847-31cd-4512-85f6-4bef5cc26f34\" class=\"sk-toggleable__label sk-toggleable__label-arrow\">GradientBoostingClassifier</label><div class=\"sk-toggleable__content\"><pre>GradientBoostingClassifier()</pre></div></div></div></div></div></div></div>"
            ]
          },
          "metadata": {}
        }
      ],
      "source": [
        "# TODO: set up your modeling pipeline GradientBoosting\n",
        "pipeGradBoost = Pipeline(steps=[('preproc', preprocess),\n",
        "                       ('gbc', GradientBoostingClassifier())])\n",
        "\n",
        "\n",
        "# Feel free to uncomment and edit the code below to visualize your overall pipeline\n",
        "with config_context(display='diagram'):\n",
        "    display(pipeGradBoost)"
      ]
    },
    {
      "cell_type": "code",
      "execution_count": null,
      "metadata": {
        "id": "_w24fwEP7AEy"
      },
      "outputs": [],
      "source": [
        ""
      ]
    },
    {
      "cell_type": "markdown",
      "metadata": {
        "id": "tvXfBlX43Axt"
      },
      "source": [
        "## Cross-validation with hyperparameter tuning\n"
      ]
    },
    {
      "cell_type": "markdown",
      "metadata": {
        "id": "Oo-McGDG3GY1"
      },
      "source": [
        "LogisticalRegression"
      ]
    },
    {
      "cell_type": "code",
      "execution_count": 72,
      "metadata": {
        "colab": {
          "base_uri": "https://localhost:8080/"
        },
        "id": "oxMQaSTy3BeP",
        "outputId": "c419e6f1-e127-49a7-b99a-a7cea2e2befb"
      },
      "outputs": [
        {
          "output_type": "stream",
          "name": "stdout",
          "text": [
            "GridSearchCV(cv=5,\n",
            "             estimator=Pipeline(steps=[('preproc',\n",
            "                                        ColumnTransformer(remainder='passthrough',\n",
            "                                                          transformers=[('cat_pipe',\n",
            "                                                                         Pipeline(steps=[('cat_impute',\n",
            "                                                                                          SimpleImputer(strategy='most_frequent')),\n",
            "                                                                                         ('onehot_cat',\n",
            "                                                                                          OneHotEncoder(handle_unknown='ignore'))]),\n",
            "                                                                         <sklearn.compose._column_transformer.make_column_selector object at 0x7ff0a99d1b50>),\n",
            "                                                                        ('num_pipe',\n",
            "                                                                         Pipeli...\n",
            "                                                                                          SimpleImputer()),\n",
            "                                                                                         ('scale_num',\n",
            "                                                                                          StandardScaler())]),\n",
            "                                                                         <sklearn.compose._column_transformer.make_column_selector object at 0x7ff0a99b7590>)])),\n",
            "                                       ('mdl',\n",
            "                                        LogisticRegression(penalty='elasticnet',\n",
            "                                                           solver='saga',\n",
            "                                                           tol=0.01))]),\n",
            "             param_grid={'mdl__C': array([1.00000000e-01, 3.16227766e+02, 1.00000000e+06]),\n",
            "                         'mdl__l1_ratio': array([0.  , 0.25, 0.5 , 0.75, 1.  ])},\n",
            "             return_train_score=True)\n"
          ]
        }
      ],
      "source": [
        "# TODO: set up your tuning grid \n",
        "# grid_search_lr.get_params().keys()\n",
        "tuning_grid_lr = {'mdl__l1_ratio' : np.linspace(0,1,5),\n",
        "                           'mdl__C': np.logspace(-1, 6, 3) }\n",
        "grid_search_lr = GridSearchCV(pipeLR, param_grid = tuning_grid_lr, cv = 5, return_train_score=True)\n",
        "\n",
        "print(grid_search_lr)"
      ]
    },
    {
      "cell_type": "markdown",
      "metadata": {
        "id": "nf8DTQ9A3M9X"
      },
      "source": [
        "RandomForest"
      ]
    },
    {
      "cell_type": "code",
      "execution_count": 73,
      "metadata": {
        "id": "4OTlSLjG3O7K"
      },
      "outputs": [],
      "source": [
        "# TODO: set up your tuning grid\n",
        "# grid_search_rf.get_params().keys()\n",
        "tuning_grid_rf = param_grid = {'rf__n_estimators': [10, 50],\n",
        "                                        'rf__max_features': ['auto', 'sqrt', 'log2'],\n",
        "                                        'rf__max_depth' : [4,5,6],\n",
        "                                        'rf__criterion' :['gini', 'entropy']\n",
        "                                       }\n",
        "grid_search_rf = GridSearchCV(pipeRandForest, param_grid = tuning_grid_rf, cv = 5, return_train_score=True)"
      ]
    },
    {
      "cell_type": "markdown",
      "metadata": {
        "id": "tv31PuMb3QQU"
      },
      "source": [
        "GradientBoosting"
      ]
    },
    {
      "cell_type": "code",
      "execution_count": 74,
      "metadata": {
        "id": "UFxYVM4u3VDk"
      },
      "outputs": [],
      "source": [
        "# TODO: set up your tuning grid\n",
        "# grid_search_gb.get_params().keys()\n",
        "tuning_grid_gb = param_grid = {'gbc__learning_rate': [1, 0.5, 0.25],\n",
        "                                       'gbc__n_estimators': [64, 128, 256],\n",
        "                                       'gbc__max_depth': [2, 4],\n",
        "                                       'gbc__min_samples_split': [2, 4]\n",
        "                                      }\n",
        "grid_search_gb = GridSearchCV(pipeGradBoost, param_grid = tuning_grid_gb, cv = 5, return_train_score=True)"
      ]
    },
    {
      "cell_type": "markdown",
      "metadata": {
        "id": "i9pj2PQG5N-H"
      },
      "source": [
        "# Fitting"
      ]
    },
    {
      "cell_type": "code",
      "execution_count": 75,
      "metadata": {
        "colab": {
          "base_uri": "https://localhost:8080/"
        },
        "id": "31fWIxOg5QPr",
        "outputId": "c4087178-780a-4310-f2f1-f4e531404126"
      },
      "outputs": [
        {
          "output_type": "execute_result",
          "data": {
            "text/plain": [
              "GridSearchCV(cv=5,\n",
              "             estimator=Pipeline(steps=[('preproc',\n",
              "                                        ColumnTransformer(remainder='passthrough',\n",
              "                                                          transformers=[('cat_pipe',\n",
              "                                                                         Pipeline(steps=[('cat_impute',\n",
              "                                                                                          SimpleImputer(strategy='most_frequent')),\n",
              "                                                                                         ('onehot_cat',\n",
              "                                                                                          OneHotEncoder(handle_unknown='ignore'))]),\n",
              "                                                                         <sklearn.compose._column_transformer.make_column_selector object at 0x7ff0a99d1b50>),\n",
              "                                                                        ('num_pipe',\n",
              "                                                                         Pipeli...\n",
              "                                                                                          SimpleImputer()),\n",
              "                                                                                         ('scale_num',\n",
              "                                                                                          StandardScaler())]),\n",
              "                                                                         <sklearn.compose._column_transformer.make_column_selector object at 0x7ff0a99b7590>)])),\n",
              "                                       ('mdl',\n",
              "                                        LogisticRegression(penalty='elasticnet',\n",
              "                                                           solver='saga',\n",
              "                                                           tol=0.01))]),\n",
              "             param_grid={'mdl__C': array([1.00000000e-01, 3.16227766e+02, 1.00000000e+06]),\n",
              "                         'mdl__l1_ratio': array([0.  , 0.25, 0.5 , 0.75, 1.  ])},\n",
              "             return_train_score=True)"
            ]
          },
          "metadata": {},
          "execution_count": 75
        }
      ],
      "source": [
        "# Fit Logistic\n",
        "grid_search_lr.fit(X_train, y_train)"
      ]
    },
    {
      "cell_type": "code",
      "execution_count": null,
      "metadata": {
        "colab": {
          "background_save": true
        },
        "id": "-LSub8-j62DL",
        "outputId": "c35d3c5c-0a2c-440a-d478-e4fc84c50ad8"
      },
      "outputs": [
        {
          "data": {
            "text/plain": [
              "GridSearchCV(cv=5,\n",
              "             estimator=Pipeline(steps=[('preproc',\n",
              "                                        ColumnTransformer(remainder='passthrough',\n",
              "                                                          transformers=[('cat_pipe',\n",
              "                                                                         Pipeline(steps=[('cat_impute',\n",
              "                                                                                          SimpleImputer(strategy='most_frequent')),\n",
              "                                                                                         ('onehot_cat',\n",
              "                                                                                          OneHotEncoder(handle_unknown='ignore'))]),\n",
              "                                                                         <sklearn.compose._column_transformer.make_column_selector object at 0x7ff0a9a09dd0>),\n",
              "                                                                        ('num_pipe',\n",
              "                                                                         Pipeli...ps=[('impute_num',\n",
              "                                                                                          SimpleImputer()),\n",
              "                                                                                         ('scale_num',\n",
              "                                                                                          StandardScaler())]),\n",
              "                                                                         <sklearn.compose._column_transformer.make_column_selector object at 0x7ff0a9a09790>)])),\n",
              "                                       ('gbc', GradientBoostingClassifier())]),\n",
              "             param_grid={'gbc__learning_rate': [1, 0.5, 0.25],\n",
              "                         'gbc__max_depth': [2, 4],\n",
              "                         'gbc__min_samples_split': [2, 4],\n",
              "                         'gbc__n_estimators': [64, 128, 256]},\n",
              "             return_train_score=True)"
            ]
          },
          "execution_count": null,
          "metadata": {},
          "output_type": "execute_result"
        }
      ],
      "source": [
        "# Fit Gradient Boosting\n",
        "\n",
        "grid_search_gb.fit(X_train, y_train)"
      ]
    },
    {
      "cell_type": "code",
      "execution_count": 76,
      "metadata": {
        "colab": {
          "base_uri": "https://localhost:8080/"
        },
        "id": "anl0ujvZ60Jd",
        "outputId": "0b12f0db-17fb-4ee1-90a4-9106c93e7567"
      },
      "outputs": [
        {
          "output_type": "execute_result",
          "data": {
            "text/plain": [
              "GridSearchCV(cv=5,\n",
              "             estimator=Pipeline(steps=[('preproc',\n",
              "                                        ColumnTransformer(remainder='passthrough',\n",
              "                                                          transformers=[('cat_pipe',\n",
              "                                                                         Pipeline(steps=[('cat_impute',\n",
              "                                                                                          SimpleImputer(strategy='most_frequent')),\n",
              "                                                                                         ('onehot_cat',\n",
              "                                                                                          OneHotEncoder(handle_unknown='ignore'))]),\n",
              "                                                                         <sklearn.compose._column_transformer.make_column_selector object at 0x7ff0a99d1b50>),\n",
              "                                                                        ('num_pipe',\n",
              "                                                                         Pipeli...=[('impute_num',\n",
              "                                                                                          SimpleImputer()),\n",
              "                                                                                         ('scale_num',\n",
              "                                                                                          StandardScaler())]),\n",
              "                                                                         <sklearn.compose._column_transformer.make_column_selector object at 0x7ff0a99b7590>)])),\n",
              "                                       ('rf', RandomForestClassifier())]),\n",
              "             param_grid={'rf__criterion': ['gini', 'entropy'],\n",
              "                         'rf__max_depth': [4, 5, 6],\n",
              "                         'rf__max_features': ['auto', 'sqrt', 'log2'],\n",
              "                         'rf__n_estimators': [10, 50]},\n",
              "             return_train_score=True)"
            ]
          },
          "metadata": {},
          "execution_count": 76
        }
      ],
      "source": [
        "# Fit RandomRainForest\n",
        "grid_search_rf.fit(X_train, y_train)\n"
      ]
    },
    {
      "cell_type": "markdown",
      "metadata": {
        "id": "xOyXR60k3a9d"
      },
      "source": [
        "# Best Performing Model Parameters"
      ]
    },
    {
      "cell_type": "markdown",
      "metadata": {
        "id": "hUBnsNSZ3nEN"
      },
      "source": [
        "LogisticalRegression"
      ]
    },
    {
      "cell_type": "code",
      "execution_count": 77,
      "metadata": {
        "colab": {
          "base_uri": "https://localhost:8080/"
        },
        "id": "jg7xflhT3r2-",
        "outputId": "d2fceb7c-8ad6-4f0a-c1e6-4a7f8075a80a"
      },
      "outputs": [
        {
          "output_type": "stream",
          "name": "stdout",
          "text": [
            "LogisticRegression best score: 0.9428383351937676\n"
          ]
        },
        {
          "output_type": "execute_result",
          "data": {
            "text/plain": [
              "{'mdl__C': 316.22776601683796, 'mdl__l1_ratio': 0.0}"
            ]
          },
          "metadata": {},
          "execution_count": 77
        }
      ],
      "source": [
        "print(\"LogisticRegression best score:\", grid_search_lr.best_score_)\n",
        "grid_search_lr.best_params_"
      ]
    },
    {
      "cell_type": "markdown",
      "metadata": {
        "id": "RO04x1wz3weT"
      },
      "source": [
        "RandomForest"
      ]
    },
    {
      "cell_type": "code",
      "execution_count": 78,
      "metadata": {
        "colab": {
          "base_uri": "https://localhost:8080/"
        },
        "id": "g0o8DhEU3yVU",
        "outputId": "fc637b83-0d80-44e9-fc08-701063737170"
      },
      "outputs": [
        {
          "output_type": "stream",
          "name": "stdout",
          "text": [
            "RandomForest best score: 0.9400292764771768\n"
          ]
        },
        {
          "output_type": "execute_result",
          "data": {
            "text/plain": [
              "{'rf__criterion': 'gini',\n",
              " 'rf__max_depth': 6,\n",
              " 'rf__max_features': 'sqrt',\n",
              " 'rf__n_estimators': 50}"
            ]
          },
          "metadata": {},
          "execution_count": 78
        }
      ],
      "source": [
        "print(\"RandomForest best score:\", grid_search_rf.best_score_)\n",
        "grid_search_rf.best_params_"
      ]
    },
    {
      "cell_type": "markdown",
      "metadata": {
        "id": "40mJUrAJSuqD"
      },
      "source": [
        "# Final Fit"
      ]
    },
    {
      "cell_type": "markdown",
      "metadata": {
        "id": "OAWGGa67Sxh2"
      },
      "source": [
        "LogisticRegression"
      ]
    },
    {
      "cell_type": "code",
      "execution_count": 79,
      "metadata": {
        "colab": {
          "base_uri": "https://localhost:8080/"
        },
        "id": "QZ34gTP2S23l",
        "outputId": "2d832d0f-0316-41fc-e9fb-05d62fe08a29"
      },
      "outputs": [
        {
          "output_type": "execute_result",
          "data": {
            "text/plain": [
              "Pipeline(steps=[('preproc',\n",
              "                 ColumnTransformer(remainder='passthrough',\n",
              "                                   transformers=[('cat_pipe',\n",
              "                                                  Pipeline(steps=[('cat_impute',\n",
              "                                                                   SimpleImputer(strategy='most_frequent')),\n",
              "                                                                  ('onehot_cat',\n",
              "                                                                   OneHotEncoder(handle_unknown='ignore'))]),\n",
              "                                                  <sklearn.compose._column_transformer.make_column_selector object at 0x7ff0949d9410>),\n",
              "                                                 ('num_pipe',\n",
              "                                                  Pipeline(steps=[('impute_num',\n",
              "                                                                   SimpleImputer()),\n",
              "                                                                  ('scale_num',\n",
              "                                                                   StandardScaler())]),\n",
              "                                                  <sklearn.compose._column_transformer.make_column_selector object at 0x7ff0a99ca4d0>)])),\n",
              "                ('mdl',\n",
              "                 LogisticRegression(C=316.22776601683796, l1_ratio=0.0,\n",
              "                                    penalty='elasticnet', solver='saga',\n",
              "                                    tol=0.01))])"
            ]
          },
          "metadata": {},
          "execution_count": 79
        }
      ],
      "source": [
        "grid_search_lr.best_estimator_"
      ]
    },
    {
      "cell_type": "markdown",
      "metadata": {
        "id": "x3Px-gctS8b1"
      },
      "source": [
        "Random Forest"
      ]
    },
    {
      "cell_type": "code",
      "execution_count": 80,
      "metadata": {
        "colab": {
          "base_uri": "https://localhost:8080/"
        },
        "id": "TMMM2wiOTCpf",
        "outputId": "4392f8e5-a06c-4f59-e7d0-1319ed61a5dc"
      },
      "outputs": [
        {
          "output_type": "execute_result",
          "data": {
            "text/plain": [
              "Pipeline(steps=[('preproc',\n",
              "                 ColumnTransformer(remainder='passthrough',\n",
              "                                   transformers=[('cat_pipe',\n",
              "                                                  Pipeline(steps=[('cat_impute',\n",
              "                                                                   SimpleImputer(strategy='most_frequent')),\n",
              "                                                                  ('onehot_cat',\n",
              "                                                                   OneHotEncoder(handle_unknown='ignore'))]),\n",
              "                                                  <sklearn.compose._column_transformer.make_column_selector object at 0x7ff08dfbd690>),\n",
              "                                                 ('num_pipe',\n",
              "                                                  Pipeline(steps=[('impute_num',\n",
              "                                                                   SimpleImputer()),\n",
              "                                                                  ('scale_num',\n",
              "                                                                   StandardScaler())]),\n",
              "                                                  <sklearn.compose._column_transformer.make_column_selector object at 0x7ff09acd4350>)])),\n",
              "                ('rf',\n",
              "                 RandomForestClassifier(max_depth=6, max_features='sqrt',\n",
              "                                        n_estimators=50))])"
            ]
          },
          "metadata": {},
          "execution_count": 80
        }
      ],
      "source": [
        "grid_search_rf.best_estimator_"
      ]
    },
    {
      "cell_type": "markdown",
      "metadata": {
        "id": "N8zCOBR7TNhU"
      },
      "source": [
        "# Variable Importantance"
      ]
    },
    {
      "cell_type": "markdown",
      "metadata": {
        "id": "IgIDxjKkTY3n"
      },
      "source": [
        "LogisticRegression"
      ]
    },
    {
      "cell_type": "code",
      "execution_count": 81,
      "metadata": {
        "colab": {
          "base_uri": "https://localhost:8080/"
        },
        "id": "C3H4y5gPTbfE",
        "outputId": "9b5b09d0-b014-4358-a714-c55332c6b0f5"
      },
      "outputs": [
        {
          "output_type": "execute_result",
          "data": {
            "text/plain": [
              "array(['No', 'Yes'], dtype=object)"
            ]
          },
          "metadata": {},
          "execution_count": 81
        }
      ],
      "source": [
        "grid_search_lr.classes_"
      ]
    },
    {
      "cell_type": "code",
      "execution_count": 82,
      "metadata": {
        "colab": {
          "base_uri": "https://localhost:8080/"
        },
        "id": "fdaeNbVaTjVs",
        "outputId": "a127d7fe-85fe-4cdc-dfba-45b2e2f6516e"
      },
      "outputs": [
        {
          "output_type": "execute_result",
          "data": {
            "text/plain": [
              "array([-2.35436973e+00, -1.07528388e-01, -6.26847559e-02, -2.92068563e-03,\n",
              "       -4.10886046e-01, -3.31043969e-01, -2.85184994e-01, -5.43399420e-01,\n",
              "       -3.67013265e-01, -2.78491458e+00, -4.88633016e-02, -4.01372423e-02,\n",
              "       -2.45935686e+00, -5.10003399e-03, -5.61053143e-02, -2.36351736e+00,\n",
              "       -4.83776506e-02, -3.13897768e-03, -5.56876817e-02, -2.33617860e+00,\n",
              "       -1.61283883e-02, -2.67527920e-02, -4.98598669e-02, -1.28950619e-01,\n",
              "       -5.88133379e-01, -2.07049238e-01, -1.75611114e-01,  5.55051171e-01,\n",
              "       -3.18406819e-02, -1.81670135e-01, -1.30731228e-02, -1.87238548e-01,\n",
              "       -2.80824017e-01, -4.94881223e-01, -5.14338969e-02, -1.52155103e-02,\n",
              "       -4.76335744e-02, -1.97564165e-02, -7.34523809e-02, -8.78229077e-01,\n",
              "       -4.70174918e-01, -3.70964862e-01, -3.06712719e-01, -6.72594107e-02,\n",
              "       -2.51228498e-01, -3.74440093e-01,  8.45411040e-02, -4.02293454e-01,\n",
              "       -2.10616240e-01, -3.24759076e-01, -6.23217841e-02, -5.43569092e-01,\n",
              "        2.09963093e-01, -2.98981469e-01, -3.33971637e-01, -5.09000800e-01,\n",
              "       -3.08597810e-01, -7.58416821e-02,  1.88339547e-02, -4.72299197e-01,\n",
              "       -2.01242441e-01, -2.66068450e-02, -4.29871024e-02, -1.03503046e-01,\n",
              "       -6.69710374e-02,  2.57195080e-03, -2.29366524e-01, -4.01497701e-01,\n",
              "       -2.81493731e-01, -4.74211561e-01, -1.24648446e-01, -5.54286994e-01,\n",
              "        1.06291433e-01, -3.81982339e-01, -3.71729898e-01, -1.28210584e-01,\n",
              "       -8.21999101e-02, -2.93667941e-01, -4.77672720e-02, -7.76558651e-02,\n",
              "       -5.49830792e-02,  9.39021455e-02, -2.15911675e-01, -3.61798587e-01,\n",
              "       -1.20566928e+00, -1.98314590e-01, -2.88630063e-01, -8.88720984e-02,\n",
              "       -2.94656128e-01, -5.99614632e-02, -3.22432375e-01, -9.10205019e-02,\n",
              "       -4.41186263e-01, -6.76876592e-01, -1.74386969e-01,  5.42952622e-03,\n",
              "        5.59088501e-02,  4.68022714e-01,  2.79463960e-01, -1.83154199e-01,\n",
              "        5.14325235e-02,  2.16560511e-02, -6.21420731e-02, -1.35225920e-03,\n",
              "        3.18781104e-01, -1.39322079e-01,  9.13906697e-02,  1.54755134e-01,\n",
              "        2.38508116e-01,  1.39589759e-01,  1.56293231e-01, -2.50204356e-02,\n",
              "       -1.47468000e-01,  2.73275828e-01,  5.06162655e-01, -2.28755137e-01,\n",
              "        1.29150045e-01, -1.13497117e-01,  2.58743268e-01])"
            ]
          },
          "metadata": {},
          "execution_count": 82
        }
      ],
      "source": [
        "vip_lr = grid_search_lr.best_estimator_['mdl'].coef_[0]\n",
        "vip_lr"
      ]
    },
    {
      "cell_type": "code",
      "execution_count": 83,
      "metadata": {
        "id": "97FUvgHBTqxu",
        "colab": {
          "base_uri": "https://localhost:8080/",
          "height": 1000
        },
        "outputId": "ec77b1ac-5133-477a-9186-03c2f401f795"
      },
      "outputs": [
        {
          "output_type": "stream",
          "name": "stdout",
          "text": [
            "['x0_C' 'x0_C-F' 'x0_C-PF' 'x0_C-SF' 'x0_F' 'x0_F-C' 'x0_F-G' 'x0_G'\n",
            " 'x0_G-F' 'x0_PF' 'x0_PF-C' 'x0_PF-SF' 'x0_PG' 'x0_PG-SF' 'x0_PG-SG'\n",
            " 'x0_SF' 'x0_SF-PF' 'x0_SF-PG' 'x0_SF-SG' 'x0_SG' 'x0_SG-PF' 'x0_SG-PG'\n",
            " 'x0_SG-SF' 'x1_AND' 'x1_ATL' 'x1_BAL' 'x1_BLB' 'x1_BOS' 'x1_BRK' 'x1_BUF'\n",
            " 'x1_CAP' 'x1_CHA' 'x1_CHH' 'x1_CHI' 'x1_CHO' 'x1_CHP' 'x1_CHS' 'x1_CHZ'\n",
            " 'x1_CIN' 'x1_CLE' 'x1_DAL' 'x1_DEN' 'x1_DET' 'x1_DNN' 'x1_FTW' 'x1_GSW'\n",
            " 'x1_HOU' 'x1_IND' 'x1_INO' 'x1_KCK' 'x1_KCO' 'x1_LAC' 'x1_LAL' 'x1_MEM'\n",
            " 'x1_MIA' 'x1_MIL' 'x1_MIN' 'x1_MLH' 'x1_MNL' 'x1_NJN' 'x1_NOH' 'x1_NOJ'\n",
            " 'x1_NOK' 'x1_NOP' 'x1_NYK' 'x1_NYN' 'x1_OKC' 'x1_ORL' 'x1_PHI' 'x1_PHO'\n",
            " 'x1_PHW' 'x1_POR' 'x1_ROC' 'x1_SAC' 'x1_SAS' 'x1_SDC' 'x1_SDR' 'x1_SEA'\n",
            " 'x1_SFW' 'x1_SHE' 'x1_STB' 'x1_STL' 'x1_SYR' 'x1_TOR' 'x1_TOT' 'x1_TRI'\n",
            " 'x1_UTA' 'x1_VAN' 'x1_WAS' 'x1_WAT' 'x1_WSB' 'x1_WSC']\n",
            "['Year', 'G', 'GS', 'FTr', 'BLK%', 'DWS', 'FG', 'FGA', 'FG%', '3P', '3PA', '3P%', '2P', '2PA', '2P%', 'eFG%', 'FT', 'FTA', 'FT%', 'ORB', 'DRB', 'TRB', 'AST', 'STL', 'BLK', 'TOV', 'PTS']\n",
            "[('cat_pipe', Pipeline(steps=[('cat_impute', SimpleImputer(strategy='most_frequent')),\n",
            "                ('onehot_cat', OneHotEncoder(handle_unknown='ignore'))]), ['Pos', 'Tm']), ('num_pipe', Pipeline(steps=[('impute_num', SimpleImputer()),\n",
            "                ('scale_num', StandardScaler())]), ['Year', 'G', 'GS', 'FTr', 'BLK%', 'DWS', 'FG', 'FGA', 'FG%', '3P', '3PA', '3P%', '2P', '2PA', '2P%', 'eFG%', 'FT', 'FTA', 'FT%', 'ORB', 'DRB', 'TRB', 'AST', 'STL', 'BLK', 'TOV', 'PTS'])]\n"
          ]
        },
        {
          "output_type": "execute_result",
          "data": {
            "text/plain": [
              "<matplotlib.axes._subplots.AxesSubplot at 0x7ff0a9a2e990>"
            ]
          },
          "metadata": {},
          "execution_count": 83
        },
        {
          "output_type": "display_data",
          "data": {
            "text/plain": [
              "<Figure size 1080x1224 with 1 Axes>"
            ],
            "image/png": "[encoded data removed]"
          },
          "metadata": {
            "needs_background": "light"
          }
        }
      ],
      "source": [
        "\n",
        "#get names in correct preproc order\n",
        "cat_names = grid_search_lr.best_estimator_.named_steps['preproc'].transformers_[0][1].named_steps['onehot_cat'].get_feature_names_out()\n",
        "num_names = grid_search_lr.best_estimator_.named_steps['preproc'].transformers_[1][2]\n",
        "#create df with vip info\n",
        "print(cat_names)\n",
        "print(num_names)\n",
        "print(grid_search_lr.best_estimator_.named_steps['preproc'].transformers_)\n",
        "coef_info = pd.DataFrame({'feat_names':np.hstack([cat_names, num_names]), 'vip': vip_lr})\n",
        "\n",
        "#get sign and magnitude information\n",
        "coef_info = coef_info.assign(coef_mag = abs(coef_info['vip']),\n",
        "                             coef_sign = np.sign(coef_info['vip']))\n",
        "\n",
        "\n",
        "coef_info = coef_info.set_index('feat_names').sort_values(by='coef_mag', ascending=False)\n",
        "plt.figure(figsize = (15,17))\n",
        "sns.barplot(y=coef_info.index, x='coef_mag', hue='coef_sign', data=coef_info, orient='h', dodge=False)"
      ]
    },
    {
      "cell_type": "markdown",
      "metadata": {
        "id": "kNWv92OjUjmM"
      },
      "source": [
        "Random Forest"
      ]
    },
    {
      "cell_type": "code",
      "execution_count": 84,
      "metadata": {
        "colab": {
          "base_uri": "https://localhost:8080/"
        },
        "id": "6M1tflZFU0tz",
        "outputId": "12138f4c-855e-423f-f07f-de7e202b1db6"
      },
      "outputs": [
        {
          "output_type": "execute_result",
          "data": {
            "text/plain": [
              "array(['No', 'Yes'], dtype=object)"
            ]
          },
          "metadata": {},
          "execution_count": 84
        }
      ],
      "source": [
        "grid_search_rf.classes_"
      ]
    },
    {
      "cell_type": "code",
      "execution_count": 85,
      "metadata": {
        "colab": {
          "base_uri": "https://localhost:8080/"
        },
        "id": "5j2brxnuU9bV",
        "outputId": "9b0dd589-5e6b-4727-d5ca-6cbe75f8dbc2"
      },
      "outputs": [
        {
          "output_type": "stream",
          "name": "stdout",
          "text": [
            "GridSearchCV(cv=5,\n",
            "             estimator=Pipeline(steps=[('preproc',\n",
            "                                        ColumnTransformer(remainder='passthrough',\n",
            "                                                          transformers=[('cat_pipe',\n",
            "                                                                         Pipeline(steps=[('cat_impute',\n",
            "                                                                                          SimpleImputer(strategy='most_frequent')),\n",
            "                                                                                         ('onehot_cat',\n",
            "                                                                                          OneHotEncoder(handle_unknown='ignore'))]),\n",
            "                                                                         <sklearn.compose._column_transformer.make_column_selector object at 0x7ff0a99d1b50>),\n",
            "                                                                        ('num_pipe',\n",
            "                                                                         Pipeli...=[('impute_num',\n",
            "                                                                                          SimpleImputer()),\n",
            "                                                                                         ('scale_num',\n",
            "                                                                                          StandardScaler())]),\n",
            "                                                                         <sklearn.compose._column_transformer.make_column_selector object at 0x7ff0a99b7590>)])),\n",
            "                                       ('rf', RandomForestClassifier())]),\n",
            "             param_grid={'rf__criterion': ['gini', 'entropy'],\n",
            "                         'rf__max_depth': [4, 5, 6],\n",
            "                         'rf__max_features': ['auto', 'sqrt', 'log2'],\n",
            "                         'rf__n_estimators': [10, 50]},\n",
            "             return_train_score=True)\n"
          ]
        }
      ],
      "source": [
        "vip_rf = grid_search_rf.best_estimator_['rf']\n",
        "vip_rf\n",
        "\n",
        "print(grid_search_rf)"
      ]
    },
    {
      "cell_type": "code",
      "execution_count": 88,
      "metadata": {
        "colab": {
          "base_uri": "https://localhost:8080/",
          "height": 389
        },
        "id": "kRzBp8PKVE_c",
        "outputId": "d41fab2c-39c2-4ff9-94d0-4fd4f7a82a40"
      },
      "outputs": [
        {
          "output_type": "error",
          "ename": "ValueError",
          "evalue": "ignored",
          "traceback": [
            "\u001b[0;31m---------------------------------------------------------------------------\u001b[0m",
            "\u001b[0;31mValueError\u001b[0m                                Traceback (most recent call last)",
            "\u001b[0;32m<ipython-input-88-84f548d6b8cb>\u001b[0m in \u001b[0;36m<module>\u001b[0;34m()\u001b[0m\n\u001b[1;32m     11\u001b[0m \u001b[0;31m#print(num_names)\u001b[0m\u001b[0;34m\u001b[0m\u001b[0;34m\u001b[0m\u001b[0;34m\u001b[0m\u001b[0m\n\u001b[1;32m     12\u001b[0m \u001b[0;34m\u001b[0m\u001b[0m\n\u001b[0;32m---> 13\u001b[0;31m \u001b[0mcoef_info\u001b[0m \u001b[0;34m=\u001b[0m \u001b[0mpd\u001b[0m\u001b[0;34m.\u001b[0m\u001b[0mDataFrame\u001b[0m\u001b[0;34m(\u001b[0m\u001b[0;34m{\u001b[0m\u001b[0;34m'feat_names'\u001b[0m\u001b[0;34m:\u001b[0m\u001b[0mnp\u001b[0m\u001b[0;34m.\u001b[0m\u001b[0mhstack\u001b[0m\u001b[0;34m(\u001b[0m\u001b[0;34m[\u001b[0m\u001b[0mcat_names\u001b[0m\u001b[0;34m,\u001b[0m \u001b[0mnum_names\u001b[0m\u001b[0;34m]\u001b[0m\u001b[0;34m)\u001b[0m\u001b[0;34m,\u001b[0m \u001b[0;34m'vip'\u001b[0m\u001b[0;34m:\u001b[0m \u001b[0mvip_rf\u001b[0m\u001b[0;34m}\u001b[0m\u001b[0;34m)\u001b[0m\u001b[0;34m\u001b[0m\u001b[0;34m\u001b[0m\u001b[0m\n\u001b[0m\u001b[1;32m     14\u001b[0m \u001b[0;34m\u001b[0m\u001b[0m\n\u001b[1;32m     15\u001b[0m \u001b[0;31m#get sign and magnitude information\u001b[0m\u001b[0;34m\u001b[0m\u001b[0;34m\u001b[0m\u001b[0;34m\u001b[0m\u001b[0m\n",
            "\u001b[0;32m/usr/local/lib/python3.7/dist-packages/pandas/core/frame.py\u001b[0m in \u001b[0;36m__init__\u001b[0;34m(self, data, index, columns, dtype, copy)\u001b[0m\n\u001b[1;32m    612\u001b[0m         \u001b[0;32melif\u001b[0m \u001b[0misinstance\u001b[0m\u001b[0;34m(\u001b[0m\u001b[0mdata\u001b[0m\u001b[0;34m,\u001b[0m \u001b[0mdict\u001b[0m\u001b[0;34m)\u001b[0m\u001b[0;34m:\u001b[0m\u001b[0;34m\u001b[0m\u001b[0;34m\u001b[0m\u001b[0m\n\u001b[1;32m    613\u001b[0m             \u001b[0;31m# GH#38939 de facto copy defaults to False only in non-dict cases\u001b[0m\u001b[0;34m\u001b[0m\u001b[0;34m\u001b[0m\u001b[0;34m\u001b[0m\u001b[0m\n\u001b[0;32m--> 614\u001b[0;31m             \u001b[0mmgr\u001b[0m \u001b[0;34m=\u001b[0m \u001b[0mdict_to_mgr\u001b[0m\u001b[0;34m(\u001b[0m\u001b[0mdata\u001b[0m\u001b[0;34m,\u001b[0m \u001b[0mindex\u001b[0m\u001b[0;34m,\u001b[0m \u001b[0mcolumns\u001b[0m\u001b[0;34m,\u001b[0m \u001b[0mdtype\u001b[0m\u001b[0;34m=\u001b[0m\u001b[0mdtype\u001b[0m\u001b[0;34m,\u001b[0m \u001b[0mcopy\u001b[0m\u001b[0;34m=\u001b[0m\u001b[0mcopy\u001b[0m\u001b[0;34m,\u001b[0m \u001b[0mtyp\u001b[0m\u001b[0;34m=\u001b[0m\u001b[0mmanager\u001b[0m\u001b[0;34m)\u001b[0m\u001b[0;34m\u001b[0m\u001b[0;34m\u001b[0m\u001b[0m\n\u001b[0m\u001b[1;32m    615\u001b[0m         \u001b[0;32melif\u001b[0m \u001b[0misinstance\u001b[0m\u001b[0;34m(\u001b[0m\u001b[0mdata\u001b[0m\u001b[0;34m,\u001b[0m \u001b[0mma\u001b[0m\u001b[0;34m.\u001b[0m\u001b[0mMaskedArray\u001b[0m\u001b[0;34m)\u001b[0m\u001b[0;34m:\u001b[0m\u001b[0;34m\u001b[0m\u001b[0;34m\u001b[0m\u001b[0m\n\u001b[1;32m    616\u001b[0m             \u001b[0;32mimport\u001b[0m \u001b[0mnumpy\u001b[0m\u001b[0;34m.\u001b[0m\u001b[0mma\u001b[0m\u001b[0;34m.\u001b[0m\u001b[0mmrecords\u001b[0m \u001b[0;32mas\u001b[0m \u001b[0mmrecords\u001b[0m\u001b[0;34m\u001b[0m\u001b[0;34m\u001b[0m\u001b[0m\n",
            "\u001b[0;32m/usr/local/lib/python3.7/dist-packages/pandas/core/internals/construction.py\u001b[0m in \u001b[0;36mdict_to_mgr\u001b[0;34m(data, index, columns, dtype, typ, copy)\u001b[0m\n\u001b[1;32m    463\u001b[0m \u001b[0;34m\u001b[0m\u001b[0m\n\u001b[1;32m    464\u001b[0m     return arrays_to_mgr(\n\u001b[0;32m--> 465\u001b[0;31m         \u001b[0marrays\u001b[0m\u001b[0;34m,\u001b[0m \u001b[0mdata_names\u001b[0m\u001b[0;34m,\u001b[0m \u001b[0mindex\u001b[0m\u001b[0;34m,\u001b[0m \u001b[0mcolumns\u001b[0m\u001b[0;34m,\u001b[0m \u001b[0mdtype\u001b[0m\u001b[0;34m=\u001b[0m\u001b[0mdtype\u001b[0m\u001b[0;34m,\u001b[0m \u001b[0mtyp\u001b[0m\u001b[0;34m=\u001b[0m\u001b[0mtyp\u001b[0m\u001b[0;34m,\u001b[0m \u001b[0mconsolidate\u001b[0m\u001b[0;34m=\u001b[0m\u001b[0mcopy\u001b[0m\u001b[0;34m\u001b[0m\u001b[0;34m\u001b[0m\u001b[0m\n\u001b[0m\u001b[1;32m    466\u001b[0m     )\n\u001b[1;32m    467\u001b[0m \u001b[0;34m\u001b[0m\u001b[0m\n",
            "\u001b[0;32m/usr/local/lib/python3.7/dist-packages/pandas/core/internals/construction.py\u001b[0m in \u001b[0;36marrays_to_mgr\u001b[0;34m(arrays, arr_names, index, columns, dtype, verify_integrity, typ, consolidate)\u001b[0m\n\u001b[1;32m    117\u001b[0m         \u001b[0;31m# figure out the index, if necessary\u001b[0m\u001b[0;34m\u001b[0m\u001b[0;34m\u001b[0m\u001b[0;34m\u001b[0m\u001b[0m\n\u001b[1;32m    118\u001b[0m         \u001b[0;32mif\u001b[0m \u001b[0mindex\u001b[0m \u001b[0;32mis\u001b[0m \u001b[0;32mNone\u001b[0m\u001b[0;34m:\u001b[0m\u001b[0;34m\u001b[0m\u001b[0;34m\u001b[0m\u001b[0m\n\u001b[0;32m--> 119\u001b[0;31m             \u001b[0mindex\u001b[0m \u001b[0;34m=\u001b[0m \u001b[0m_extract_index\u001b[0m\u001b[0;34m(\u001b[0m\u001b[0marrays\u001b[0m\u001b[0;34m)\u001b[0m\u001b[0;34m\u001b[0m\u001b[0;34m\u001b[0m\u001b[0m\n\u001b[0m\u001b[1;32m    120\u001b[0m         \u001b[0;32melse\u001b[0m\u001b[0;34m:\u001b[0m\u001b[0;34m\u001b[0m\u001b[0;34m\u001b[0m\u001b[0m\n\u001b[1;32m    121\u001b[0m             \u001b[0mindex\u001b[0m \u001b[0;34m=\u001b[0m \u001b[0mensure_index\u001b[0m\u001b[0;34m(\u001b[0m\u001b[0mindex\u001b[0m\u001b[0;34m)\u001b[0m\u001b[0;34m\u001b[0m\u001b[0;34m\u001b[0m\u001b[0m\n",
            "\u001b[0;32m/usr/local/lib/python3.7/dist-packages/pandas/core/internals/construction.py\u001b[0m in \u001b[0;36m_extract_index\u001b[0;34m(data)\u001b[0m\n\u001b[1;32m    633\u001b[0m             \u001b[0mlengths\u001b[0m \u001b[0;34m=\u001b[0m \u001b[0mlist\u001b[0m\u001b[0;34m(\u001b[0m\u001b[0mset\u001b[0m\u001b[0;34m(\u001b[0m\u001b[0mraw_lengths\u001b[0m\u001b[0;34m)\u001b[0m\u001b[0;34m)\u001b[0m\u001b[0;34m\u001b[0m\u001b[0;34m\u001b[0m\u001b[0m\n\u001b[1;32m    634\u001b[0m             \u001b[0;32mif\u001b[0m \u001b[0mlen\u001b[0m\u001b[0;34m(\u001b[0m\u001b[0mlengths\u001b[0m\u001b[0;34m)\u001b[0m \u001b[0;34m>\u001b[0m \u001b[0;36m1\u001b[0m\u001b[0;34m:\u001b[0m\u001b[0;34m\u001b[0m\u001b[0;34m\u001b[0m\u001b[0m\n\u001b[0;32m--> 635\u001b[0;31m                 \u001b[0;32mraise\u001b[0m \u001b[0mValueError\u001b[0m\u001b[0;34m(\u001b[0m\u001b[0;34m\"All arrays must be of the same length\"\u001b[0m\u001b[0;34m)\u001b[0m\u001b[0;34m\u001b[0m\u001b[0;34m\u001b[0m\u001b[0m\n\u001b[0m\u001b[1;32m    636\u001b[0m \u001b[0;34m\u001b[0m\u001b[0m\n\u001b[1;32m    637\u001b[0m             \u001b[0;32mif\u001b[0m \u001b[0mhave_dicts\u001b[0m\u001b[0;34m:\u001b[0m\u001b[0;34m\u001b[0m\u001b[0;34m\u001b[0m\u001b[0m\n",
            "\u001b[0;31mValueError\u001b[0m: All arrays must be of the same length"
          ]
        }
      ],
      "source": [
        "# TODO: feel free to uncomment and edit the code below to obtain your feature importance graph. \n",
        "# Did the graph surprise you? What features did you think were more important?\n",
        "\n",
        "\n",
        "#get names in correct preproc order\n",
        "cat_names = grid_search_rf.best_estimator_.named_steps['preproc'].transformers_[0][1]\n",
        "num_names = grid_search_rf.best_estimator_.named_steps['preproc'].transformers_[1][2]\n",
        "\n",
        "#create df with vip info\n",
        "#print(cat_names)\n",
        "#print(num_names)\n",
        "\n",
        "coef_info = pd.DataFrame({'feat_names':np.hstack([cat_names, num_names]), 'vip': vip_rf})\n",
        "\n",
        "#get sign and magnitude information\n",
        "#coef_info = coef_info.assign(coef_mag = abs(coef_info['vip']),\n",
        "                             #coef_sign = np.sign(coef_info['vip']))\n",
        "\n",
        "#sort and plot\n",
        "#coef_info = coef_info.set_index('feat_names').sort_values(by='coef_mag', ascending=False)\n",
        "#plt.figure(figsize = (17,15))\n",
        "#sns.barplot(y=coef_info.index, x='coef_mag', hue='coef_sign', data=coef_info, orient='h', dodge=False)"
      ]
    },
    {
      "cell_type": "markdown",
      "metadata": {
        "id": "1kVcnWlFoGo_"
      },
      "source": [
        "## Performance metrics on test data"
      ]
    },
    {
      "cell_type": "code",
      "execution_count": 89,
      "metadata": {
        "colab": {
          "base_uri": "https://localhost:8080/"
        },
        "id": "Ez6vAv6PoIFD",
        "outputId": "cc072085-5548-4a7f-a0df-340d46535757"
      },
      "outputs": [
        {
          "output_type": "stream",
          "name": "stdout",
          "text": [
            "              precision    recall  f1-score   support\n",
            "\n",
            "          No       0.95      0.99      0.97      5707\n",
            "         Yes       0.72      0.39      0.51       463\n",
            "\n",
            "    accuracy                           0.94      6170\n",
            "   macro avg       0.84      0.69      0.74      6170\n",
            "weighted avg       0.93      0.94      0.93      6170\n",
            "\n"
          ]
        }
      ],
      "source": [
        "print(classification_report(y_test, grid_search_lr.best_estimator_.predict(X_test)))"
      ]
    },
    {
      "cell_type": "markdown",
      "metadata": {
        "id": "pr4rbCS_oR6t"
      },
      "source": [
        "Confusion Matrix"
      ]
    },
    {
      "cell_type": "code",
      "execution_count": 90,
      "metadata": {
        "id": "vW2ZcJiroUoE",
        "colab": {
          "base_uri": "https://localhost:8080/",
          "height": 279
        },
        "outputId": "649f9143-8fe7-41ec-b644-d052a047500b"
      },
      "outputs": [
        {
          "output_type": "display_data",
          "data": {
            "text/plain": [
              "<Figure size 432x288 with 2 Axes>"
            ],
            "image/png": "[encoded data removed]"
          },
          "metadata": {
            "needs_background": "light"
          }
        }
      ],
      "source": [
        "# TODO: plot the confusion matrix graph\n",
        "confMatrix_lr = confusion_matrix(y_test, grid_search_lr.best_estimator_.predict(X_test))\n",
        "confMatrixDisplay = ConfusionMatrixDisplay(confusion_matrix=confMatrix_lr, \n",
        "                                           display_labels=grid_search_lr.classes_)\n",
        "confMatrixDisplay.plot()\n",
        "plt.show()"
      ]
    },
    {
      "cell_type": "markdown",
      "source": [
        "Accuracy"
      ],
      "metadata": {
        "id": "ICaSiiBETq6I"
      }
    },
    {
      "cell_type": "code",
      "source": [
        "#     TP+TN/\n",
        "#   TP+TN+FP+FN\n",
        "numerator = 202+5650\n",
        "denominator = 202+5650+261+57\n",
        "\n",
        "accuracy = numerator/denominator\n",
        "format_float = \"{:.2f}\".format(accuracy*100)\n",
        "print('Accurancy', format_float,'%')"
      ],
      "metadata": {
        "colab": {
          "base_uri": "https://localhost:8080/"
        },
        "id": "X0qLcuNNTw0e",
        "outputId": "f3212c5b-bc20-46fa-ae93-1cef317c9124"
      },
      "execution_count": 61,
      "outputs": [
        {
          "output_type": "stream",
          "name": "stdout",
          "text": [
            "Accurancy 94.85 %\n"
          ]
        }
      ]
    }
  ],
  "metadata": {
    "colab": {
      "collapsed_sections": [],
      "name": "Assignment05-bray_hof_template.ipynb",
      "provenance": [],
      "mount_file_id": "1D7lL00bM3LFe-ceDHkYUdxxXNzBWY_gE",
      "authorship_tag": "ABX9TyMkxBTsOCSMD4DGiYvNfFuA",
      "include_colab_link": true
    },
    "kernelspec": {
      "display_name": "Python 3",
      "name": "python3"
    },
    "language_info": {
      "name": "python"
    }
  },
  "nbformat": 4,
  "nbformat_minor": 0
}